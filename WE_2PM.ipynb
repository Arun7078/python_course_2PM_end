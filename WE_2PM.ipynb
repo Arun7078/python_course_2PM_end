{
  "nbformat": 4,
  "nbformat_minor": 0,
  "metadata": {
    "colab": {
      "provenance": []
    },
    "kernelspec": {
      "name": "python3",
      "display_name": "Python 3"
    },
    "language_info": {
      "name": "python"
    },
    "gpuClass": "standard"
  },
  "cells": [
    {
      "cell_type": "code",
      "execution_count": 1,
      "metadata": {
        "colab": {
          "base_uri": "https://localhost:8080/"
        },
        "id": "oyVYyumcplhh",
        "outputId": "0662a08b-3ace-4e26-b93a-9861a7c57d44"
      },
      "outputs": [
        {
          "output_type": "stream",
          "name": "stdout",
          "text": [
            "hello world\n"
          ]
        }
      ],
      "source": [
        "print(\"hello world\")\n"
      ]
    },
    {
      "cell_type": "markdown",
      "source": [
        "# Date=21/08/2022"
      ],
      "metadata": {
        "id": "H90IV5jMuTzl"
      }
    },
    {
      "cell_type": "code",
      "source": [
        "print(\"Hello world\")"
      ],
      "metadata": {
        "colab": {
          "base_uri": "https://localhost:8080/"
        },
        "id": "3tSPmwBDhTJh",
        "outputId": "e1da23c2-8f53-4bb1-c6b4-39522407f9ad"
      },
      "execution_count": 2,
      "outputs": [
        {
          "output_type": "stream",
          "name": "stdout",
          "text": [
            "Hello world\n"
          ]
        }
      ]
    },
    {
      "cell_type": "code",
      "source": [
        "print('hello world')"
      ],
      "metadata": {
        "colab": {
          "base_uri": "https://localhost:8080/"
        },
        "id": "NlkPUlSthzaU",
        "outputId": "072a325c-be2b-4bef-e2d6-143dd8c5015b"
      },
      "execution_count": 3,
      "outputs": [
        {
          "output_type": "stream",
          "name": "stdout",
          "text": [
            "hello world\n"
          ]
        }
      ]
    },
    {
      "cell_type": "code",
      "source": [],
      "metadata": {
        "id": "QbhVhbhyjN_F"
      },
      "execution_count": 3,
      "outputs": []
    },
    {
      "cell_type": "code",
      "source": [
        "print(\"\"\"Hello \n",
        "           \n",
        "           \n",
        "           \n",
        "            world\"\"\")"
      ],
      "metadata": {
        "colab": {
          "base_uri": "https://localhost:8080/"
        },
        "id": "OIFiUGPeiAS-",
        "outputId": "43b3cf1e-1229-4adb-a0e4-fc8024b35db5"
      },
      "execution_count": 4,
      "outputs": [
        {
          "output_type": "stream",
          "name": "stdout",
          "text": [
            "Hello \n",
            "           \n",
            "           \n",
            "           \n",
            "            world\n"
          ]
        }
      ]
    },
    {
      "cell_type": "code",
      "source": [
        "print('''Hello \n",
        "world''')"
      ],
      "metadata": {
        "colab": {
          "base_uri": "https://localhost:8080/"
        },
        "id": "snDzsRxsiDRP",
        "outputId": "1f8b9f3c-c563-45b6-9798-a7eed1b8c928"
      },
      "execution_count": 5,
      "outputs": [
        {
          "output_type": "stream",
          "name": "stdout",
          "text": [
            "Hello \n",
            "world\n"
          ]
        }
      ]
    },
    {
      "cell_type": "code",
      "source": [
        "print('krishna','rahul','mohan')"
      ],
      "metadata": {
        "colab": {
          "base_uri": "https://localhost:8080/"
        },
        "id": "5CYz32EkiF3Q",
        "outputId": "8db30a2b-a387-4fda-fb2b-f05ec020808b"
      },
      "execution_count": 6,
      "outputs": [
        {
          "output_type": "stream",
          "name": "stdout",
          "text": [
            "krishna rahul mohan\n"
          ]
        }
      ]
    },
    {
      "cell_type": "code",
      "source": [
        "print('krishna','rahul','mohan',sep=\"\\n\")"
      ],
      "metadata": {
        "colab": {
          "base_uri": "https://localhost:8080/"
        },
        "id": "3qjc1RwXksE6",
        "outputId": "b2de4316-7616-4220-bc4f-09ecaffbb812"
      },
      "execution_count": 7,
      "outputs": [
        {
          "output_type": "stream",
          "name": "stdout",
          "text": [
            "krishna\n",
            "rahul\n",
            "mohan\n"
          ]
        }
      ]
    },
    {
      "cell_type": "code",
      "source": [
        "print('krishna','rahul','mohan',end=\"\")\n",
        "print(\"Mango\", \"Orange\",\"Banana\")"
      ],
      "metadata": {
        "colab": {
          "base_uri": "https://localhost:8080/"
        },
        "id": "UDtVWVYDlz6v",
        "outputId": "9c631eae-0621-4e57-ddd0-e69c95fc8106"
      },
      "execution_count": 8,
      "outputs": [
        {
          "output_type": "stream",
          "name": "stdout",
          "text": [
            "krishna rahul mohanMango Orange Banana\n"
          ]
        }
      ]
    },
    {
      "cell_type": "code",
      "source": [
        "print('krishna','rahul','mohan',sep=\"\\t\")"
      ],
      "metadata": {
        "colab": {
          "base_uri": "https://localhost:8080/"
        },
        "id": "uRcNa7xPnQru",
        "outputId": "0ed7c76c-b147-4d67-80f7-427eee4f0838"
      },
      "execution_count": 9,
      "outputs": [
        {
          "output_type": "stream",
          "name": "stdout",
          "text": [
            "krishna\trahul\tmohan\n"
          ]
        }
      ]
    },
    {
      "cell_type": "code",
      "source": [
        "print(\"This is python batch of 2PM WE\");print(\"I  am trainer of this class\")"
      ],
      "metadata": {
        "colab": {
          "base_uri": "https://localhost:8080/"
        },
        "id": "i4MlthKSonVM",
        "outputId": "6b5d4c77-0c38-41dd-9a17-3749f2825362"
      },
      "execution_count": 10,
      "outputs": [
        {
          "output_type": "stream",
          "name": "stdout",
          "text": [
            "This is python batch of 2PM WE\n",
            "I  am trainer of this class\n"
          ]
        }
      ]
    },
    {
      "cell_type": "code",
      "source": [
        "print(\"This is python batch of 2PM WE\");\n",
        "print(\"I  am trainer of this class\")"
      ],
      "metadata": {
        "colab": {
          "base_uri": "https://localhost:8080/"
        },
        "id": "hkZWRQzwpKF8",
        "outputId": "e8bd94f5-fe9c-4455-cce4-71d34e1f5c05"
      },
      "execution_count": 11,
      "outputs": [
        {
          "output_type": "stream",
          "name": "stdout",
          "text": [
            "This is python batch of 2PM WE\n",
            "I  am trainer of this class\n"
          ]
        }
      ]
    },
    {
      "cell_type": "code",
      "source": [
        "print(\"This is python batch of 2PM WE\",end=\"\"\" \"\"\")\n",
        "print(\"I  am trainer of this class\")"
      ],
      "metadata": {
        "colab": {
          "base_uri": "https://localhost:8080/"
        },
        "id": "d0nCaAsopkYM",
        "outputId": "b5182e7d-8a8b-43a4-9464-a69c57d4fb99"
      },
      "execution_count": 12,
      "outputs": [
        {
          "output_type": "stream",
          "name": "stdout",
          "text": [
            "This is python batch of 2PM WE I  am trainer of this class\n"
          ]
        }
      ]
    },
    {
      "cell_type": "code",
      "source": [
        "print(\"This is python batch of 2PM WE\",end=''' ''')\n",
        "print(\"I  am trainer of this class\")"
      ],
      "metadata": {
        "colab": {
          "base_uri": "https://localhost:8080/"
        },
        "id": "Q-TiDikupm28",
        "outputId": "08efb99f-3565-40a5-e40b-cc78fd96edbf"
      },
      "execution_count": 13,
      "outputs": [
        {
          "output_type": "stream",
          "name": "stdout",
          "text": [
            "This is python batch of 2PM WE I  am trainer of this class\n"
          ]
        }
      ]
    },
    {
      "cell_type": "code",
      "source": [
        "print(\"This is python batch of 2PM WE\",end='')\n",
        "print(\"I  am trainer of this class\")"
      ],
      "metadata": {
        "colab": {
          "base_uri": "https://localhost:8080/"
        },
        "id": "QLL3erejqPkc",
        "outputId": "69568228-ebf7-4053-95f3-bb7ca76f6ca4"
      },
      "execution_count": 14,
      "outputs": [
        {
          "output_type": "stream",
          "name": "stdout",
          "text": [
            "This is python batch of 2PM WEI  am trainer of this class\n"
          ]
        }
      ]
    },
    {
      "cell_type": "code",
      "source": [
        "print(\"Mango\",\"Apple\",\"Banana\",sep=\",\",sep='\\n')"
      ],
      "metadata": {
        "colab": {
          "base_uri": "https://localhost:8080/",
          "height": 135
        },
        "id": "oTyNQjQeqbY8",
        "outputId": "05ca64cb-d686-4f00-e866-9a15825810ba"
      },
      "execution_count": 15,
      "outputs": [
        {
          "output_type": "error",
          "ename": "SyntaxError",
          "evalue": "ignored",
          "traceback": [
            "\u001b[0;36m  File \u001b[0;32m\"<ipython-input-15-085c6c5899d5>\"\u001b[0;36m, line \u001b[0;32m1\u001b[0m\n\u001b[0;31m    print(\"Mango\",\"Apple\",\"Banana\",sep=\",\",sep='\\n')\u001b[0m\n\u001b[0m                                          ^\u001b[0m\n\u001b[0;31mSyntaxError\u001b[0m\u001b[0;31m:\u001b[0m keyword argument repeated\n"
          ]
        }
      ]
    },
    {
      "cell_type": "code",
      "source": [
        "print(\"Mango,\",\"Apple,\",\"Banana\",sep=\"\\n\")"
      ],
      "metadata": {
        "colab": {
          "base_uri": "https://localhost:8080/"
        },
        "id": "tPubVkXJq-ks",
        "outputId": "f64eaf22-845c-4f27-c977-0f19e1f450f7"
      },
      "execution_count": 16,
      "outputs": [
        {
          "output_type": "stream",
          "name": "stdout",
          "text": [
            "Mango,\n",
            "Apple,\n",
            "Banana\n"
          ]
        }
      ]
    },
    {
      "cell_type": "code",
      "source": [
        "print(\"Mango\",\"Apple\",\"Banana\",sep=\",USA\\n\")"
      ],
      "metadata": {
        "colab": {
          "base_uri": "https://localhost:8080/"
        },
        "id": "VBF73eNArIgc",
        "outputId": "4959f668-af34-4ce7-ee72-80aa9de1f610"
      },
      "execution_count": 17,
      "outputs": [
        {
          "output_type": "stream",
          "name": "stdout",
          "text": [
            "Mango,USA\n",
            "Apple,USA\n",
            "Banana\n"
          ]
        }
      ]
    },
    {
      "cell_type": "code",
      "source": [
        "print(r\"You all are \\\"fool\\\"\")"
      ],
      "metadata": {
        "colab": {
          "base_uri": "https://localhost:8080/"
        },
        "id": "TV_QamYCrfqc",
        "outputId": "87dee644-166a-4dad-e7b2-ac1b696182ac"
      },
      "execution_count": 18,
      "outputs": [
        {
          "output_type": "stream",
          "name": "stdout",
          "text": [
            "You all are \\\"fool\\\"\n"
          ]
        }
      ]
    },
    {
      "cell_type": "code",
      "source": [
        "print(r\"this is \\nagarjuna\")"
      ],
      "metadata": {
        "colab": {
          "base_uri": "https://localhost:8080/"
        },
        "id": "YP0o9ij9uWBe",
        "outputId": "71dfd08c-74c2-4231-aa41-dd810d15ee72"
      },
      "execution_count": 19,
      "outputs": [
        {
          "output_type": "stream",
          "name": "stdout",
          "text": [
            "this is \\nagarjuna\n"
          ]
        }
      ]
    },
    {
      "cell_type": "code",
      "source": [
        "print('this is \"Krishna\"')"
      ],
      "metadata": {
        "colab": {
          "base_uri": "https://localhost:8080/"
        },
        "id": "meCZOJRkuvZe",
        "outputId": "9bb12f22-1e0e-4864-bb32-0d36eef9742c"
      },
      "execution_count": 20,
      "outputs": [
        {
          "output_type": "stream",
          "name": "stdout",
          "text": [
            "this is \"Krishna\"\n"
          ]
        }
      ]
    },
    {
      "cell_type": "code",
      "source": [
        "print(\"\"\"this is krishna's laptop\"\"\")"
      ],
      "metadata": {
        "colab": {
          "base_uri": "https://localhost:8080/"
        },
        "id": "-BqwAUiRvVla",
        "outputId": "5597372a-2a62-4fff-a9fb-50fae3cb05a7"
      },
      "execution_count": 21,
      "outputs": [
        {
          "output_type": "stream",
          "name": "stdout",
          "text": [
            "this is krishna's laptop\n"
          ]
        }
      ]
    },
    {
      "cell_type": "code",
      "source": [
        "print('this is krishna\\'s laptop')"
      ],
      "metadata": {
        "colab": {
          "base_uri": "https://localhost:8080/"
        },
        "id": "xINGLVpjvbCV",
        "outputId": "6d965783-9f26-4c72-904d-f3d04795ce71"
      },
      "execution_count": 22,
      "outputs": [
        {
          "output_type": "stream",
          "name": "stdout",
          "text": [
            "this is krishna's laptop\n"
          ]
        }
      ]
    },
    {
      "cell_type": "code",
      "source": [
        "print(\"this is krishna's laptop\")"
      ],
      "metadata": {
        "colab": {
          "base_uri": "https://localhost:8080/"
        },
        "id": "ZN2T_gbUvmtD",
        "outputId": "9de97c4a-6426-4079-db31-afca27c4302a"
      },
      "execution_count": 23,
      "outputs": [
        {
          "output_type": "stream",
          "name": "stdout",
          "text": [
            "this is krishna's laptop\n"
          ]
        }
      ]
    },
    {
      "cell_type": "code",
      "source": [
        "print(\"This is krishna's laptop \\\"Avita\\\"\")\n",
        "print(\"hello\")"
      ],
      "metadata": {
        "colab": {
          "base_uri": "https://localhost:8080/"
        },
        "id": "l7ZU7IA_vuLp",
        "outputId": "f31259d4-fc41-4fb3-ec45-d74adb3d6c11"
      },
      "execution_count": 24,
      "outputs": [
        {
          "output_type": "stream",
          "name": "stdout",
          "text": [
            "This is krishna's laptop \"Avita\"\n",
            "hello\n"
          ]
        }
      ]
    },
    {
      "cell_type": "code",
      "source": [
        "print(\"Mango\"'Apple'\"\"\"Banana\"\"\")"
      ],
      "metadata": {
        "colab": {
          "base_uri": "https://localhost:8080/"
        },
        "id": "hPZbCKr4xA9K",
        "outputId": "5af985be-5754-4d5e-faf0-b750296daf9a"
      },
      "execution_count": 25,
      "outputs": [
        {
          "output_type": "stream",
          "name": "stdout",
          "text": [
            "MangoAppleBanana\n"
          ]
        }
      ]
    },
    {
      "cell_type": "code",
      "source": [
        "print(r\"This is krishna \\n and I am AI \\t trainer\")"
      ],
      "metadata": {
        "colab": {
          "base_uri": "https://localhost:8080/"
        },
        "id": "hAlYCRK-xn7W",
        "outputId": "4ec86763-d20a-4f11-af4f-115500c271ae"
      },
      "execution_count": 26,
      "outputs": [
        {
          "output_type": "stream",
          "name": "stdout",
          "text": [
            "This is krishna \\n and I am AI \\t trainer\n"
          ]
        }
      ]
    },
    {
      "cell_type": "code",
      "source": [
        "\"This is krishna \\n and I am AI \\t trainer\""
      ],
      "metadata": {
        "colab": {
          "base_uri": "https://localhost:8080/",
          "height": 36
        },
        "id": "I0JizUIyzS0m",
        "outputId": "70e3eabe-18bf-4306-d255-81b21d767288"
      },
      "execution_count": 27,
      "outputs": [
        {
          "output_type": "execute_result",
          "data": {
            "text/plain": [
              "'This is krishna \\n and I am AI \\t trainer'"
            ],
            "application/vnd.google.colaboratory.intrinsic+json": {
              "type": "string"
            }
          },
          "metadata": {},
          "execution_count": 27
        }
      ]
    },
    {
      "cell_type": "markdown",
      "source": [
        "Implementation of python:\n",
        "\n",
        "cpython\n",
        "\n",
        "jython\n",
        "\n",
        "rodpython\n",
        "\n",
        "ipython \n",
        "\n",
        "pypy\n"
      ],
      "metadata": {
        "id": "J-vOe_DwzarZ"
      }
    },
    {
      "cell_type": "code",
      "source": [
        "a=232342342342342342342342342344234234234234234234234234234234234234234\n",
        "b=4234234234444444444444444444444444444444444444444444444444444444444444444444444444444444\n",
        "print(a+b)"
      ],
      "metadata": {
        "colab": {
          "base_uri": "https://localhost:8080/"
        },
        "id": "sHNVCdyN1sht",
        "outputId": "1d8d858c-54de-477e-c7e9-d521e93ec415"
      },
      "execution_count": 30,
      "outputs": [
        {
          "output_type": "stream",
          "name": "stdout",
          "text": [
            "4234234234444444444676786786786786786786786786788678678678678678678678678678678678678678\n"
          ]
        }
      ]
    },
    {
      "cell_type": "markdown",
      "source": [
        "input\n",
        "\n",
        "variable\n",
        "\n",
        "comment\n",
        "\n",
        "if else elif\n",
        "\n",
        "nested if else elif"
      ],
      "metadata": {
        "id": "1uhOAARB1zSp"
      }
    },
    {
      "cell_type": "markdown",
      "source": [
        "# Variable\n",
        "\n",
        "\n",
        "A variable is a container \n",
        "\n",
        "variable name never start with number[0,1,2,3,4,5,6,7,8,9]\n",
        "\n",
        "variable never contain special character except \"_\"\n",
        "\n",
        "A variable name should be readable(preferred)"
      ],
      "metadata": {
        "id": "N8ou-z3RbVXs"
      }
    },
    {
      "cell_type": "code",
      "source": [
        "a=\"laptop\""
      ],
      "metadata": {
        "id": "2RXh6ipXbaS7"
      },
      "execution_count": 31,
      "outputs": []
    },
    {
      "cell_type": "code",
      "source": [],
      "metadata": {
        "id": "IhyjsnKuc-TZ"
      },
      "execution_count": 31,
      "outputs": []
    },
    {
      "cell_type": "code",
      "source": [
        "print(a)"
      ],
      "metadata": {
        "colab": {
          "base_uri": "https://localhost:8080/"
        },
        "id": "1dMVW7yWdBBb",
        "outputId": "8fca9888-c25e-4d1f-a608-e16c2fc1813a"
      },
      "execution_count": 32,
      "outputs": [
        {
          "output_type": "stream",
          "name": "stdout",
          "text": [
            "laptop\n"
          ]
        }
      ]
    },
    {
      "cell_type": "code",
      "source": [
        "1pin=1234"
      ],
      "metadata": {
        "colab": {
          "base_uri": "https://localhost:8080/",
          "height": 135
        },
        "id": "1sTRxPIndFPd",
        "outputId": "28f3c161-7148-4214-8618-a65959913b63"
      },
      "execution_count": 33,
      "outputs": [
        {
          "output_type": "error",
          "ename": "SyntaxError",
          "evalue": "ignored",
          "traceback": [
            "\u001b[0;36m  File \u001b[0;32m\"<ipython-input-33-5c4798a8e6a8>\"\u001b[0;36m, line \u001b[0;32m1\u001b[0m\n\u001b[0;31m    1pin=1234\u001b[0m\n\u001b[0m       ^\u001b[0m\n\u001b[0;31mSyntaxError\u001b[0m\u001b[0;31m:\u001b[0m invalid syntax\n"
          ]
        }
      ]
    },
    {
      "cell_type": "code",
      "source": [
        "pin1=1234"
      ],
      "metadata": {
        "id": "tyYgosMlfWmc"
      },
      "execution_count": 35,
      "outputs": []
    },
    {
      "cell_type": "code",
      "source": [
        "pin1user=1234"
      ],
      "metadata": {
        "id": "vbmJSvjjfgYc"
      },
      "execution_count": 36,
      "outputs": []
    },
    {
      "cell_type": "code",
      "source": [
        "@pin=1234"
      ],
      "metadata": {
        "colab": {
          "base_uri": "https://localhost:8080/",
          "height": 135
        },
        "id": "BHUGnwZNfmS9",
        "outputId": "c4a3b626-6a95-4cd5-f801-e73d63980b7e"
      },
      "execution_count": 37,
      "outputs": [
        {
          "output_type": "error",
          "ename": "SyntaxError",
          "evalue": "ignored",
          "traceback": [
            "\u001b[0;36m  File \u001b[0;32m\"<ipython-input-37-bc7c09c6d82d>\"\u001b[0;36m, line \u001b[0;32m1\u001b[0m\n\u001b[0;31m    @pin=1234\u001b[0m\n\u001b[0m        ^\u001b[0m\n\u001b[0;31mSyntaxError\u001b[0m\u001b[0;31m:\u001b[0m invalid syntax\n"
          ]
        }
      ]
    },
    {
      "cell_type": "code",
      "source": [
        "pin@=1234"
      ],
      "metadata": {
        "colab": {
          "base_uri": "https://localhost:8080/",
          "height": 172
        },
        "id": "pPQqP3ecfuns",
        "outputId": "2b68e813-8f0d-4dc9-e7bd-ab03474d3ab1"
      },
      "execution_count": 38,
      "outputs": [
        {
          "output_type": "error",
          "ename": "NameError",
          "evalue": "ignored",
          "traceback": [
            "\u001b[0;31m---------------------------------------------------------------------------\u001b[0m",
            "\u001b[0;31mNameError\u001b[0m                                 Traceback (most recent call last)",
            "\u001b[0;32m<ipython-input-38-22f6767ead0d>\u001b[0m in \u001b[0;36m<module>\u001b[0;34m\u001b[0m\n\u001b[0;32m----> 1\u001b[0;31m \u001b[0mpin\u001b[0m\u001b[0;34m@=\u001b[0m\u001b[0;36m1234\u001b[0m\u001b[0;34m\u001b[0m\u001b[0;34m\u001b[0m\u001b[0m\n\u001b[0m",
            "\u001b[0;31mNameError\u001b[0m: name 'pin' is not defined"
          ]
        }
      ]
    },
    {
      "cell_type": "code",
      "source": [
        "pin@user=1234"
      ],
      "metadata": {
        "colab": {
          "base_uri": "https://localhost:8080/",
          "height": 135
        },
        "id": "6WqwCd5wf5es",
        "outputId": "089ba449-5d50-4dde-d10a-6857a8461711"
      },
      "execution_count": 39,
      "outputs": [
        {
          "output_type": "error",
          "ename": "SyntaxError",
          "evalue": "ignored",
          "traceback": [
            "\u001b[0;36m  File \u001b[0;32m\"<ipython-input-39-ccb6b721d9c8>\"\u001b[0;36m, line \u001b[0;32m1\u001b[0m\n\u001b[0;31m    pin@user=1234\u001b[0m\n\u001b[0m                 ^\u001b[0m\n\u001b[0;31mSyntaxError\u001b[0m\u001b[0;31m:\u001b[0m can't assign to operator\n"
          ]
        }
      ]
    },
    {
      "cell_type": "code",
      "source": [
        "krishna_kumar=10"
      ],
      "metadata": {
        "id": "8-Ea93Hnf_s9"
      },
      "execution_count": 40,
      "outputs": []
    },
    {
      "cell_type": "code",
      "source": [
        "hemant_sharma=20"
      ],
      "metadata": {
        "id": "5DMXUjDUgY4M"
      },
      "execution_count": 41,
      "outputs": []
    },
    {
      "cell_type": "code",
      "source": [
        "krishna_age=26"
      ],
      "metadata": {
        "id": "PZPBXaB8gfos"
      },
      "execution_count": 42,
      "outputs": []
    },
    {
      "cell_type": "code",
      "source": [
        "pin=input(\"Kindly enter your 4 digit pin :\")\n",
        "\n",
        "option=input(\"\"\"Kindly choose one option:\n",
        "\n",
        "1. Withdrawal\n",
        "2.fund_transfer\n",
        "3.exit\n",
        "\n",
        "\"\"\")\n",
        "\n"
      ],
      "metadata": {
        "colab": {
          "base_uri": "https://localhost:8080/"
        },
        "id": "TDwXByHdglZc",
        "outputId": "39de735d-ca78-4638-cd0b-4b99ddaa5c57"
      },
      "execution_count": 43,
      "outputs": [
        {
          "name": "stdout",
          "output_type": "stream",
          "text": [
            "Kindly enter your 4 digit pin :3423\n",
            "Kindly choose one option:\n",
            "\n",
            "1. Withdrawal\n",
            "2.fund_transfer\n",
            "3.exit\n",
            "\n",
            "1\n"
          ]
        }
      ]
    },
    {
      "cell_type": "code",
      "source": [
        "print(pin)"
      ],
      "metadata": {
        "colab": {
          "base_uri": "https://localhost:8080/"
        },
        "id": "QGdFb-xthRV9",
        "outputId": "3d93f53e-a7c5-4645-d107-0af4ec66b90f"
      },
      "execution_count": 44,
      "outputs": [
        {
          "output_type": "stream",
          "name": "stdout",
          "text": [
            "3423\n"
          ]
        }
      ]
    },
    {
      "cell_type": "code",
      "source": [
        "a=10\n",
        "print(id(a))"
      ],
      "metadata": {
        "colab": {
          "base_uri": "https://localhost:8080/"
        },
        "id": "u-2VISbZhkdt",
        "outputId": "be447b2c-01c0-4f02-9623-13170c9856b6"
      },
      "execution_count": 45,
      "outputs": [
        {
          "output_type": "stream",
          "name": "stdout",
          "text": [
            "11126976\n"
          ]
        }
      ]
    },
    {
      "cell_type": "code",
      "source": [
        "b=20\n",
        "print(id(b))"
      ],
      "metadata": {
        "colab": {
          "base_uri": "https://localhost:8080/"
        },
        "id": "Ka0cvYWFjrQt",
        "outputId": "8ec94577-6596-49a9-f1d0-c804b5b65604"
      },
      "execution_count": 46,
      "outputs": [
        {
          "output_type": "stream",
          "name": "stdout",
          "text": [
            "11127296\n"
          ]
        }
      ]
    },
    {
      "cell_type": "code",
      "source": [
        "c=10\n",
        "print(id(c))"
      ],
      "metadata": {
        "colab": {
          "base_uri": "https://localhost:8080/"
        },
        "id": "aIIDr7cWjvyd",
        "outputId": "8ec1c056-fc2e-40d3-a01f-5d1a95293feb"
      },
      "execution_count": 47,
      "outputs": [
        {
          "output_type": "stream",
          "name": "stdout",
          "text": [
            "11126976\n"
          ]
        }
      ]
    },
    {
      "cell_type": "code",
      "source": [
        "d=257\n",
        "f=257\n",
        "\n",
        "print(id(d))\n",
        "\n",
        "print(id(f))"
      ],
      "metadata": {
        "colab": {
          "base_uri": "https://localhost:8080/"
        },
        "id": "MWIXypOAkCid",
        "outputId": "d7658b23-364c-44bd-d014-2cc5d225bbd5"
      },
      "execution_count": 48,
      "outputs": [
        {
          "output_type": "stream",
          "name": "stdout",
          "text": [
            "140489869840048\n",
            "140489869839664\n"
          ]
        }
      ]
    },
    {
      "cell_type": "code",
      "source": [
        "d=-6\n",
        "f=-6\n",
        "\n",
        "print(id(d))\n",
        "\n",
        "print(id(f))"
      ],
      "metadata": {
        "colab": {
          "base_uri": "https://localhost:8080/"
        },
        "id": "I8s_PC6wlSVA",
        "outputId": "da2ef362-0ed5-4b0f-9030-031b1e597c05"
      },
      "execution_count": 49,
      "outputs": [
        {
          "output_type": "stream",
          "name": "stdout",
          "text": [
            "140489869837360\n",
            "140489869837392\n"
          ]
        }
      ]
    },
    {
      "cell_type": "markdown",
      "source": [
        "# Comment"
      ],
      "metadata": {
        "id": "VQ5iUATmlWRf"
      }
    },
    {
      "cell_type": "code",
      "source": [
        "b=#this is ATM variable\n",
        "print(b)\n",
        "a=\"this is Python class\"\n",
        "print(a)\n",
        "pin=input(\"Kindly enter your 4 digit pin :\")\n",
        "\n",
        "option=input(\"\"\"Kindly choose one option:\n",
        "\n",
        "1. Withdrawal\n",
        "2.fund_transfer\n",
        "3.exit\n",
        "\n",
        "\"\"\")"
      ],
      "metadata": {
        "colab": {
          "base_uri": "https://localhost:8080/",
          "height": 135
        },
        "id": "bLbVB6zOmVuR",
        "outputId": "b2553e6a-26d8-4626-d89b-c090babfa11b"
      },
      "execution_count": 50,
      "outputs": [
        {
          "output_type": "error",
          "ename": "SyntaxError",
          "evalue": "ignored",
          "traceback": [
            "\u001b[0;36m  File \u001b[0;32m\"<ipython-input-50-a82698522e96>\"\u001b[0;36m, line \u001b[0;32m1\u001b[0m\n\u001b[0;31m    b=#this is ATM variable\u001b[0m\n\u001b[0m                           ^\u001b[0m\n\u001b[0;31mSyntaxError\u001b[0m\u001b[0;31m:\u001b[0m invalid syntax\n"
          ]
        }
      ]
    },
    {
      "cell_type": "code",
      "source": [
        "\"\"\"this is \n",
        "\n",
        "\n",
        "python \n",
        "\n",
        " class\"\"\"\n",
        "print(\"this is krishna\")"
      ],
      "metadata": {
        "id": "h9OlpQpKmqae"
      },
      "execution_count": null,
      "outputs": []
    },
    {
      "cell_type": "code",
      "source": [
        "# A comment is not readable by interpreter and start with #"
      ],
      "metadata": {
        "id": "-cEBPhl1nXOO"
      },
      "execution_count": null,
      "outputs": []
    },
    {
      "cell_type": "markdown",
      "source": [
        "# if else elif"
      ],
      "metadata": {
        "id": "M23XKAhgpvL-"
      }
    },
    {
      "cell_type": "code",
      "source": [
        "user=input(\"Let go somewhere :\")\n",
        "\n",
        "if user==\"agra\":\n",
        "  print(\"Take path 1\")\n",
        "\n",
        "elif user==\"lucknow\":\n",
        "  print(\"Take path 2\")\n",
        "\n",
        "else:\n",
        "  print(\"Go to hell\")"
      ],
      "metadata": {
        "colab": {
          "base_uri": "https://localhost:8080/"
        },
        "id": "USMBq4QEq01S",
        "outputId": "4d6c15d2-31e1-4d1d-8754-384a388de8a4"
      },
      "execution_count": 51,
      "outputs": [
        {
          "output_type": "stream",
          "name": "stdout",
          "text": [
            "Let go somewhere :\n",
            "Go to hell\n"
          ]
        }
      ]
    },
    {
      "cell_type": "code",
      "source": [
        "user=input(\"Let go somewhere :\")\n",
        "\n",
        "if user==\"agra\":\n",
        "  print(\"Take path 1\")\n",
        "\n",
        "elif user==\"lucknow\":\n",
        "  print(\"Take path 2\")\n",
        "\n",
        "else:\n",
        "  print(\"Go to hell\")"
      ],
      "metadata": {
        "colab": {
          "base_uri": "https://localhost:8080/"
        },
        "id": "be6JhzcZrdPK",
        "outputId": "5a22ba87-e150-4942-e884-416797eecaaf"
      },
      "execution_count": 52,
      "outputs": [
        {
          "output_type": "stream",
          "name": "stdout",
          "text": [
            "Let go somewhere :\n",
            "Go to hell\n"
          ]
        }
      ]
    },
    {
      "cell_type": "code",
      "source": [
        "user=input(\"Let go somewhere :\")\n",
        "print(type(user))\n",
        "\n",
        "if user==\"agra\":\n",
        "  print(\"Take path 1\")\n",
        "\n",
        "elif user==\"lucknow\":\n",
        "  print(\"Take path 2\")\n",
        "\n",
        "else:\n",
        "  print(\"Go to hell\")"
      ],
      "metadata": {
        "colab": {
          "base_uri": "https://localhost:8080/"
        },
        "id": "4iWbsZW0rkkP",
        "outputId": "a8a295ea-c3f8-4837-e761-23fade1adeaf"
      },
      "execution_count": 53,
      "outputs": [
        {
          "output_type": "stream",
          "name": "stdout",
          "text": [
            "Let go somewhere :1\n",
            "<class 'str'>\n",
            "Go to hell\n"
          ]
        }
      ]
    },
    {
      "cell_type": "code",
      "source": [
        "print(\"Let go somewhere :\")\n",
        "user=input()\n",
        "print(type(user))\n",
        "\n",
        "if user==\"agra\":\n",
        "  print(\"Take path 1\")\n",
        "\n",
        "elif user==\"lucknow\":\n",
        "  print(\"Take path 2\")\n",
        "\n",
        "else:\n",
        "  print(\"Go to hell\")"
      ],
      "metadata": {
        "colab": {
          "base_uri": "https://localhost:8080/"
        },
        "id": "EAjaCD9krnXO",
        "outputId": "242f6af9-e5c0-4ebd-a1d2-e6e2d818c173"
      },
      "execution_count": 54,
      "outputs": [
        {
          "output_type": "stream",
          "name": "stdout",
          "text": [
            "Let go somewhere :\n",
            "1\n",
            "<class 'str'>\n",
            "Go to hell\n"
          ]
        }
      ]
    },
    {
      "cell_type": "code",
      "source": [
        "print(\"Let go somewhere :\")\n",
        "user=input()\n",
        "print(type(user))\n",
        "\n",
        "if user==\"agra\":\n",
        "  print(\"Take path 1\")\n",
        "\n",
        "elif user==\"lucknow\":\n",
        "  print(\"Take path 2\")\n",
        "\n",
        "else:\n",
        "  print(\"Go to hell\")"
      ],
      "metadata": {
        "colab": {
          "base_uri": "https://localhost:8080/"
        },
        "id": "Ac_K_3UAsQ7f",
        "outputId": "0d9b8cd7-c58e-4deb-984f-ecf5625426b9"
      },
      "execution_count": 58,
      "outputs": [
        {
          "output_type": "stream",
          "name": "stdout",
          "text": [
            "Let go somewhere :\n",
            "1\n",
            "<class 'str'>\n",
            "Go to hell\n"
          ]
        }
      ]
    },
    {
      "cell_type": "code",
      "source": [
        "print(\"Let go somewhere :\")\n",
        "user=input()                      # input() function always contain a str dtype\n",
        "print(type(user))\n",
        "\n",
        "if user==\"agra\":\n",
        "  print(\"Take path 1\")\n",
        "\n",
        "elif user==\"lucknow\":\n",
        "  print(\"Take path 2\")\n",
        "\n",
        "else:\n",
        "  print(\"Go to hell\")"
      ],
      "metadata": {
        "colab": {
          "base_uri": "https://localhost:8080/"
        },
        "id": "6-TAwSsIslYv",
        "outputId": "da1218e7-1d51-432e-e6ad-7c026f37ee04"
      },
      "execution_count": 59,
      "outputs": [
        {
          "output_type": "stream",
          "name": "stdout",
          "text": [
            "Let go somewhere :\n",
            "1\n",
            "<class 'str'>\n",
            "Go to hell\n"
          ]
        }
      ]
    },
    {
      "cell_type": "code",
      "source": [
        "print(\"Let go somewhere :\")\n",
        "user=input()                      # input() function always contain a str dtype\n",
        "\n",
        "if user==\"agra\":\n",
        "  print(\"Take path 1\")\n",
        "  user_specific=input(\"Do you want to go to agra or mathura :\")\n",
        "  if user_specific==\"mathura\":\n",
        "    print(\"ok now i got it you want to go to Mathura\")\n",
        "    user_breakfast=input(\"Do you want to eat something i mean breakfast :\")\n",
        "    if user_breakfast=='yes':\n",
        "      print(\"I am going to park the car and will go to restra\")\n",
        "    else:\n",
        "      print(\"Okay let focuse to reach to destination now,play some song\")\n",
        "  else:\n",
        "    print(\"Okay that mean you want to go to Taj.\")\n",
        "    \n",
        "\n",
        "elif user==\"lucknow\":\n",
        "  print(\"Take path 2\")\n",
        "\n",
        "else:\n",
        "  print(\"Go to hell\")"
      ],
      "metadata": {
        "id": "e8Blam5Isnpe",
        "colab": {
          "base_uri": "https://localhost:8080/"
        },
        "outputId": "238872c6-df3a-41a8-870e-a4e4a4729541"
      },
      "execution_count": 60,
      "outputs": [
        {
          "output_type": "stream",
          "name": "stdout",
          "text": [
            "Let go somewhere :\n",
            "1\n",
            "Go to hell\n"
          ]
        }
      ]
    },
    {
      "cell_type": "code",
      "source": [
        "if 2<3:\n",
        "  print(2+3)"
      ],
      "metadata": {
        "colab": {
          "base_uri": "https://localhost:8080/"
        },
        "id": "ZjLWRsyApBMO",
        "outputId": "eafbfe09-f9f6-46e5-89bf-51c7d7dfcec6"
      },
      "execution_count": 61,
      "outputs": [
        {
          "output_type": "stream",
          "name": "stdout",
          "text": [
            "5\n"
          ]
        }
      ]
    },
    {
      "cell_type": "code",
      "source": [
        "if 2<3: #False\n",
        "  print(2+3)\n",
        "else:\n",
        "  print(\"2 is not greater then 3 that's why we are not getting anything\")"
      ],
      "metadata": {
        "colab": {
          "base_uri": "https://localhost:8080/"
        },
        "id": "ydlBIf2lryZc",
        "outputId": "14cdfde6-5900-49e6-e1ec-6d0166df8ad4"
      },
      "execution_count": 62,
      "outputs": [
        {
          "output_type": "stream",
          "name": "stdout",
          "text": [
            "5\n"
          ]
        }
      ]
    },
    {
      "cell_type": "code",
      "source": [
        "if 2>3: #False\n",
        "  print(2+3);\n"
      ],
      "metadata": {
        "id": "rMpkwOVQr-IP"
      },
      "execution_count": 63,
      "outputs": []
    },
    {
      "cell_type": "code",
      "source": [
        "else:\n",
        "  print(\"2 is not greater then 3 that's why we are not getting anything\")"
      ],
      "metadata": {
        "colab": {
          "base_uri": "https://localhost:8080/",
          "height": 135
        },
        "id": "hpfdoeyisWdf",
        "outputId": "c6c4f38f-c378-4934-a94a-2f9ee70d72f8"
      },
      "execution_count": 64,
      "outputs": [
        {
          "output_type": "error",
          "ename": "SyntaxError",
          "evalue": "ignored",
          "traceback": [
            "\u001b[0;36m  File \u001b[0;32m\"<ipython-input-64-c70ff0426e5a>\"\u001b[0;36m, line \u001b[0;32m1\u001b[0m\n\u001b[0;31m    else:\u001b[0m\n\u001b[0m       ^\u001b[0m\n\u001b[0;31mSyntaxError\u001b[0m\u001b[0;31m:\u001b[0m invalid syntax\n"
          ]
        }
      ]
    },
    {
      "cell_type": "markdown",
      "source": [
        "# datatype"
      ],
      "metadata": {
        "id": "H63vB6sNsdd_"
      }
    },
    {
      "cell_type": "markdown",
      "source": [
        "1> str\n",
        "\n",
        "2> int\n",
        "\n",
        "3> float\n",
        "\n",
        "4> list\n",
        "\n",
        "5> tuple\n",
        "\n",
        "6> set\n",
        "\n",
        "7> dict\n",
        "\n",
        "8> complex\n",
        "\n",
        "9> bool\n",
        "\n",
        "\n"
      ],
      "metadata": {
        "id": "MbZmIn3suXaA"
      }
    },
    {
      "cell_type": "markdown",
      "source": [
        "# string \n",
        "\n",
        "str()   string constructor \n",
        "\n",
        "string literal  \" \" ,\"\"\" \"\"\" , ' ', ''' '''\n",
        "\n",
        "string is a set of sequence of characters\n",
        "\n",
        "string support concatination \n",
        "\n",
        "string support indexing \n",
        "\n",
        "string support slicing \n",
        "\n",
        "string is immutable(we cannot change a string)\n",
        "\n",
        "\n",
        "\n"
      ],
      "metadata": {
        "id": "LqJPHaDYvs-_"
      }
    },
    {
      "cell_type": "code",
      "source": [
        "# del a\n",
        "a=str()\n",
        "print(a)\n",
        "print(type(a))\n",
        "a"
      ],
      "metadata": {
        "colab": {
          "base_uri": "https://localhost:8080/",
          "height": 73
        },
        "id": "g4Oie-VVwYbf",
        "outputId": "3fd0f289-96ba-4d24-86a9-4c8a607e3829"
      },
      "execution_count": 65,
      "outputs": [
        {
          "output_type": "stream",
          "name": "stdout",
          "text": [
            "\n",
            "<class 'str'>\n"
          ]
        },
        {
          "output_type": "execute_result",
          "data": {
            "text/plain": [
              "''"
            ],
            "application/vnd.google.colaboratory.intrinsic+json": {
              "type": "string"
            }
          },
          "metadata": {},
          "execution_count": 65
        }
      ]
    },
    {
      "cell_type": "code",
      "source": [
        "b=\" \"\n",
        "print(b)\n",
        "print(type(b))\n",
        "\n"
      ],
      "metadata": {
        "colab": {
          "base_uri": "https://localhost:8080/"
        },
        "id": "F8ue4GV-wyEt",
        "outputId": "13ef9fbc-e1cf-44c2-ae12-7d033f8f7615"
      },
      "execution_count": 66,
      "outputs": [
        {
          "output_type": "stream",
          "name": "stdout",
          "text": [
            " \n",
            "<class 'str'>\n"
          ]
        }
      ]
    },
    {
      "cell_type": "code",
      "source": [
        "b=\"\"\"\"\"\"\n",
        "print(b)\n",
        "print(type(b))"
      ],
      "metadata": {
        "colab": {
          "base_uri": "https://localhost:8080/"
        },
        "id": "W3UG2Gbxx5ge",
        "outputId": "a76afc11-7561-482e-8489-55a7c6001a8b"
      },
      "execution_count": 67,
      "outputs": [
        {
          "output_type": "stream",
          "name": "stdout",
          "text": [
            "\n",
            "<class 'str'>\n"
          ]
        }
      ]
    },
    {
      "cell_type": "code",
      "source": [
        "c=\"krishna\""
      ],
      "metadata": {
        "id": "4D-gVYJ_yRNN"
      },
      "execution_count": 68,
      "outputs": []
    },
    {
      "cell_type": "code",
      "source": [
        "print(c)"
      ],
      "metadata": {
        "colab": {
          "base_uri": "https://localhost:8080/"
        },
        "id": "JwmiHX1tyZst",
        "outputId": "a2d69ec4-882a-43a9-df9a-299b7eb48f21"
      },
      "execution_count": 69,
      "outputs": [
        {
          "output_type": "stream",
          "name": "stdout",
          "text": [
            "krishna\n"
          ]
        }
      ]
    },
    {
      "cell_type": "code",
      "source": [
        "print(c[0])"
      ],
      "metadata": {
        "colab": {
          "base_uri": "https://localhost:8080/"
        },
        "id": "g5WkNZUfya9N",
        "outputId": "0bc3fbcc-109e-40e9-ea90-442543a78edb"
      },
      "execution_count": 70,
      "outputs": [
        {
          "output_type": "stream",
          "name": "stdout",
          "text": [
            "k\n"
          ]
        }
      ]
    },
    {
      "cell_type": "code",
      "source": [
        "print(c[0])    # string support indexing"
      ],
      "metadata": {
        "colab": {
          "base_uri": "https://localhost:8080/"
        },
        "id": "6J1Y97ykzcFN",
        "outputId": "ce8f1d77-e371-4d8b-e771-b55c06267fcc"
      },
      "execution_count": 71,
      "outputs": [
        {
          "output_type": "stream",
          "name": "stdout",
          "text": [
            "k\n"
          ]
        }
      ]
    },
    {
      "cell_type": "code",
      "source": [
        "print(c[1:5])   # python support slicing "
      ],
      "metadata": {
        "colab": {
          "base_uri": "https://localhost:8080/"
        },
        "id": "VMwJKckjzoUt",
        "outputId": "3392f147-a744-4407-ddf4-9fd27b282083"
      },
      "execution_count": 72,
      "outputs": [
        {
          "output_type": "stream",
          "name": "stdout",
          "text": [
            "rish\n"
          ]
        }
      ]
    },
    {
      "cell_type": "code",
      "source": [
        "print(c[1:7])"
      ],
      "metadata": {
        "colab": {
          "base_uri": "https://localhost:8080/"
        },
        "id": "0VXuREEk0A5e",
        "outputId": "c6b02e5e-1347-44df-bb7b-632b93a8f9bc"
      },
      "execution_count": 73,
      "outputs": [
        {
          "output_type": "stream",
          "name": "stdout",
          "text": [
            "rishna\n"
          ]
        }
      ]
    },
    {
      "cell_type": "code",
      "source": [
        "print(c[1:7:1])    "
      ],
      "metadata": {
        "colab": {
          "base_uri": "https://localhost:8080/"
        },
        "id": "zfaw-Z5n0i85",
        "outputId": "24d5f17a-2119-47c6-9727-756d2be7d716"
      },
      "execution_count": 74,
      "outputs": [
        {
          "output_type": "stream",
          "name": "stdout",
          "text": [
            "rishna\n"
          ]
        }
      ]
    },
    {
      "cell_type": "markdown",
      "source": [
        "# Use case"
      ],
      "metadata": {
        "id": "v8XCQiex1CZ9"
      }
    },
    {
      "cell_type": "code",
      "source": [
        "print(c[0:10000:1])"
      ],
      "metadata": {
        "colab": {
          "base_uri": "https://localhost:8080/"
        },
        "id": "0NUC4Mwz1vhg",
        "outputId": "d73dbd40-c65f-49a0-8a87-143c7778c56c"
      },
      "execution_count": 75,
      "outputs": [
        {
          "output_type": "stream",
          "name": "stdout",
          "text": [
            "krishna\n"
          ]
        }
      ]
    },
    {
      "cell_type": "code",
      "source": [
        "print(c[0:100:])"
      ],
      "metadata": {
        "colab": {
          "base_uri": "https://localhost:8080/"
        },
        "id": "t4lg4rfJ1099",
        "outputId": "ae39cbee-909b-4f8b-c666-5bc8421595ad"
      },
      "execution_count": 76,
      "outputs": [
        {
          "output_type": "stream",
          "name": "stdout",
          "text": [
            "krishna\n"
          ]
        }
      ]
    },
    {
      "cell_type": "code",
      "source": [
        "print(c[0::1])"
      ],
      "metadata": {
        "colab": {
          "base_uri": "https://localhost:8080/"
        },
        "id": "ybjsM1Nh17Le",
        "outputId": "a052d17a-b24f-4fb8-f1e4-27d9fbb50708"
      },
      "execution_count": 77,
      "outputs": [
        {
          "output_type": "stream",
          "name": "stdout",
          "text": [
            "krishna\n"
          ]
        }
      ]
    },
    {
      "cell_type": "code",
      "source": [
        "print(c[:10000:1])"
      ],
      "metadata": {
        "colab": {
          "base_uri": "https://localhost:8080/"
        },
        "id": "6IZJCDFl2AZd",
        "outputId": "d25f75dc-bcba-4bb2-8deb-b4a4a9081ec4"
      },
      "execution_count": 78,
      "outputs": [
        {
          "output_type": "stream",
          "name": "stdout",
          "text": [
            "krishna\n"
          ]
        }
      ]
    },
    {
      "cell_type": "code",
      "source": [
        "print(c[::])"
      ],
      "metadata": {
        "colab": {
          "base_uri": "https://localhost:8080/"
        },
        "id": "sRKg5f1s2F99",
        "outputId": "c94ee18a-10f1-4277-e712-17de119f38bf"
      },
      "execution_count": 79,
      "outputs": [
        {
          "output_type": "stream",
          "name": "stdout",
          "text": [
            "krishna\n"
          ]
        }
      ]
    },
    {
      "cell_type": "code",
      "source": [
        "print(c[::1])"
      ],
      "metadata": {
        "colab": {
          "base_uri": "https://localhost:8080/"
        },
        "id": "NwjHugU12Ote",
        "outputId": "56897326-47f2-42c9-b243-311c9fd2dd31"
      },
      "execution_count": 80,
      "outputs": [
        {
          "output_type": "stream",
          "name": "stdout",
          "text": [
            "krishna\n"
          ]
        }
      ]
    },
    {
      "cell_type": "markdown",
      "source": [
        "# Change is stepping\n"
      ],
      "metadata": {
        "id": "BueqnJID2Vp9"
      }
    },
    {
      "cell_type": "code",
      "source": [
        "print(c[1:7:2])  "
      ],
      "metadata": {
        "colab": {
          "base_uri": "https://localhost:8080/"
        },
        "id": "RnBI-lAb2g0-",
        "outputId": "93ce4d7d-4232-4b11-c254-f1994368b746"
      },
      "execution_count": 81,
      "outputs": [
        {
          "output_type": "stream",
          "name": "stdout",
          "text": [
            "rsn\n"
          ]
        }
      ]
    },
    {
      "cell_type": "code",
      "source": [
        "a=\"0123456789\"\n",
        "a[1::2]"
      ],
      "metadata": {
        "colab": {
          "base_uri": "https://localhost:8080/",
          "height": 36
        },
        "id": "fT7oS0A226y8",
        "outputId": "a846df7c-4e1e-4215-be8c-d2bdc78d6ede"
      },
      "execution_count": 82,
      "outputs": [
        {
          "output_type": "execute_result",
          "data": {
            "text/plain": [
              "'13579'"
            ],
            "application/vnd.google.colaboratory.intrinsic+json": {
              "type": "string"
            }
          },
          "metadata": {},
          "execution_count": 82
        }
      ]
    },
    {
      "cell_type": "code",
      "source": [
        "a"
      ],
      "metadata": {
        "colab": {
          "base_uri": "https://localhost:8080/",
          "height": 36
        },
        "id": "981je3Qo3cPt",
        "outputId": "07099aeb-6f5f-4c81-a69b-64d64e8a9916"
      },
      "execution_count": 83,
      "outputs": [
        {
          "output_type": "execute_result",
          "data": {
            "text/plain": [
              "'0123456789'"
            ],
            "application/vnd.google.colaboratory.intrinsic+json": {
              "type": "string"
            }
          },
          "metadata": {},
          "execution_count": 83
        }
      ]
    },
    {
      "cell_type": "code",
      "source": [
        "c"
      ],
      "metadata": {
        "colab": {
          "base_uri": "https://localhost:8080/",
          "height": 36
        },
        "id": "rA7fkKTo4Qy9",
        "outputId": "19b24978-8c6d-4631-8771-f8011deb3856"
      },
      "execution_count": 84,
      "outputs": [
        {
          "output_type": "execute_result",
          "data": {
            "text/plain": [
              "'krishna'"
            ],
            "application/vnd.google.colaboratory.intrinsic+json": {
              "type": "string"
            }
          },
          "metadata": {},
          "execution_count": 84
        }
      ]
    },
    {
      "cell_type": "code",
      "source": [
        "print(c[6::-1])"
      ],
      "metadata": {
        "colab": {
          "base_uri": "https://localhost:8080/"
        },
        "id": "cTiTwTyO4T4d",
        "outputId": "a3d378e9-f1bf-4898-8747-8a37a96bb83c"
      },
      "execution_count": 85,
      "outputs": [
        {
          "output_type": "stream",
          "name": "stdout",
          "text": [
            "anhsirk\n"
          ]
        }
      ]
    },
    {
      "cell_type": "code",
      "source": [
        "print(c[-1:-100000000000000000000000000000000000000000000000000000:-1])"
      ],
      "metadata": {
        "colab": {
          "base_uri": "https://localhost:8080/"
        },
        "id": "-4sF6KVm5G6c",
        "outputId": "d04d066e-531a-426a-ba0e-b37edca4b501"
      },
      "execution_count": 91,
      "outputs": [
        {
          "output_type": "stream",
          "name": "stdout",
          "text": [
            "anhsirk\n"
          ]
        }
      ]
    },
    {
      "cell_type": "markdown",
      "source": [
        "# concatination"
      ],
      "metadata": {
        "id": "8wRRkI_45tHr"
      }
    },
    {
      "cell_type": "code",
      "source": [
        "a=\"krishna\"  # concatination working on string and all data must be in string data type\n",
        "b=\"kumar\"\n",
        "print(a+b)"
      ],
      "metadata": {
        "colab": {
          "base_uri": "https://localhost:8080/"
        },
        "id": "BtN5fHmb6j8i",
        "outputId": "27eabf55-7c2a-4065-9d21-35cd3252f3d0"
      },
      "execution_count": 92,
      "outputs": [
        {
          "output_type": "stream",
          "name": "stdout",
          "text": [
            "krishnakumar\n"
          ]
        }
      ]
    },
    {
      "cell_type": "code",
      "source": [
        "print(a-b)"
      ],
      "metadata": {
        "colab": {
          "base_uri": "https://localhost:8080/",
          "height": 172
        },
        "id": "6RnGzGAW6r0x",
        "outputId": "0f64c533-25a6-4f75-8826-6810f017fd31"
      },
      "execution_count": 93,
      "outputs": [
        {
          "output_type": "error",
          "ename": "TypeError",
          "evalue": "ignored",
          "traceback": [
            "\u001b[0;31m---------------------------------------------------------------------------\u001b[0m",
            "\u001b[0;31mTypeError\u001b[0m                                 Traceback (most recent call last)",
            "\u001b[0;32m<ipython-input-93-b6199382ecad>\u001b[0m in \u001b[0;36m<module>\u001b[0;34m\u001b[0m\n\u001b[0;32m----> 1\u001b[0;31m \u001b[0mprint\u001b[0m\u001b[0;34m(\u001b[0m\u001b[0ma\u001b[0m\u001b[0;34m-\u001b[0m\u001b[0mb\u001b[0m\u001b[0;34m)\u001b[0m\u001b[0;34m\u001b[0m\u001b[0;34m\u001b[0m\u001b[0m\n\u001b[0m",
            "\u001b[0;31mTypeError\u001b[0m: unsupported operand type(s) for -: 'str' and 'str'"
          ]
        }
      ]
    },
    {
      "cell_type": "code",
      "source": [
        "print(a/b)"
      ],
      "metadata": {
        "colab": {
          "base_uri": "https://localhost:8080/",
          "height": 172
        },
        "id": "gwtcKHQb6-fI",
        "outputId": "ac1a35d4-8b65-4ec4-9557-154ec5a857ee"
      },
      "execution_count": 94,
      "outputs": [
        {
          "output_type": "error",
          "ename": "TypeError",
          "evalue": "ignored",
          "traceback": [
            "\u001b[0;31m---------------------------------------------------------------------------\u001b[0m",
            "\u001b[0;31mTypeError\u001b[0m                                 Traceback (most recent call last)",
            "\u001b[0;32m<ipython-input-94-b0b33af54914>\u001b[0m in \u001b[0;36m<module>\u001b[0;34m\u001b[0m\n\u001b[0;32m----> 1\u001b[0;31m \u001b[0mprint\u001b[0m\u001b[0;34m(\u001b[0m\u001b[0ma\u001b[0m\u001b[0;34m/\u001b[0m\u001b[0mb\u001b[0m\u001b[0;34m)\u001b[0m\u001b[0;34m\u001b[0m\u001b[0;34m\u001b[0m\u001b[0m\n\u001b[0m",
            "\u001b[0;31mTypeError\u001b[0m: unsupported operand type(s) for /: 'str' and 'str'"
          ]
        }
      ]
    },
    {
      "cell_type": "code",
      "source": [
        "print(a*b)"
      ],
      "metadata": {
        "colab": {
          "base_uri": "https://localhost:8080/",
          "height": 172
        },
        "id": "loQTmGBj8Fkr",
        "outputId": "f361a6fe-b2c9-4b53-c232-58c0099ad30c"
      },
      "execution_count": 95,
      "outputs": [
        {
          "output_type": "error",
          "ename": "TypeError",
          "evalue": "ignored",
          "traceback": [
            "\u001b[0;31m---------------------------------------------------------------------------\u001b[0m",
            "\u001b[0;31mTypeError\u001b[0m                                 Traceback (most recent call last)",
            "\u001b[0;32m<ipython-input-95-f9c8a447c001>\u001b[0m in \u001b[0;36m<module>\u001b[0;34m\u001b[0m\n\u001b[0;32m----> 1\u001b[0;31m \u001b[0mprint\u001b[0m\u001b[0;34m(\u001b[0m\u001b[0ma\u001b[0m\u001b[0;34m*\u001b[0m\u001b[0mb\u001b[0m\u001b[0;34m)\u001b[0m\u001b[0;34m\u001b[0m\u001b[0;34m\u001b[0m\u001b[0m\n\u001b[0m",
            "\u001b[0;31mTypeError\u001b[0m: can't multiply sequence by non-int of type 'str'"
          ]
        }
      ]
    },
    {
      "cell_type": "code",
      "source": [
        "print(a*5)"
      ],
      "metadata": {
        "colab": {
          "base_uri": "https://localhost:8080/"
        },
        "id": "tOO4tPd58JWr",
        "outputId": "a53b2c35-9f37-4989-bcb7-79d976ee71b3"
      },
      "execution_count": 96,
      "outputs": [
        {
          "output_type": "stream",
          "name": "stdout",
          "text": [
            "krishnakrishnakrishnakrishnakrishna\n"
          ]
        }
      ]
    },
    {
      "cell_type": "code",
      "source": [
        "print(a/5)"
      ],
      "metadata": {
        "colab": {
          "base_uri": "https://localhost:8080/",
          "height": 172
        },
        "id": "hVWxOAzo8L5c",
        "outputId": "ebb6fa3d-da65-4a02-b277-998848b1a1ca"
      },
      "execution_count": 97,
      "outputs": [
        {
          "output_type": "error",
          "ename": "TypeError",
          "evalue": "ignored",
          "traceback": [
            "\u001b[0;31m---------------------------------------------------------------------------\u001b[0m",
            "\u001b[0;31mTypeError\u001b[0m                                 Traceback (most recent call last)",
            "\u001b[0;32m<ipython-input-97-f086dc708090>\u001b[0m in \u001b[0;36m<module>\u001b[0;34m\u001b[0m\n\u001b[0;32m----> 1\u001b[0;31m \u001b[0mprint\u001b[0m\u001b[0;34m(\u001b[0m\u001b[0ma\u001b[0m\u001b[0;34m/\u001b[0m\u001b[0;36m5\u001b[0m\u001b[0;34m)\u001b[0m\u001b[0;34m\u001b[0m\u001b[0;34m\u001b[0m\u001b[0m\n\u001b[0m",
            "\u001b[0;31mTypeError\u001b[0m: unsupported operand type(s) for /: 'str' and 'int'"
          ]
        }
      ]
    },
    {
      "cell_type": "markdown",
      "source": [
        "# Integer\n",
        "\n",
        "Integer constructor is int()\n",
        "\n",
        "Integer contain [0,1,2,3,4,5,6,7,8,9]"
      ],
      "metadata": {
        "id": "UE7JzJFK8Pc7"
      }
    },
    {
      "cell_type": "code",
      "source": [
        "a=10     # this is an interger"
      ],
      "metadata": {
        "id": "DqM9Zm8bp0d8"
      },
      "execution_count": 98,
      "outputs": []
    },
    {
      "cell_type": "code",
      "source": [
        "b=20"
      ],
      "metadata": {
        "id": "mgvwqntZqQpL"
      },
      "execution_count": 99,
      "outputs": []
    },
    {
      "cell_type": "code",
      "source": [
        "print(a+b)"
      ],
      "metadata": {
        "colab": {
          "base_uri": "https://localhost:8080/"
        },
        "id": "80QQfz24qWIa",
        "outputId": "0700e65f-2a53-4bde-dcda-528dfe6a8808"
      },
      "execution_count": 100,
      "outputs": [
        {
          "output_type": "stream",
          "name": "stdout",
          "text": [
            "30\n"
          ]
        }
      ]
    },
    {
      "cell_type": "code",
      "source": [
        "print(a-b)"
      ],
      "metadata": {
        "colab": {
          "base_uri": "https://localhost:8080/"
        },
        "id": "O6Zm3MipqYfq",
        "outputId": "f512e9de-13ca-4db8-eddd-2a67463e26e4"
      },
      "execution_count": 101,
      "outputs": [
        {
          "output_type": "stream",
          "name": "stdout",
          "text": [
            "-10\n"
          ]
        }
      ]
    },
    {
      "cell_type": "code",
      "source": [
        "print(a*b)"
      ],
      "metadata": {
        "colab": {
          "base_uri": "https://localhost:8080/"
        },
        "id": "eaTqRok-quzZ",
        "outputId": "fe231ca4-89aa-44f8-e94e-610400ae6d55"
      },
      "execution_count": 102,
      "outputs": [
        {
          "output_type": "stream",
          "name": "stdout",
          "text": [
            "200\n"
          ]
        }
      ]
    },
    {
      "cell_type": "code",
      "source": [
        "print(a/b)"
      ],
      "metadata": {
        "colab": {
          "base_uri": "https://localhost:8080/"
        },
        "id": "WK8DdQZzqxgp",
        "outputId": "70eb83dc-e36f-4f06-ddd0-4abc3bc71535"
      },
      "execution_count": 103,
      "outputs": [
        {
          "output_type": "stream",
          "name": "stdout",
          "text": [
            "0.5\n"
          ]
        }
      ]
    },
    {
      "cell_type": "code",
      "source": [
        "print(a**20)"
      ],
      "metadata": {
        "colab": {
          "base_uri": "https://localhost:8080/"
        },
        "id": "DEzmQ8IsqzS9",
        "outputId": "644d0e74-8359-48f1-d71e-8db85bebf6f4"
      },
      "execution_count": 104,
      "outputs": [
        {
          "output_type": "stream",
          "name": "stdout",
          "text": [
            "100000000000000000000\n"
          ]
        }
      ]
    },
    {
      "cell_type": "markdown",
      "source": [
        "# float\n",
        "\n",
        "float constructor is float()\n",
        "\n",
        "a numerical value which contain a point/decimal called float value."
      ],
      "metadata": {
        "id": "7sgN9U97rMWJ"
      }
    },
    {
      "cell_type": "code",
      "source": [
        "a=10.0"
      ],
      "metadata": {
        "id": "MciLzwXkrRcM"
      },
      "execution_count": 105,
      "outputs": []
    },
    {
      "cell_type": "code",
      "source": [
        "print(a)\n",
        "print(type(a))"
      ],
      "metadata": {
        "colab": {
          "base_uri": "https://localhost:8080/"
        },
        "id": "V4BsRIUjrgi5",
        "outputId": "140231cd-5250-40fb-c983-332c3750a6de"
      },
      "execution_count": 106,
      "outputs": [
        {
          "output_type": "stream",
          "name": "stdout",
          "text": [
            "10.0\n",
            "<class 'float'>\n"
          ]
        }
      ]
    },
    {
      "cell_type": "code",
      "source": [
        "b=2e10\n",
        "print(type(b))\n",
        "print(b)\n"
      ],
      "metadata": {
        "colab": {
          "base_uri": "https://localhost:8080/"
        },
        "id": "txafoudqrhxp",
        "outputId": "8b2ed8ac-8742-48ce-9224-37dc2394173b"
      },
      "execution_count": 107,
      "outputs": [
        {
          "output_type": "stream",
          "name": "stdout",
          "text": [
            "<class 'float'>\n",
            "20000000000.0\n"
          ]
        }
      ]
    },
    {
      "cell_type": "code",
      "source": [
        "b=2e10\n",
        "e=10\n",
        "print(2*e**10)"
      ],
      "metadata": {
        "colab": {
          "base_uri": "https://localhost:8080/"
        },
        "id": "5MVACbxjsh0Z",
        "outputId": "419d8bd7-5a79-46a5-f2af-cffb7d2ea0ac"
      },
      "execution_count": 108,
      "outputs": [
        {
          "output_type": "stream",
          "name": "stdout",
          "text": [
            "20000000000\n"
          ]
        }
      ]
    },
    {
      "cell_type": "code",
      "source": [
        "b=2e10\n",
        "e=10.0\n",
        "print(2*e**10)"
      ],
      "metadata": {
        "colab": {
          "base_uri": "https://localhost:8080/"
        },
        "id": "wsldVGMJs0Mc",
        "outputId": "8260a347-b170-414d-ef84-9e53df711934"
      },
      "execution_count": 109,
      "outputs": [
        {
          "output_type": "stream",
          "name": "stdout",
          "text": [
            "20000000000.0\n"
          ]
        }
      ]
    },
    {
      "cell_type": "markdown",
      "source": [
        "# complex \n",
        "\n",
        "complex number is combination of real and imaginary number(a+bj)\n",
        "\n",
        "\n",
        "complex datatype constructor is complex()"
      ],
      "metadata": {
        "id": "miLWErRHs3WJ"
      }
    },
    {
      "cell_type": "code",
      "source": [
        "a=2+4j"
      ],
      "metadata": {
        "id": "VXMp_eUVvKCl"
      },
      "execution_count": 110,
      "outputs": []
    },
    {
      "cell_type": "code",
      "source": [
        "print(a)"
      ],
      "metadata": {
        "colab": {
          "base_uri": "https://localhost:8080/"
        },
        "id": "aDf5FT2hvRoI",
        "outputId": "c5c197df-ced5-4969-fb93-1bc935f5516f"
      },
      "execution_count": 111,
      "outputs": [
        {
          "output_type": "stream",
          "name": "stdout",
          "text": [
            "(2+4j)\n"
          ]
        }
      ]
    },
    {
      "cell_type": "code",
      "source": [
        "print(type(a))"
      ],
      "metadata": {
        "colab": {
          "base_uri": "https://localhost:8080/"
        },
        "id": "FjyHX_MuvSUN",
        "outputId": "85dcdfb4-536b-442e-fb35-34ccb6edfc61"
      },
      "execution_count": 112,
      "outputs": [
        {
          "output_type": "stream",
          "name": "stdout",
          "text": [
            "<class 'complex'>\n"
          ]
        }
      ]
    },
    {
      "cell_type": "code",
      "source": [
        "b=2j\n",
        "print(b)\n",
        "print(type(b))"
      ],
      "metadata": {
        "colab": {
          "base_uri": "https://localhost:8080/"
        },
        "id": "FwfDhvJlvULZ",
        "outputId": "3acc4ed7-431d-439d-9eaf-0a062a2e49cb"
      },
      "execution_count": 113,
      "outputs": [
        {
          "output_type": "stream",
          "name": "stdout",
          "text": [
            "2j\n",
            "<class 'complex'>\n"
          ]
        }
      ]
    },
    {
      "cell_type": "code",
      "source": [
        "c=2*j"
      ],
      "metadata": {
        "colab": {
          "base_uri": "https://localhost:8080/",
          "height": 172
        },
        "id": "zSAKEREvvcAp",
        "outputId": "b774c964-a703-4654-bc0c-710340dbb3b5"
      },
      "execution_count": 114,
      "outputs": [
        {
          "output_type": "error",
          "ename": "NameError",
          "evalue": "ignored",
          "traceback": [
            "\u001b[0;31m---------------------------------------------------------------------------\u001b[0m",
            "\u001b[0;31mNameError\u001b[0m                                 Traceback (most recent call last)",
            "\u001b[0;32m<ipython-input-114-c3ba0be621df>\u001b[0m in \u001b[0;36m<module>\u001b[0;34m\u001b[0m\n\u001b[0;32m----> 1\u001b[0;31m \u001b[0mc\u001b[0m\u001b[0;34m=\u001b[0m\u001b[0;36m2\u001b[0m\u001b[0;34m*\u001b[0m\u001b[0mj\u001b[0m\u001b[0;34m\u001b[0m\u001b[0;34m\u001b[0m\u001b[0m\n\u001b[0m",
            "\u001b[0;31mNameError\u001b[0m: name 'j' is not defined"
          ]
        }
      ]
    },
    {
      "cell_type": "code",
      "source": [
        "j=1\n",
        "c=2*j"
      ],
      "metadata": {
        "id": "8ToiwxY_vwbZ"
      },
      "execution_count": 115,
      "outputs": []
    },
    {
      "cell_type": "code",
      "source": [
        "d=0j\n",
        "print(d)"
      ],
      "metadata": {
        "colab": {
          "base_uri": "https://localhost:8080/"
        },
        "id": "EueS9-rAv1YK",
        "outputId": "3a31f5f0-ac0c-4061-e0d8-5bb18c40b01f"
      },
      "execution_count": 116,
      "outputs": [
        {
          "output_type": "stream",
          "name": "stdout",
          "text": [
            "0j\n"
          ]
        }
      ]
    },
    {
      "cell_type": "markdown",
      "source": [
        "# bool\n",
        "\n",
        "bool is also known as boolean\n",
        "\n",
        "bool constructor is bool()\n",
        "\n",
        "bool() only gives us two output, either True or False."
      ],
      "metadata": {
        "id": "XvMQbFoJwcB5"
      }
    },
    {
      "cell_type": "code",
      "source": [
        "bool(10)"
      ],
      "metadata": {
        "colab": {
          "base_uri": "https://localhost:8080/"
        },
        "id": "qMW2FXu3xEyN",
        "outputId": "063d8b41-4369-457f-c12f-8d7cb2569dcf"
      },
      "execution_count": 117,
      "outputs": [
        {
          "output_type": "execute_result",
          "data": {
            "text/plain": [
              "True"
            ]
          },
          "metadata": {},
          "execution_count": 117
        }
      ]
    },
    {
      "cell_type": "code",
      "source": [
        "bool(\"krishna\")"
      ],
      "metadata": {
        "colab": {
          "base_uri": "https://localhost:8080/"
        },
        "id": "7oyN7u3bx6DK",
        "outputId": "3aa21c37-e8e7-4e32-b490-e157bcd5b06e"
      },
      "execution_count": 118,
      "outputs": [
        {
          "output_type": "execute_result",
          "data": {
            "text/plain": [
              "True"
            ]
          },
          "metadata": {},
          "execution_count": 118
        }
      ]
    },
    {
      "cell_type": "code",
      "source": [
        "bool(krishna)   # data type of argument is not known"
      ],
      "metadata": {
        "colab": {
          "base_uri": "https://localhost:8080/",
          "height": 172
        },
        "id": "miPQA25Vx_q5",
        "outputId": "1caf5b2b-7364-42b7-eb62-ca410527b0ea"
      },
      "execution_count": 119,
      "outputs": [
        {
          "output_type": "error",
          "ename": "NameError",
          "evalue": "ignored",
          "traceback": [
            "\u001b[0;31m---------------------------------------------------------------------------\u001b[0m",
            "\u001b[0;31mNameError\u001b[0m                                 Traceback (most recent call last)",
            "\u001b[0;32m<ipython-input-119-1c149ad772a6>\u001b[0m in \u001b[0;36m<module>\u001b[0;34m\u001b[0m\n\u001b[0;32m----> 1\u001b[0;31m \u001b[0mbool\u001b[0m\u001b[0;34m(\u001b[0m\u001b[0mkrishna\u001b[0m\u001b[0;34m)\u001b[0m   \u001b[0;31m# data type of argument is not known\u001b[0m\u001b[0;34m\u001b[0m\u001b[0;34m\u001b[0m\u001b[0m\n\u001b[0m",
            "\u001b[0;31mNameError\u001b[0m: name 'krishna' is not defined"
          ]
        }
      ]
    },
    {
      "cell_type": "code",
      "source": [
        "bool(\"\")"
      ],
      "metadata": {
        "id": "8S0vkVCpyBv5"
      },
      "execution_count": null,
      "outputs": []
    },
    {
      "cell_type": "code",
      "source": [
        "bool(0)"
      ],
      "metadata": {
        "colab": {
          "base_uri": "https://localhost:8080/"
        },
        "id": "UXsrSZnYytcY",
        "outputId": "241a7f0e-3952-47ab-c741-28a28cadb513"
      },
      "execution_count": 120,
      "outputs": [
        {
          "output_type": "execute_result",
          "data": {
            "text/plain": [
              "False"
            ]
          },
          "metadata": {},
          "execution_count": 120
        }
      ]
    },
    {
      "cell_type": "code",
      "source": [
        "bool(False)"
      ],
      "metadata": {
        "colab": {
          "base_uri": "https://localhost:8080/"
        },
        "id": "NEv_SmtFyyEY",
        "outputId": "8fc7c198-e8ea-4376-a3d9-621fb9eba5d4"
      },
      "execution_count": 121,
      "outputs": [
        {
          "output_type": "execute_result",
          "data": {
            "text/plain": [
              "False"
            ]
          },
          "metadata": {},
          "execution_count": 121
        }
      ]
    },
    {
      "cell_type": "code",
      "source": [
        "bool('False')"
      ],
      "metadata": {
        "colab": {
          "base_uri": "https://localhost:8080/"
        },
        "id": "EPKtzLRxy3va",
        "outputId": "2a32a4e9-45c4-4b95-f092-63f85ab1ee21"
      },
      "execution_count": 122,
      "outputs": [
        {
          "output_type": "execute_result",
          "data": {
            "text/plain": [
              "True"
            ]
          },
          "metadata": {},
          "execution_count": 122
        }
      ]
    },
    {
      "cell_type": "code",
      "source": [
        "bool(0.0000000000000000000000000000000000000000)"
      ],
      "metadata": {
        "colab": {
          "base_uri": "https://localhost:8080/"
        },
        "id": "Q-Y1W-DAy7Co",
        "outputId": "36557304-78bc-4727-9fe5-a6bcd9d6bfba"
      },
      "execution_count": 123,
      "outputs": [
        {
          "output_type": "execute_result",
          "data": {
            "text/plain": [
              "False"
            ]
          },
          "metadata": {},
          "execution_count": 123
        }
      ]
    },
    {
      "cell_type": "code",
      "source": [
        "bool(09)"
      ],
      "metadata": {
        "colab": {
          "base_uri": "https://localhost:8080/",
          "height": 135
        },
        "id": "a7r1MBuJzhWJ",
        "outputId": "530ebb37-f996-4172-f3f2-6beade07289e"
      },
      "execution_count": 124,
      "outputs": [
        {
          "output_type": "error",
          "ename": "SyntaxError",
          "evalue": "ignored",
          "traceback": [
            "\u001b[0;36m  File \u001b[0;32m\"<ipython-input-124-e5d3047367d5>\"\u001b[0;36m, line \u001b[0;32m1\u001b[0m\n\u001b[0;31m    bool(09)\u001b[0m\n\u001b[0m          ^\u001b[0m\n\u001b[0;31mSyntaxError\u001b[0m\u001b[0;31m:\u001b[0m invalid token\n"
          ]
        }
      ]
    },
    {
      "cell_type": "code",
      "source": [
        "bool(9)"
      ],
      "metadata": {
        "colab": {
          "base_uri": "https://localhost:8080/"
        },
        "id": "Sogc3qeJzxj5",
        "outputId": "5eedad5a-a16c-4021-a103-7e0b10282ddc"
      },
      "execution_count": 125,
      "outputs": [
        {
          "output_type": "execute_result",
          "data": {
            "text/plain": [
              "True"
            ]
          },
          "metadata": {},
          "execution_count": 125
        }
      ]
    },
    {
      "cell_type": "code",
      "source": [
        "bool(True)"
      ],
      "metadata": {
        "colab": {
          "base_uri": "https://localhost:8080/"
        },
        "id": "L3gKXnrg0Hn5",
        "outputId": "b2ce32ca-9f13-4b90-80e3-bbc630ce6554"
      },
      "execution_count": 126,
      "outputs": [
        {
          "output_type": "execute_result",
          "data": {
            "text/plain": [
              "True"
            ]
          },
          "metadata": {},
          "execution_count": 126
        }
      ]
    },
    {
      "cell_type": "code",
      "source": [
        "bool(None)"
      ],
      "metadata": {
        "colab": {
          "base_uri": "https://localhost:8080/"
        },
        "id": "YGjJN0L10mgY",
        "outputId": "0326accd-f130-49b0-91ce-27839266ad49"
      },
      "execution_count": 127,
      "outputs": [
        {
          "output_type": "execute_result",
          "data": {
            "text/plain": [
              "False"
            ]
          },
          "metadata": {},
          "execution_count": 127
        }
      ]
    },
    {
      "cell_type": "markdown",
      "source": [
        "# Builtins "
      ],
      "metadata": {
        "id": "ER-XAsZH0_Ro"
      }
    },
    {
      "cell_type": "code",
      "source": [
        "import builtins"
      ],
      "metadata": {
        "id": "LwTypZha1cd4"
      },
      "execution_count": 128,
      "outputs": []
    },
    {
      "cell_type": "code",
      "source": [
        "builtins.print(\"hello world\")"
      ],
      "metadata": {
        "colab": {
          "base_uri": "https://localhost:8080/"
        },
        "id": "SpW40B9N1too",
        "outputId": "3918b52f-6152-4458-e2e7-f39f404ee752"
      },
      "execution_count": 129,
      "outputs": [
        {
          "output_type": "stream",
          "name": "stdout",
          "text": [
            "hello world\n"
          ]
        }
      ]
    },
    {
      "cell_type": "markdown",
      "source": [
        "# list\n",
        "\n",
        "list constructor is list()\n",
        "\n",
        "list literal [ ]\n",
        "\n",
        "list support concatination \n",
        "\n",
        "list support indexing \n",
        "\n",
        "list support slicing \n",
        "\n",
        "list support nesting\n",
        "\n",
        "list is mutable(which values can change)\n",
        "\n",
        "list is a set of sequence of elements.\n",
        "\n",
        "list is slower then tuple \n",
        "\n",
        "list is also know as array of python\n",
        "\n",
        "\n"
      ],
      "metadata": {
        "id": "WVam9GtK2glo"
      }
    },
    {
      "cell_type": "code",
      "source": [
        "a=list()      #using list constructor we can create empty list"
      ],
      "metadata": {
        "id": "fypLCCPS271I"
      },
      "execution_count": 130,
      "outputs": []
    },
    {
      "cell_type": "code",
      "source": [
        "print(a)\n",
        "print(type(a))\n",
        "print(id(a))"
      ],
      "metadata": {
        "colab": {
          "base_uri": "https://localhost:8080/"
        },
        "id": "uxZE4xA33y5o",
        "outputId": "86e6640b-96db-4463-be6c-2f142c85ccb0"
      },
      "execution_count": 131,
      "outputs": [
        {
          "output_type": "stream",
          "name": "stdout",
          "text": [
            "[]\n",
            "<class 'list'>\n",
            "140489869349824\n"
          ]
        }
      ]
    },
    {
      "cell_type": "code",
      "source": [
        "b=[]        # using list literal we can create empty list\n",
        "print(b)\n",
        "print(type(b))\n",
        "print(id(b))"
      ],
      "metadata": {
        "colab": {
          "base_uri": "https://localhost:8080/"
        },
        "id": "c4Q1trCe3zno",
        "outputId": "7dd24fef-1812-4458-904c-0c0ca36d385a"
      },
      "execution_count": 132,
      "outputs": [
        {
          "output_type": "stream",
          "name": "stdout",
          "text": [
            "[]\n",
            "<class 'list'>\n",
            "140489869309584\n"
          ]
        }
      ]
    },
    {
      "cell_type": "code",
      "source": [
        "c=[\"krishna\"]\n",
        "d=[\"kumar\"]\n",
        "print(c+d)\n",
        "e=c+d"
      ],
      "metadata": {
        "colab": {
          "base_uri": "https://localhost:8080/"
        },
        "id": "R5dlSgc44WT4",
        "outputId": "38b0c191-bd15-4579-dea2-0183b92f0d36"
      },
      "execution_count": 133,
      "outputs": [
        {
          "output_type": "stream",
          "name": "stdout",
          "text": [
            "['krishna', 'kumar']\n"
          ]
        }
      ]
    },
    {
      "cell_type": "code",
      "source": [
        "print(e)"
      ],
      "metadata": {
        "colab": {
          "base_uri": "https://localhost:8080/"
        },
        "id": "13aOlzgt4sT6",
        "outputId": "bc299490-0062-4a23-8303-3708869db0a7"
      },
      "execution_count": 134,
      "outputs": [
        {
          "output_type": "stream",
          "name": "stdout",
          "text": [
            "['krishna', 'kumar']\n"
          ]
        }
      ]
    },
    {
      "cell_type": "code",
      "source": [
        "a=[1,2,3,4,5]\n",
        "print(a)\n",
        "print(type(a))"
      ],
      "metadata": {
        "colab": {
          "base_uri": "https://localhost:8080/"
        },
        "id": "NRp80FD36kL6",
        "outputId": "8dd995df-459c-4ea8-fc90-7ad70cac9f9e"
      },
      "execution_count": 135,
      "outputs": [
        {
          "output_type": "stream",
          "name": "stdout",
          "text": [
            "[1, 2, 3, 4, 5]\n",
            "<class 'list'>\n"
          ]
        }
      ]
    },
    {
      "cell_type": "code",
      "source": [
        "a"
      ],
      "metadata": {
        "colab": {
          "base_uri": "https://localhost:8080/"
        },
        "id": "qtaCnPmY6wM6",
        "outputId": "20ab87c6-988e-4f38-aeb6-cf7118ce0330"
      },
      "execution_count": 136,
      "outputs": [
        {
          "output_type": "execute_result",
          "data": {
            "text/plain": [
              "[1, 2, 3, 4, 5]"
            ]
          },
          "metadata": {},
          "execution_count": 136
        }
      ]
    },
    {
      "cell_type": "code",
      "source": [
        "a.append(6)"
      ],
      "metadata": {
        "id": "EeiXrdqg8eqI"
      },
      "execution_count": 137,
      "outputs": []
    },
    {
      "cell_type": "code",
      "source": [
        "print(a)"
      ],
      "metadata": {
        "colab": {
          "base_uri": "https://localhost:8080/"
        },
        "id": "X-OVJZ_V9ETX",
        "outputId": "51ffaf67-2b75-4357-cd78-7c7e73e25665"
      },
      "execution_count": 138,
      "outputs": [
        {
          "output_type": "stream",
          "name": "stdout",
          "text": [
            "[1, 2, 3, 4, 5, 6]\n"
          ]
        }
      ]
    },
    {
      "cell_type": "code",
      "source": [
        "a.clear()"
      ],
      "metadata": {
        "id": "Q-ggfpqv9FRX"
      },
      "execution_count": 139,
      "outputs": []
    },
    {
      "cell_type": "code",
      "source": [
        "a"
      ],
      "metadata": {
        "colab": {
          "base_uri": "https://localhost:8080/"
        },
        "id": "Z2CTWMDD9Sq3",
        "outputId": "fe307993-69a5-4306-b0f0-d9b3fcf7dfa5"
      },
      "execution_count": 140,
      "outputs": [
        {
          "output_type": "execute_result",
          "data": {
            "text/plain": [
              "[]"
            ]
          },
          "metadata": {},
          "execution_count": 140
        }
      ]
    },
    {
      "cell_type": "code",
      "source": [
        "a.extend([10,10.0,\"kumar\"])"
      ],
      "metadata": {
        "id": "HxQOKnXE9WRn"
      },
      "execution_count": 141,
      "outputs": []
    },
    {
      "cell_type": "code",
      "source": [
        "print(a)"
      ],
      "metadata": {
        "colab": {
          "base_uri": "https://localhost:8080/"
        },
        "id": "WQauK-iW9lZH",
        "outputId": "b32ab851-5b6c-466e-9fd0-f38f8b539e8b"
      },
      "execution_count": 142,
      "outputs": [
        {
          "output_type": "stream",
          "name": "stdout",
          "text": [
            "[10, 10.0, 'kumar']\n"
          ]
        }
      ]
    },
    {
      "cell_type": "code",
      "source": [
        "a.pop()   #case1 if pop() contain no argumanet then it will remove the last value"
      ],
      "metadata": {
        "colab": {
          "base_uri": "https://localhost:8080/",
          "height": 36
        },
        "id": "XiJLYXZn9pto",
        "outputId": "d5654694-1e8c-4383-e1b4-cf509065777b"
      },
      "execution_count": 143,
      "outputs": [
        {
          "output_type": "execute_result",
          "data": {
            "text/plain": [
              "'kumar'"
            ],
            "application/vnd.google.colaboratory.intrinsic+json": {
              "type": "string"
            }
          },
          "metadata": {},
          "execution_count": 143
        }
      ]
    },
    {
      "cell_type": "code",
      "source": [
        "print(a)"
      ],
      "metadata": {
        "colab": {
          "base_uri": "https://localhost:8080/"
        },
        "id": "mgDKibzT989X",
        "outputId": "9090eb33-d5d3-4ee8-c392-ccd673cdd778"
      },
      "execution_count": 144,
      "outputs": [
        {
          "output_type": "stream",
          "name": "stdout",
          "text": [
            "[10, 10.0]\n"
          ]
        }
      ]
    },
    {
      "cell_type": "code",
      "source": [
        "a.pop(0)  # case 2 if pop() contain index value as argument then it will remove the index value's number"
      ],
      "metadata": {
        "colab": {
          "base_uri": "https://localhost:8080/"
        },
        "id": "Z9uNRKVe9_c4",
        "outputId": "b4e34cda-e14e-469f-8a14-ef7d59b729ee"
      },
      "execution_count": 145,
      "outputs": [
        {
          "output_type": "execute_result",
          "data": {
            "text/plain": [
              "10"
            ]
          },
          "metadata": {},
          "execution_count": 145
        }
      ]
    },
    {
      "cell_type": "code",
      "source": [
        "print(a)"
      ],
      "metadata": {
        "colab": {
          "base_uri": "https://localhost:8080/"
        },
        "id": "oKxRyfjW-EEH",
        "outputId": "5b96233b-6132-4ce5-c197-96f58c2de114"
      },
      "execution_count": 146,
      "outputs": [
        {
          "output_type": "stream",
          "name": "stdout",
          "text": [
            "[10.0]\n"
          ]
        }
      ]
    },
    {
      "cell_type": "code",
      "source": [
        "a.pop(1)"
      ],
      "metadata": {
        "colab": {
          "base_uri": "https://localhost:8080/",
          "height": 172
        },
        "id": "cvsB17rv-g6X",
        "outputId": "00039103-a4dd-40aa-d1a5-d5f1b91d503a"
      },
      "execution_count": 148,
      "outputs": [
        {
          "output_type": "error",
          "ename": "IndexError",
          "evalue": "ignored",
          "traceback": [
            "\u001b[0;31m---------------------------------------------------------------------------\u001b[0m",
            "\u001b[0;31mIndexError\u001b[0m                                Traceback (most recent call last)",
            "\u001b[0;32m<ipython-input-148-c0c1bf4317e6>\u001b[0m in \u001b[0;36m<module>\u001b[0;34m\u001b[0m\n\u001b[0;32m----> 1\u001b[0;31m \u001b[0ma\u001b[0m\u001b[0;34m.\u001b[0m\u001b[0mpop\u001b[0m\u001b[0;34m(\u001b[0m\u001b[0;36m1\u001b[0m\u001b[0;34m)\u001b[0m\u001b[0;34m\u001b[0m\u001b[0;34m\u001b[0m\u001b[0m\n\u001b[0m",
            "\u001b[0;31mIndexError\u001b[0m: pop index out of range"
          ]
        }
      ]
    },
    {
      "cell_type": "code",
      "source": [
        "a=[1,2,3,4,5]\n",
        "a.pop(10)"
      ],
      "metadata": {
        "colab": {
          "base_uri": "https://localhost:8080/",
          "height": 190
        },
        "id": "YA-gfzh0-1MH",
        "outputId": "99aec10b-d7d4-47eb-cd8b-0d2704c2d7bf"
      },
      "execution_count": 149,
      "outputs": [
        {
          "output_type": "error",
          "ename": "IndexError",
          "evalue": "ignored",
          "traceback": [
            "\u001b[0;31m---------------------------------------------------------------------------\u001b[0m",
            "\u001b[0;31mIndexError\u001b[0m                                Traceback (most recent call last)",
            "\u001b[0;32m<ipython-input-149-beec772dcfb3>\u001b[0m in \u001b[0;36m<module>\u001b[0;34m\u001b[0m\n\u001b[1;32m      1\u001b[0m \u001b[0ma\u001b[0m\u001b[0;34m=\u001b[0m\u001b[0;34m[\u001b[0m\u001b[0;36m1\u001b[0m\u001b[0;34m,\u001b[0m\u001b[0;36m2\u001b[0m\u001b[0;34m,\u001b[0m\u001b[0;36m3\u001b[0m\u001b[0;34m,\u001b[0m\u001b[0;36m4\u001b[0m\u001b[0;34m,\u001b[0m\u001b[0;36m5\u001b[0m\u001b[0;34m]\u001b[0m\u001b[0;34m\u001b[0m\u001b[0;34m\u001b[0m\u001b[0m\n\u001b[0;32m----> 2\u001b[0;31m \u001b[0ma\u001b[0m\u001b[0;34m.\u001b[0m\u001b[0mpop\u001b[0m\u001b[0;34m(\u001b[0m\u001b[0;36m10\u001b[0m\u001b[0;34m)\u001b[0m\u001b[0;34m\u001b[0m\u001b[0;34m\u001b[0m\u001b[0m\n\u001b[0m",
            "\u001b[0;31mIndexError\u001b[0m: pop index out of range"
          ]
        }
      ]
    },
    {
      "cell_type": "code",
      "source": [
        "a=[1,2,3,4,5]\n",
        "a.pop(6)"
      ],
      "metadata": {
        "colab": {
          "base_uri": "https://localhost:8080/",
          "height": 190
        },
        "id": "qPPlLI9J-723",
        "outputId": "8d486e91-2a51-4b8a-d362-7cf45dcb37bd"
      },
      "execution_count": 150,
      "outputs": [
        {
          "output_type": "error",
          "ename": "IndexError",
          "evalue": "ignored",
          "traceback": [
            "\u001b[0;31m---------------------------------------------------------------------------\u001b[0m",
            "\u001b[0;31mIndexError\u001b[0m                                Traceback (most recent call last)",
            "\u001b[0;32m<ipython-input-150-683e1fd29e8d>\u001b[0m in \u001b[0;36m<module>\u001b[0;34m\u001b[0m\n\u001b[1;32m      1\u001b[0m \u001b[0ma\u001b[0m\u001b[0;34m=\u001b[0m\u001b[0;34m[\u001b[0m\u001b[0;36m1\u001b[0m\u001b[0;34m,\u001b[0m\u001b[0;36m2\u001b[0m\u001b[0;34m,\u001b[0m\u001b[0;36m3\u001b[0m\u001b[0;34m,\u001b[0m\u001b[0;36m4\u001b[0m\u001b[0;34m,\u001b[0m\u001b[0;36m5\u001b[0m\u001b[0;34m]\u001b[0m\u001b[0;34m\u001b[0m\u001b[0;34m\u001b[0m\u001b[0m\n\u001b[0;32m----> 2\u001b[0;31m \u001b[0ma\u001b[0m\u001b[0;34m.\u001b[0m\u001b[0mpop\u001b[0m\u001b[0;34m(\u001b[0m\u001b[0;36m6\u001b[0m\u001b[0;34m)\u001b[0m\u001b[0;34m\u001b[0m\u001b[0;34m\u001b[0m\u001b[0m\n\u001b[0m",
            "\u001b[0;31mIndexError\u001b[0m: pop index out of range"
          ]
        }
      ]
    },
    {
      "cell_type": "code",
      "source": [
        "a=[]\n",
        "a.pop(6)"
      ],
      "metadata": {
        "id": "lsT0Hv_I_a3n",
        "outputId": "b4d4dd94-0018-4457-a82c-fc6d972fe9ba",
        "colab": {
          "base_uri": "https://localhost:8080/",
          "height": 190
        }
      },
      "execution_count": 151,
      "outputs": [
        {
          "output_type": "error",
          "ename": "IndexError",
          "evalue": "ignored",
          "traceback": [
            "\u001b[0;31m---------------------------------------------------------------------------\u001b[0m",
            "\u001b[0;31mIndexError\u001b[0m                                Traceback (most recent call last)",
            "\u001b[0;32m<ipython-input-151-bb7d1fcc383b>\u001b[0m in \u001b[0;36m<module>\u001b[0;34m\u001b[0m\n\u001b[1;32m      1\u001b[0m \u001b[0ma\u001b[0m\u001b[0;34m=\u001b[0m\u001b[0;34m[\u001b[0m\u001b[0;34m]\u001b[0m\u001b[0;34m\u001b[0m\u001b[0;34m\u001b[0m\u001b[0m\n\u001b[0;32m----> 2\u001b[0;31m \u001b[0ma\u001b[0m\u001b[0;34m.\u001b[0m\u001b[0mpop\u001b[0m\u001b[0;34m(\u001b[0m\u001b[0;36m6\u001b[0m\u001b[0;34m)\u001b[0m\u001b[0;34m\u001b[0m\u001b[0;34m\u001b[0m\u001b[0m\n\u001b[0m",
            "\u001b[0;31mIndexError\u001b[0m: pop from empty list"
          ]
        }
      ]
    },
    {
      "cell_type": "code",
      "source": [
        "a=[1,2,3,4,5,6,7,8,9]\n",
        "print(a[1:10:2])\n",
        "print(a[0:10:2])\n",
        "\n"
      ],
      "metadata": {
        "id": "waN4r8Wj_fcH",
        "colab": {
          "base_uri": "https://localhost:8080/"
        },
        "outputId": "e2cdd42b-a41a-4f4a-8413-fae43f629857"
      },
      "execution_count": 152,
      "outputs": [
        {
          "output_type": "stream",
          "name": "stdout",
          "text": [
            "[2, 4, 6, 8]\n",
            "[1, 3, 5, 7, 9]\n"
          ]
        }
      ]
    },
    {
      "cell_type": "code",
      "source": [
        "a=10\n",
        "print(type([a]),[10])"
      ],
      "metadata": {
        "colab": {
          "base_uri": "https://localhost:8080/"
        },
        "id": "A1EA_mKikWH8",
        "outputId": "0b82d8d5-8c61-4615-c9ac-057664ab006e"
      },
      "execution_count": 153,
      "outputs": [
        {
          "output_type": "stream",
          "name": "stdout",
          "text": [
            "<class 'list'> [10]\n"
          ]
        }
      ]
    },
    {
      "cell_type": "code",
      "source": [
        "a=[1,2,3,4,[6,6,7,8,\"Krishna\"]]\n",
        "print(a[4][4])\n"
      ],
      "metadata": {
        "colab": {
          "base_uri": "https://localhost:8080/"
        },
        "id": "7W0QCyffnf1M",
        "outputId": "9f30f263-ee47-406a-daa7-1cc32f864a85"
      },
      "execution_count": 154,
      "outputs": [
        {
          "output_type": "stream",
          "name": "stdout",
          "text": [
            "Krishna\n"
          ]
        }
      ]
    },
    {
      "cell_type": "code",
      "source": [
        "a=[1,2,3,4,[6,6,7,8,\"Krishna\"]]"
      ],
      "metadata": {
        "id": "OD7O5jpdq2RP"
      },
      "execution_count": 155,
      "outputs": []
    },
    {
      "cell_type": "code",
      "source": [
        "print(a)"
      ],
      "metadata": {
        "colab": {
          "base_uri": "https://localhost:8080/"
        },
        "id": "jk5dvYygrct2",
        "outputId": "8bdb44eb-82a0-43e1-f75d-79b93175104e"
      },
      "execution_count": 156,
      "outputs": [
        {
          "output_type": "stream",
          "name": "stdout",
          "text": [
            "[1, 2, 3, 4, [6, 6, 7, 8, 'Krishna']]\n"
          ]
        }
      ]
    },
    {
      "cell_type": "code",
      "source": [
        "b=a[4]\n",
        "print(b)"
      ],
      "metadata": {
        "colab": {
          "base_uri": "https://localhost:8080/"
        },
        "id": "iCP1XmxFrefK",
        "outputId": "d6fe5bf9-c6db-4a2f-9713-6940503387a0"
      },
      "execution_count": 157,
      "outputs": [
        {
          "output_type": "stream",
          "name": "stdout",
          "text": [
            "[6, 6, 7, 8, 'Krishna']\n"
          ]
        }
      ]
    },
    {
      "cell_type": "code",
      "source": [
        "b[4]"
      ],
      "metadata": {
        "colab": {
          "base_uri": "https://localhost:8080/",
          "height": 36
        },
        "id": "bwddddbgrlYd",
        "outputId": "6474381f-09b7-4b63-f382-0e7d046ca51a"
      },
      "execution_count": 158,
      "outputs": [
        {
          "output_type": "execute_result",
          "data": {
            "text/plain": [
              "'Krishna'"
            ],
            "application/vnd.google.colaboratory.intrinsic+json": {
              "type": "string"
            }
          },
          "metadata": {},
          "execution_count": 158
        }
      ]
    },
    {
      "cell_type": "code",
      "source": [
        "print(a[4][4][5])"
      ],
      "metadata": {
        "colab": {
          "base_uri": "https://localhost:8080/"
        },
        "id": "uxi8pMvNr2d1",
        "outputId": "3001aa1d-9f1b-479b-d864-05fedb234781"
      },
      "execution_count": 159,
      "outputs": [
        {
          "output_type": "stream",
          "name": "stdout",
          "text": [
            "n\n"
          ]
        }
      ]
    },
    {
      "cell_type": "code",
      "source": [
        "a=[1,2,3,4,5,6]"
      ],
      "metadata": {
        "id": "GcH528cxsLyL"
      },
      "execution_count": 160,
      "outputs": []
    },
    {
      "cell_type": "markdown",
      "source": [
        "# Append() method"
      ],
      "metadata": {
        "id": "yITFe1wpuVWe"
      }
    },
    {
      "cell_type": "code",
      "source": [
        "a.append(10)"
      ],
      "metadata": {
        "id": "WPs972GytAnb"
      },
      "execution_count": 161,
      "outputs": []
    },
    {
      "cell_type": "code",
      "source": [
        "print(a)"
      ],
      "metadata": {
        "colab": {
          "base_uri": "https://localhost:8080/"
        },
        "id": "jufzv_R9ta7b",
        "outputId": "a42ed070-b8dc-4ec6-8559-d3942e35789f"
      },
      "execution_count": 162,
      "outputs": [
        {
          "output_type": "stream",
          "name": "stdout",
          "text": [
            "[1, 2, 3, 4, 5, 6, 10]\n"
          ]
        }
      ]
    },
    {
      "cell_type": "code",
      "source": [
        "a.append(10.0)"
      ],
      "metadata": {
        "id": "0hJiIxdrtdk8"
      },
      "execution_count": 163,
      "outputs": []
    },
    {
      "cell_type": "code",
      "source": [
        "print(a)"
      ],
      "metadata": {
        "colab": {
          "base_uri": "https://localhost:8080/"
        },
        "id": "kYDrcXUXtims",
        "outputId": "426e69a5-b12b-4c15-da18-a5543576bee7"
      },
      "execution_count": 164,
      "outputs": [
        {
          "output_type": "stream",
          "name": "stdout",
          "text": [
            "[1, 2, 3, 4, 5, 6, 10, 10.0]\n"
          ]
        }
      ]
    },
    {
      "cell_type": "code",
      "source": [
        "a.append('10.0')"
      ],
      "metadata": {
        "id": "IFd3yKmRtk1r"
      },
      "execution_count": 165,
      "outputs": []
    },
    {
      "cell_type": "code",
      "source": [
        "print(a)"
      ],
      "metadata": {
        "colab": {
          "base_uri": "https://localhost:8080/"
        },
        "id": "DSoNDo53ttaL",
        "outputId": "2931a316-4433-487c-e17b-c0f69c80f2e1"
      },
      "execution_count": 166,
      "outputs": [
        {
          "output_type": "stream",
          "name": "stdout",
          "text": [
            "[1, 2, 3, 4, 5, 6, 10, 10.0, '10.0']\n"
          ]
        }
      ]
    },
    {
      "cell_type": "code",
      "source": [
        "a.append([10])"
      ],
      "metadata": {
        "id": "UoerWPyytt7c"
      },
      "execution_count": 167,
      "outputs": []
    },
    {
      "cell_type": "code",
      "source": [
        "print(a)"
      ],
      "metadata": {
        "colab": {
          "base_uri": "https://localhost:8080/"
        },
        "id": "nwEOeDygt3OL",
        "outputId": "612092b1-263e-4936-a8fa-f8488007e8fd"
      },
      "execution_count": 168,
      "outputs": [
        {
          "output_type": "stream",
          "name": "stdout",
          "text": [
            "[1, 2, 3, 4, 5, 6, 10, 10.0, '10.0', [10]]\n"
          ]
        }
      ]
    },
    {
      "cell_type": "code",
      "source": [
        "a.append([4,5,6,\"k\",10.0])"
      ],
      "metadata": {
        "id": "y2z7Ksw6t4jL"
      },
      "execution_count": 169,
      "outputs": []
    },
    {
      "cell_type": "code",
      "source": [],
      "metadata": {
        "id": "RS_2oPYFu1Nu"
      },
      "execution_count": 169,
      "outputs": []
    },
    {
      "cell_type": "code",
      "source": [
        "print(a)"
      ],
      "metadata": {
        "colab": {
          "base_uri": "https://localhost:8080/"
        },
        "id": "79V-CA3UuPWr",
        "outputId": "3f1b2937-e276-4145-bf5e-69e92fb0b12d"
      },
      "execution_count": 170,
      "outputs": [
        {
          "output_type": "stream",
          "name": "stdout",
          "text": [
            "[1, 2, 3, 4, 5, 6, 10, 10.0, '10.0', [10], [4, 5, 6, 'k', 10.0]]\n"
          ]
        }
      ]
    },
    {
      "cell_type": "markdown",
      "source": [
        "# pop() method to remove elements from list"
      ],
      "metadata": {
        "id": "8o9cWgYFueao"
      }
    },
    {
      "cell_type": "code",
      "source": [
        "a=[1, 2, 3, 4, 5, 6, 10, 10.0, '10.0', [10]]\n",
        "a.pop()"
      ],
      "metadata": {
        "colab": {
          "base_uri": "https://localhost:8080/"
        },
        "id": "vpdu2XIpuRZr",
        "outputId": "5106c254-16ea-439c-b690-e6c7f88a7243"
      },
      "execution_count": 171,
      "outputs": [
        {
          "output_type": "execute_result",
          "data": {
            "text/plain": [
              "[10]"
            ]
          },
          "metadata": {},
          "execution_count": 171
        }
      ]
    },
    {
      "cell_type": "code",
      "source": [
        "print(a)"
      ],
      "metadata": {
        "colab": {
          "base_uri": "https://localhost:8080/"
        },
        "id": "RIraySzeumXY",
        "outputId": "89958a2f-be62-44a6-a45b-12cf1e2d1914"
      },
      "execution_count": 172,
      "outputs": [
        {
          "output_type": "stream",
          "name": "stdout",
          "text": [
            "[1, 2, 3, 4, 5, 6, 10, 10.0, '10.0']\n"
          ]
        }
      ]
    },
    {
      "cell_type": "code",
      "source": [
        "a.pop(4)   "
      ],
      "metadata": {
        "colab": {
          "base_uri": "https://localhost:8080/"
        },
        "id": "QcbphSm8vMtY",
        "outputId": "2c55fe9c-7617-4de7-b907-755bf3d639ca"
      },
      "execution_count": 173,
      "outputs": [
        {
          "output_type": "execute_result",
          "data": {
            "text/plain": [
              "5"
            ]
          },
          "metadata": {},
          "execution_count": 173
        }
      ]
    },
    {
      "cell_type": "code",
      "source": [
        "a.pop(9)"
      ],
      "metadata": {
        "colab": {
          "base_uri": "https://localhost:8080/",
          "height": 172
        },
        "id": "r_xtZ3SbxZsS",
        "outputId": "59ac17a3-3491-4db2-94f0-b0d93de94580"
      },
      "execution_count": 174,
      "outputs": [
        {
          "output_type": "error",
          "ename": "IndexError",
          "evalue": "ignored",
          "traceback": [
            "\u001b[0;31m---------------------------------------------------------------------------\u001b[0m",
            "\u001b[0;31mIndexError\u001b[0m                                Traceback (most recent call last)",
            "\u001b[0;32m<ipython-input-174-fdddbe065c7d>\u001b[0m in \u001b[0;36m<module>\u001b[0;34m\u001b[0m\n\u001b[0;32m----> 1\u001b[0;31m \u001b[0ma\u001b[0m\u001b[0;34m.\u001b[0m\u001b[0mpop\u001b[0m\u001b[0;34m(\u001b[0m\u001b[0;36m9\u001b[0m\u001b[0;34m)\u001b[0m\u001b[0;34m\u001b[0m\u001b[0;34m\u001b[0m\u001b[0m\n\u001b[0m",
            "\u001b[0;31mIndexError\u001b[0m: pop index out of range"
          ]
        }
      ]
    },
    {
      "cell_type": "code",
      "source": [
        "a"
      ],
      "metadata": {
        "colab": {
          "base_uri": "https://localhost:8080/"
        },
        "id": "BPVPhMnmvDYr",
        "outputId": "a9f591a9-9a32-4507-c626-20fdcb1801a2"
      },
      "execution_count": 175,
      "outputs": [
        {
          "output_type": "execute_result",
          "data": {
            "text/plain": [
              "[1, 2, 3, 4, 6, 10, 10.0, '10.0']"
            ]
          },
          "metadata": {},
          "execution_count": 175
        }
      ]
    },
    {
      "cell_type": "code",
      "source": [
        "b=a"
      ],
      "metadata": {
        "id": "vwp4_VyoxvsL"
      },
      "execution_count": 176,
      "outputs": []
    },
    {
      "cell_type": "code",
      "source": [
        "print(b)"
      ],
      "metadata": {
        "colab": {
          "base_uri": "https://localhost:8080/"
        },
        "id": "rjVnoiXHyoub",
        "outputId": "128c5293-b345-4592-bee6-c6f9ebb1f426"
      },
      "execution_count": 177,
      "outputs": [
        {
          "output_type": "stream",
          "name": "stdout",
          "text": [
            "[1, 2, 3, 4, 6, 10, 10.0, '10.0']\n"
          ]
        }
      ]
    },
    {
      "cell_type": "code",
      "source": [
        "b.append(10)"
      ],
      "metadata": {
        "id": "DTTdxSWKypVA"
      },
      "execution_count": 178,
      "outputs": []
    },
    {
      "cell_type": "code",
      "source": [
        "print(b)"
      ],
      "metadata": {
        "colab": {
          "base_uri": "https://localhost:8080/"
        },
        "id": "hIC8ckezysVb",
        "outputId": "6e3b0a25-00a3-46f6-c17d-52584af83925"
      },
      "execution_count": 179,
      "outputs": [
        {
          "output_type": "stream",
          "name": "stdout",
          "text": [
            "[1, 2, 3, 4, 6, 10, 10.0, '10.0', 10]\n"
          ]
        }
      ]
    },
    {
      "cell_type": "code",
      "source": [
        "print(a)"
      ],
      "metadata": {
        "colab": {
          "base_uri": "https://localhost:8080/"
        },
        "id": "oatTOIUpytQL",
        "outputId": "80bfcf85-74c9-44e6-a350-0425f07baad5"
      },
      "execution_count": 180,
      "outputs": [
        {
          "output_type": "stream",
          "name": "stdout",
          "text": [
            "[1, 2, 3, 4, 6, 10, 10.0, '10.0', 10]\n"
          ]
        }
      ]
    },
    {
      "cell_type": "code",
      "source": [
        "a"
      ],
      "metadata": {
        "colab": {
          "base_uri": "https://localhost:8080/"
        },
        "id": "4KmHhF4Yyusr",
        "outputId": "b8a8d891-13e6-4b81-81e2-6de38ef67b99"
      },
      "execution_count": 181,
      "outputs": [
        {
          "output_type": "execute_result",
          "data": {
            "text/plain": [
              "[1, 2, 3, 4, 6, 10, 10.0, '10.0', 10]"
            ]
          },
          "metadata": {},
          "execution_count": 181
        }
      ]
    },
    {
      "cell_type": "markdown",
      "source": [
        "#Copy method()"
      ],
      "metadata": {
        "id": "otv_9BZFrLJk"
      }
    },
    {
      "cell_type": "code",
      "source": [
        "b=a.copy()"
      ],
      "metadata": {
        "id": "hAFYwv54zzG9"
      },
      "execution_count": 182,
      "outputs": []
    },
    {
      "cell_type": "code",
      "source": [
        "print(a)"
      ],
      "metadata": {
        "colab": {
          "base_uri": "https://localhost:8080/"
        },
        "id": "rKQOQZawz56N",
        "outputId": "f7134677-1f3b-4ad3-872a-75b68185da1a"
      },
      "execution_count": 183,
      "outputs": [
        {
          "output_type": "stream",
          "name": "stdout",
          "text": [
            "[1, 2, 3, 4, 6, 10, 10.0, '10.0', 10]\n"
          ]
        }
      ]
    },
    {
      "cell_type": "code",
      "source": [
        "print(b)"
      ],
      "metadata": {
        "colab": {
          "base_uri": "https://localhost:8080/"
        },
        "id": "sLAVFr2iz6cO",
        "outputId": "ed2df024-227f-40ce-a53a-d2aea46f01c2"
      },
      "execution_count": 184,
      "outputs": [
        {
          "output_type": "stream",
          "name": "stdout",
          "text": [
            "[1, 2, 3, 4, 6, 10, 10.0, '10.0', 10]\n"
          ]
        }
      ]
    },
    {
      "cell_type": "code",
      "source": [
        "b.append(19999999)"
      ],
      "metadata": {
        "id": "QKK3fZdFz7RA"
      },
      "execution_count": 185,
      "outputs": []
    },
    {
      "cell_type": "code",
      "source": [
        "print(b)\n",
        "print(id(b))"
      ],
      "metadata": {
        "colab": {
          "base_uri": "https://localhost:8080/"
        },
        "id": "INDH-Yraz9y9",
        "outputId": "ba3018d9-8320-4799-c10d-7d38d75fc50b"
      },
      "execution_count": 186,
      "outputs": [
        {
          "output_type": "stream",
          "name": "stdout",
          "text": [
            "[1, 2, 3, 4, 6, 10, 10.0, '10.0', 10, 19999999]\n",
            "140489869326768\n"
          ]
        }
      ]
    },
    {
      "cell_type": "code",
      "source": [
        "print(a)              # int and float both count with count(10)\n",
        "print(id(a))"
      ],
      "metadata": {
        "colab": {
          "base_uri": "https://localhost:8080/"
        },
        "id": "YuQOYMsHz-79",
        "outputId": "d9e467e9-9bca-4bd7-81f2-1a926289f8d7"
      },
      "execution_count": 187,
      "outputs": [
        {
          "output_type": "stream",
          "name": "stdout",
          "text": [
            "[1, 2, 3, 4, 6, 10, 10.0, '10.0', 10]\n",
            "140490160613728\n"
          ]
        }
      ]
    },
    {
      "cell_type": "markdown",
      "source": [
        "# Count method"
      ],
      "metadata": {
        "id": "kv8SmxGJrQKy"
      }
    },
    {
      "cell_type": "code",
      "source": [
        "a.count(10)"
      ],
      "metadata": {
        "colab": {
          "base_uri": "https://localhost:8080/"
        },
        "id": "Np4Fh9dG0AA_",
        "outputId": "272d9877-f2d9-43d9-a405-db681b15c95b"
      },
      "execution_count": 188,
      "outputs": [
        {
          "output_type": "execute_result",
          "data": {
            "text/plain": [
              "3"
            ]
          },
          "metadata": {},
          "execution_count": 188
        }
      ]
    },
    {
      "cell_type": "code",
      "source": [
        "a=[1, 2, 3, 4, 6, 10, 10.0, '10.0', 10, 19999999]\n",
        "a.index(10)"
      ],
      "metadata": {
        "colab": {
          "base_uri": "https://localhost:8080/"
        },
        "id": "qrUgOqo31HDg",
        "outputId": "11f2fc6d-1b80-407d-d64d-0c67b2479735"
      },
      "execution_count": 189,
      "outputs": [
        {
          "output_type": "execute_result",
          "data": {
            "text/plain": [
              "5"
            ]
          },
          "metadata": {},
          "execution_count": 189
        }
      ]
    },
    {
      "cell_type": "code",
      "source": [
        "a"
      ],
      "metadata": {
        "id": "i5gkF-ZT4t9d",
        "colab": {
          "base_uri": "https://localhost:8080/"
        },
        "outputId": "a19a5a13-4686-473d-fc41-89ce95d412ed"
      },
      "execution_count": 190,
      "outputs": [
        {
          "output_type": "execute_result",
          "data": {
            "text/plain": [
              "[1, 2, 3, 4, 6, 10, 10.0, '10.0', 10, 19999999]"
            ]
          },
          "metadata": {},
          "execution_count": 190
        }
      ]
    },
    {
      "cell_type": "code",
      "source": [
        "a.insert(1,\"krishna\")   # index,values"
      ],
      "metadata": {
        "id": "hYh3PsykrYRx"
      },
      "execution_count": 191,
      "outputs": []
    },
    {
      "cell_type": "code",
      "source": [
        "print(a)"
      ],
      "metadata": {
        "colab": {
          "base_uri": "https://localhost:8080/"
        },
        "id": "K4RrEiQUrdgx",
        "outputId": "28aacc7f-3adf-4bae-8bc4-f3c193ba0199"
      },
      "execution_count": 192,
      "outputs": [
        {
          "output_type": "stream",
          "name": "stdout",
          "text": [
            "[1, 'krishna', 2, 3, 4, 6, 10, 10.0, '10.0', 10, 19999999]\n"
          ]
        }
      ]
    },
    {
      "cell_type": "code",
      "source": [
        "a.append([12,3,4,5])"
      ],
      "metadata": {
        "id": "7dYQB0gVrm5l"
      },
      "execution_count": 193,
      "outputs": []
    },
    {
      "cell_type": "code",
      "source": [
        "print(a)"
      ],
      "metadata": {
        "colab": {
          "base_uri": "https://localhost:8080/"
        },
        "id": "hzo72yDUsGVx",
        "outputId": "372c4ffd-51f4-4ced-e282-28bb1adc211d"
      },
      "execution_count": 194,
      "outputs": [
        {
          "output_type": "stream",
          "name": "stdout",
          "text": [
            "[1, 'krishna', 2, 3, 4, 6, 10, 10.0, '10.0', 10, 19999999, [12, 3, 4, 5]]\n"
          ]
        }
      ]
    },
    {
      "cell_type": "code",
      "source": [
        "a.extend([1,3,4,5,6])"
      ],
      "metadata": {
        "id": "4HqBRrewsISS"
      },
      "execution_count": 195,
      "outputs": []
    },
    {
      "cell_type": "code",
      "source": [
        "print(a)"
      ],
      "metadata": {
        "colab": {
          "base_uri": "https://localhost:8080/"
        },
        "id": "prHDdcKOsWCx",
        "outputId": "4cfe353e-ccc3-47e2-e1f7-cd424bb035e0"
      },
      "execution_count": 196,
      "outputs": [
        {
          "output_type": "stream",
          "name": "stdout",
          "text": [
            "[1, 'krishna', 2, 3, 4, 6, 10, 10.0, '10.0', 10, 19999999, [12, 3, 4, 5], 1, 3, 4, 5, 6]\n"
          ]
        }
      ]
    },
    {
      "cell_type": "code",
      "source": [
        "a.clear()"
      ],
      "metadata": {
        "id": "RYQcY8ktsfEh"
      },
      "execution_count": 197,
      "outputs": []
    },
    {
      "cell_type": "code",
      "source": [
        "print(a)"
      ],
      "metadata": {
        "colab": {
          "base_uri": "https://localhost:8080/"
        },
        "id": "h2hjzlMHtDMx",
        "outputId": "c96bddd3-aee4-48af-cbc9-2485a34ba628"
      },
      "execution_count": 198,
      "outputs": [
        {
          "output_type": "stream",
          "name": "stdout",
          "text": [
            "[]\n"
          ]
        }
      ]
    },
    {
      "cell_type": "code",
      "source": [
        "a.extend([3,42,1,10,5,])"
      ],
      "metadata": {
        "id": "XWZlRCYFtFHx"
      },
      "execution_count": 199,
      "outputs": []
    },
    {
      "cell_type": "code",
      "source": [
        "a"
      ],
      "metadata": {
        "colab": {
          "base_uri": "https://localhost:8080/"
        },
        "id": "vAv2fACftZFg",
        "outputId": "cd9e761b-52ac-4a7a-c474-64be17d5da05"
      },
      "execution_count": 200,
      "outputs": [
        {
          "output_type": "execute_result",
          "data": {
            "text/plain": [
              "[3, 42, 1, 10, 5]"
            ]
          },
          "metadata": {},
          "execution_count": 200
        }
      ]
    },
    {
      "cell_type": "code",
      "source": [
        "a.sort()"
      ],
      "metadata": {
        "id": "ga5fzdWJtZfS"
      },
      "execution_count": 201,
      "outputs": []
    },
    {
      "cell_type": "code",
      "source": [
        "print(a)"
      ],
      "metadata": {
        "colab": {
          "base_uri": "https://localhost:8080/"
        },
        "id": "OzXyW3X9tkAx",
        "outputId": "5703d2a0-43b7-4672-969e-c20456949db8"
      },
      "execution_count": 202,
      "outputs": [
        {
          "output_type": "stream",
          "name": "stdout",
          "text": [
            "[1, 3, 5, 10, 42]\n"
          ]
        }
      ]
    },
    {
      "cell_type": "code",
      "source": [
        "a.sort(reverse=True)"
      ],
      "metadata": {
        "id": "pfirsX5btmBJ"
      },
      "execution_count": 203,
      "outputs": []
    },
    {
      "cell_type": "code",
      "source": [
        "a"
      ],
      "metadata": {
        "colab": {
          "base_uri": "https://localhost:8080/"
        },
        "id": "HR-EZW_kt2MB",
        "outputId": "00eeab22-086d-42a4-d3c2-8240d73d473f"
      },
      "execution_count": 204,
      "outputs": [
        {
          "output_type": "execute_result",
          "data": {
            "text/plain": [
              "[42, 10, 5, 3, 1]"
            ]
          },
          "metadata": {},
          "execution_count": 204
        }
      ]
    },
    {
      "cell_type": "code",
      "source": [
        "a.sort()"
      ],
      "metadata": {
        "id": "aJA-M3ETt3DR"
      },
      "execution_count": 205,
      "outputs": []
    },
    {
      "cell_type": "code",
      "source": [
        "print(a)"
      ],
      "metadata": {
        "colab": {
          "base_uri": "https://localhost:8080/"
        },
        "id": "USFSFz-SuC4R",
        "outputId": "4ca9a007-02d4-4f8a-d092-4f071fb80050"
      },
      "execution_count": 206,
      "outputs": [
        {
          "output_type": "stream",
          "name": "stdout",
          "text": [
            "[1, 3, 5, 10, 42]\n"
          ]
        }
      ]
    },
    {
      "cell_type": "markdown",
      "source": [
        "# tuple\n",
        "\n",
        "tuple is immutable data type\n",
        "\n",
        "tuple constructor tuple()\n",
        "\n",
        "tuple literal help us to creat a empty tuple which is ()\n",
        "\n",
        "tuple is a set of sequence of elements.\n",
        "\n",
        "tuple support indexing \n",
        "\n",
        "tuple support slicing \n",
        "\n",
        "tuple is faster then list "
      ],
      "metadata": {
        "id": "FvRxYGzNuENg"
      }
    },
    {
      "cell_type": "code",
      "source": [
        "# using tuple literal I am creating a tuple\n",
        "a=()\n",
        "print(a)\n",
        "print(type(a))"
      ],
      "metadata": {
        "colab": {
          "base_uri": "https://localhost:8080/"
        },
        "id": "kTK_9Z2cxLvN",
        "outputId": "51bb2a21-55c0-43fb-d2be-cac0d66f7139"
      },
      "execution_count": 207,
      "outputs": [
        {
          "output_type": "stream",
          "name": "stdout",
          "text": [
            "()\n",
            "<class 'tuple'>\n"
          ]
        }
      ]
    },
    {
      "cell_type": "code",
      "source": [
        "# using constructor of tuple we can create a tuple()\n",
        "b=tuple()\n",
        "print(b)\n",
        "print(type(b))"
      ],
      "metadata": {
        "colab": {
          "base_uri": "https://localhost:8080/"
        },
        "id": "Cqd8FKF9yfER",
        "outputId": "4b1bee69-c137-46a7-bfa6-be4f62512a9e"
      },
      "execution_count": 208,
      "outputs": [
        {
          "output_type": "stream",
          "name": "stdout",
          "text": [
            "()\n",
            "<class 'tuple'>\n"
          ]
        }
      ]
    },
    {
      "cell_type": "code",
      "source": [
        "c=(1,2,3,4,10.0,\"krishna\")        #tuple is a set of sequence of elments seperated by \",\"\n",
        "print(c)\n",
        "print(type(c))"
      ],
      "metadata": {
        "colab": {
          "base_uri": "https://localhost:8080/"
        },
        "id": "km7eraAPy0Jh",
        "outputId": "e39ad417-4548-4317-f4d2-5151d924a74f"
      },
      "execution_count": 209,
      "outputs": [
        {
          "output_type": "stream",
          "name": "stdout",
          "text": [
            "(1, 2, 3, 4, 10.0, 'krishna')\n",
            "<class 'tuple'>\n"
          ]
        }
      ]
    },
    {
      "cell_type": "code",
      "source": [
        "c.count(2)"
      ],
      "metadata": {
        "colab": {
          "base_uri": "https://localhost:8080/"
        },
        "id": "YLCsH1oLzOgh",
        "outputId": "6913452d-283d-4f5c-be32-c812132f303d"
      },
      "execution_count": 210,
      "outputs": [
        {
          "output_type": "execute_result",
          "data": {
            "text/plain": [
              "1"
            ]
          },
          "metadata": {},
          "execution_count": 210
        }
      ]
    },
    {
      "cell_type": "code",
      "source": [
        "c.index(2)"
      ],
      "metadata": {
        "colab": {
          "base_uri": "https://localhost:8080/"
        },
        "id": "1z3WUWCD1gkx",
        "outputId": "948d9f1b-0f2e-4ea7-b9e9-998122169868"
      },
      "execution_count": 211,
      "outputs": [
        {
          "output_type": "execute_result",
          "data": {
            "text/plain": [
              "1"
            ]
          },
          "metadata": {},
          "execution_count": 211
        }
      ]
    },
    {
      "cell_type": "code",
      "source": [
        "KTS=(\"Hari\",\"Chetan\",\"Parek\")"
      ],
      "metadata": {
        "id": "lAM4LmK31wCw"
      },
      "execution_count": 212,
      "outputs": []
    },
    {
      "cell_type": "code",
      "source": [
        "print(type(KTS))"
      ],
      "metadata": {
        "colab": {
          "base_uri": "https://localhost:8080/"
        },
        "id": "nzPzkAX52-Tm",
        "outputId": "7116467e-665f-4a8e-9520-4b42e8b2667b"
      },
      "execution_count": 213,
      "outputs": [
        {
          "output_type": "stream",
          "name": "stdout",
          "text": [
            "<class 'tuple'>\n"
          ]
        }
      ]
    },
    {
      "cell_type": "code",
      "source": [
        "a=list(KTS)"
      ],
      "metadata": {
        "id": "z6yauCBE3a-w"
      },
      "execution_count": 214,
      "outputs": []
    },
    {
      "cell_type": "code",
      "source": [
        "print(a)"
      ],
      "metadata": {
        "colab": {
          "base_uri": "https://localhost:8080/"
        },
        "id": "kDlIkl4l3uqg",
        "outputId": "d37e33f0-cf1a-4086-c112-6d6b1262e275"
      },
      "execution_count": 215,
      "outputs": [
        {
          "output_type": "stream",
          "name": "stdout",
          "text": [
            "['Hari', 'Chetan', 'Parek']\n"
          ]
        }
      ]
    },
    {
      "cell_type": "code",
      "source": [
        "a.append(\"yum\")"
      ],
      "metadata": {
        "id": "R8bZ-ECv31Jh"
      },
      "execution_count": 216,
      "outputs": []
    },
    {
      "cell_type": "code",
      "source": [
        "print(a)"
      ],
      "metadata": {
        "colab": {
          "base_uri": "https://localhost:8080/"
        },
        "id": "0knR2aeW5BFQ",
        "outputId": "58cf3f51-9f5b-4749-cff3-22c8584b7c48"
      },
      "execution_count": 217,
      "outputs": [
        {
          "output_type": "stream",
          "name": "stdout",
          "text": [
            "['Hari', 'Chetan', 'Parek', 'yum']\n"
          ]
        }
      ]
    },
    {
      "cell_type": "code",
      "source": [
        "KTS=tuple(a)"
      ],
      "metadata": {
        "id": "1DkEAUMg5CLh"
      },
      "execution_count": 218,
      "outputs": []
    },
    {
      "cell_type": "code",
      "source": [
        "KTS"
      ],
      "metadata": {
        "colab": {
          "base_uri": "https://localhost:8080/"
        },
        "id": "Fi5q6Sof5qQx",
        "outputId": "c2692bef-8632-4c6a-a4f1-f1080607adc9"
      },
      "execution_count": 219,
      "outputs": [
        {
          "output_type": "execute_result",
          "data": {
            "text/plain": [
              "('Hari', 'Chetan', 'Parek', 'yum')"
            ]
          },
          "metadata": {},
          "execution_count": 219
        }
      ]
    },
    {
      "cell_type": "code",
      "source": [
        "a=list(KTS)"
      ],
      "metadata": {
        "id": "azBLvc_m5rDR"
      },
      "execution_count": 220,
      "outputs": []
    },
    {
      "cell_type": "code",
      "source": [
        "a"
      ],
      "metadata": {
        "colab": {
          "base_uri": "https://localhost:8080/"
        },
        "id": "nJhL_hDT6Nxh",
        "outputId": "73ad2d56-4b30-40e3-dd21-942266b8c6d2"
      },
      "execution_count": 221,
      "outputs": [
        {
          "output_type": "execute_result",
          "data": {
            "text/plain": [
              "['Hari', 'Chetan', 'Parek', 'yum']"
            ]
          },
          "metadata": {},
          "execution_count": 221
        }
      ]
    },
    {
      "cell_type": "code",
      "source": [
        "a.remove('Chetan')"
      ],
      "metadata": {
        "id": "dbb7sf4_6Oah"
      },
      "execution_count": 222,
      "outputs": []
    },
    {
      "cell_type": "code",
      "source": [
        "a"
      ],
      "metadata": {
        "colab": {
          "base_uri": "https://localhost:8080/"
        },
        "id": "-Vs4KrBO6TFB",
        "outputId": "f8cf78a3-0b29-400e-c5b0-04b2c3f13d93"
      },
      "execution_count": 223,
      "outputs": [
        {
          "output_type": "execute_result",
          "data": {
            "text/plain": [
              "['Hari', 'Parek', 'yum']"
            ]
          },
          "metadata": {},
          "execution_count": 223
        }
      ]
    },
    {
      "cell_type": "code",
      "source": [
        "KTS=tuple(a)"
      ],
      "metadata": {
        "id": "DyJCuG3x6TzQ"
      },
      "execution_count": 224,
      "outputs": []
    },
    {
      "cell_type": "code",
      "source": [
        "KTS"
      ],
      "metadata": {
        "colab": {
          "base_uri": "https://localhost:8080/"
        },
        "id": "c-bst3rN6aMw",
        "outputId": "1bd4993e-9882-4e29-ea3d-06a12c2a235a"
      },
      "execution_count": 225,
      "outputs": [
        {
          "output_type": "execute_result",
          "data": {
            "text/plain": [
              "('Hari', 'Parek', 'yum')"
            ]
          },
          "metadata": {},
          "execution_count": 225
        }
      ]
    },
    {
      "cell_type": "code",
      "source": [
        "a=(1,2,3,4)\n",
        "b=[5,6,7,8]"
      ],
      "metadata": {
        "id": "8uOqt5zG6awA"
      },
      "execution_count": 226,
      "outputs": []
    },
    {
      "cell_type": "code",
      "source": [
        "a_list=list(a)"
      ],
      "metadata": {
        "id": "kOG8HkIg8IOR"
      },
      "execution_count": 227,
      "outputs": []
    },
    {
      "cell_type": "code",
      "source": [
        "a_list"
      ],
      "metadata": {
        "colab": {
          "base_uri": "https://localhost:8080/"
        },
        "id": "QBWDBOYW8TBR",
        "outputId": "f61cd56f-08db-4bc1-e1cd-239a4cd5f85e"
      },
      "execution_count": 228,
      "outputs": [
        {
          "output_type": "execute_result",
          "data": {
            "text/plain": [
              "[1, 2, 3, 4]"
            ]
          },
          "metadata": {},
          "execution_count": 228
        }
      ]
    },
    {
      "cell_type": "code",
      "source": [
        "a_list.extend(b)"
      ],
      "metadata": {
        "id": "uSsvow3z8UGg"
      },
      "execution_count": 229,
      "outputs": []
    },
    {
      "cell_type": "code",
      "source": [
        "a_list"
      ],
      "metadata": {
        "colab": {
          "base_uri": "https://localhost:8080/"
        },
        "id": "8c8dJBeF8aVB",
        "outputId": "49dbf3e5-8ed1-4234-8126-b5b80a1172a1"
      },
      "execution_count": 230,
      "outputs": [
        {
          "output_type": "execute_result",
          "data": {
            "text/plain": [
              "[1, 2, 3, 4, 5, 6, 7, 8]"
            ]
          },
          "metadata": {},
          "execution_count": 230
        }
      ]
    },
    {
      "cell_type": "code",
      "source": [
        "a=tuple(a_list)"
      ],
      "metadata": {
        "id": "RkxVeW3J8cAw"
      },
      "execution_count": 231,
      "outputs": []
    },
    {
      "cell_type": "code",
      "source": [
        "a"
      ],
      "metadata": {
        "id": "4mMU_DjH8iqh",
        "outputId": "6589ac18-c994-4c5e-d2e8-7aae6458f99c",
        "colab": {
          "base_uri": "https://localhost:8080/"
        }
      },
      "execution_count": 232,
      "outputs": [
        {
          "output_type": "execute_result",
          "data": {
            "text/plain": [
              "(1, 2, 3, 4, 5, 6, 7, 8)"
            ]
          },
          "metadata": {},
          "execution_count": 232
        }
      ]
    },
    {
      "cell_type": "markdown",
      "source": [
        "#tuple  --> tuple is immutable collection of set of sequence of elements.\n",
        "\n",
        "> tuple constructor is tuple()\n",
        "\n",
        "> tuple literal is ()\n",
        "\n",
        "> tuple is immutable \n",
        "\n",
        "> tuple index slicing and indexing \n",
        "\n",
        "> tuple is set of sequence of elements.\n",
        "\n",
        ">tuple is faster then list\n"
      ],
      "metadata": {
        "id": "1SDQzH_B8i7g"
      }
    },
    {
      "cell_type": "code",
      "source": [
        "a=tuple()\n",
        "print(a)     # ()\n",
        "print(type(a))  #<class 'tuple'>"
      ],
      "metadata": {
        "colab": {
          "base_uri": "https://localhost:8080/"
        },
        "id": "9cQJJgbgopLb",
        "outputId": "58f5b9bc-422b-40c6-a3ae-c39dbae52e00"
      },
      "execution_count": 233,
      "outputs": [
        {
          "output_type": "stream",
          "name": "stdout",
          "text": [
            "()\n",
            "<class 'tuple'>\n"
          ]
        }
      ]
    },
    {
      "cell_type": "markdown",
      "source": [
        "# tuple is immutable"
      ],
      "metadata": {
        "id": "K6IW70NgovW_"
      }
    },
    {
      "cell_type": "code",
      "source": [
        "a=(1,2,3,4)\n",
        "a.count(3)"
      ],
      "metadata": {
        "colab": {
          "base_uri": "https://localhost:8080/"
        },
        "id": "6c6lFkx_pHnv",
        "outputId": "6dcb308f-c2c9-4040-cd59-95c36d071910"
      },
      "execution_count": 234,
      "outputs": [
        {
          "output_type": "execute_result",
          "data": {
            "text/plain": [
              "1"
            ]
          },
          "metadata": {},
          "execution_count": 234
        }
      ]
    },
    {
      "cell_type": "code",
      "source": [
        "a.index(3)\n"
      ],
      "metadata": {
        "colab": {
          "base_uri": "https://localhost:8080/"
        },
        "id": "KTw5VPwXpSEv",
        "outputId": "f052861d-06a2-4ff1-f85d-4022d528b76f"
      },
      "execution_count": 235,
      "outputs": [
        {
          "output_type": "execute_result",
          "data": {
            "text/plain": [
              "2"
            ]
          },
          "metadata": {},
          "execution_count": 235
        }
      ]
    },
    {
      "cell_type": "code",
      "source": [
        "b=(1,2,2,2,3,3,4,5,6,4,4,4)"
      ],
      "metadata": {
        "id": "hSCDRfTopYst"
      },
      "execution_count": 236,
      "outputs": []
    },
    {
      "cell_type": "code",
      "source": [
        "b.index(2)"
      ],
      "metadata": {
        "colab": {
          "base_uri": "https://localhost:8080/"
        },
        "id": "fmXFyYTgpdXN",
        "outputId": "b1b7adce-a72f-4938-c7d0-786b3c81e17f"
      },
      "execution_count": 237,
      "outputs": [
        {
          "output_type": "execute_result",
          "data": {
            "text/plain": [
              "1"
            ]
          },
          "metadata": {},
          "execution_count": 237
        }
      ]
    },
    {
      "cell_type": "markdown",
      "source": [
        "#tuple support indexing and slicing "
      ],
      "metadata": {
        "id": "Ga0AxDjEpnyL"
      }
    },
    {
      "cell_type": "code",
      "source": [
        "c=(4,2,1,4,\"krishna\",10.023)\n",
        "c[4]"
      ],
      "metadata": {
        "colab": {
          "base_uri": "https://localhost:8080/",
          "height": 36
        },
        "id": "EavXlC6ZpzKM",
        "outputId": "f02f6a19-1f5f-4e56-97a1-3776c78c15c8"
      },
      "execution_count": 238,
      "outputs": [
        {
          "output_type": "execute_result",
          "data": {
            "text/plain": [
              "'krishna'"
            ],
            "application/vnd.google.colaboratory.intrinsic+json": {
              "type": "string"
            }
          },
          "metadata": {},
          "execution_count": 238
        }
      ]
    },
    {
      "cell_type": "code",
      "source": [
        "c[-1]"
      ],
      "metadata": {
        "colab": {
          "base_uri": "https://localhost:8080/"
        },
        "id": "FANnKbuAqFe8",
        "outputId": "14ab1be2-39f2-452f-d1fc-126e9ca63582"
      },
      "execution_count": 239,
      "outputs": [
        {
          "output_type": "execute_result",
          "data": {
            "text/plain": [
              "10.023"
            ]
          },
          "metadata": {},
          "execution_count": 239
        }
      ]
    },
    {
      "cell_type": "code",
      "source": [
        "c[2:5:1]"
      ],
      "metadata": {
        "colab": {
          "base_uri": "https://localhost:8080/"
        },
        "id": "mDuhPcpJqhbM",
        "outputId": "0f40af83-721f-40af-ac56-cce7e9e6388f"
      },
      "execution_count": 240,
      "outputs": [
        {
          "output_type": "execute_result",
          "data": {
            "text/plain": [
              "(1, 4, 'krishna')"
            ]
          },
          "metadata": {},
          "execution_count": 240
        }
      ]
    },
    {
      "cell_type": "code",
      "source": [
        "c"
      ],
      "metadata": {
        "colab": {
          "base_uri": "https://localhost:8080/"
        },
        "id": "_j5QOsQ_qpzN",
        "outputId": "2d2efd9d-4160-46e0-ae75-4af5e7bf1fdd"
      },
      "execution_count": 241,
      "outputs": [
        {
          "output_type": "execute_result",
          "data": {
            "text/plain": [
              "(4, 2, 1, 4, 'krishna', 10.023)"
            ]
          },
          "metadata": {},
          "execution_count": 241
        }
      ]
    },
    {
      "cell_type": "code",
      "source": [
        "c[-4:-1:1]"
      ],
      "metadata": {
        "colab": {
          "base_uri": "https://localhost:8080/"
        },
        "id": "zwc05DqIqvYM",
        "outputId": "b1b3dbf4-f520-4e07-905e-fcc8f5335179"
      },
      "execution_count": 242,
      "outputs": [
        {
          "output_type": "execute_result",
          "data": {
            "text/plain": [
              "(1, 4, 'krishna')"
            ]
          },
          "metadata": {},
          "execution_count": 242
        }
      ]
    },
    {
      "cell_type": "code",
      "source": [
        "c[-2:-5:-1]"
      ],
      "metadata": {
        "colab": {
          "base_uri": "https://localhost:8080/"
        },
        "id": "B8cSY_-Aq_Hv",
        "outputId": "fc0df24c-6010-4f26-ee8a-bd3a94d57e78"
      },
      "execution_count": 243,
      "outputs": [
        {
          "output_type": "execute_result",
          "data": {
            "text/plain": [
              "('krishna', 4, 1)"
            ]
          },
          "metadata": {},
          "execution_count": 243
        }
      ]
    },
    {
      "cell_type": "code",
      "source": [
        "c[::-1]"
      ],
      "metadata": {
        "colab": {
          "base_uri": "https://localhost:8080/"
        },
        "id": "um0hCDcarPCc",
        "outputId": "ea6f3cb8-0770-4227-9203-fca3785c602b"
      },
      "execution_count": 244,
      "outputs": [
        {
          "output_type": "execute_result",
          "data": {
            "text/plain": [
              "(10.023, 'krishna', 4, 1, 2, 4)"
            ]
          },
          "metadata": {},
          "execution_count": 244
        }
      ]
    },
    {
      "cell_type": "code",
      "source": [
        "a=1,2,3,4,5,\"krishna\""
      ],
      "metadata": {
        "id": "do8p36P0tFzh"
      },
      "execution_count": 245,
      "outputs": []
    },
    {
      "cell_type": "code",
      "source": [
        "a"
      ],
      "metadata": {
        "colab": {
          "base_uri": "https://localhost:8080/"
        },
        "id": "tKBDTHSFtTpJ",
        "outputId": "6e84541d-0044-4b7e-a1a4-aaa6a6e3cc55"
      },
      "execution_count": 246,
      "outputs": [
        {
          "output_type": "execute_result",
          "data": {
            "text/plain": [
              "(1, 2, 3, 4, 5, 'krishna')"
            ]
          },
          "metadata": {},
          "execution_count": 246
        }
      ]
    },
    {
      "cell_type": "code",
      "source": [
        "print(type(a))"
      ],
      "metadata": {
        "colab": {
          "base_uri": "https://localhost:8080/"
        },
        "id": "NHyFWHO9tT6N",
        "outputId": "134a9e44-a7f2-41e7-fb75-438914522b34"
      },
      "execution_count": 247,
      "outputs": [
        {
          "output_type": "stream",
          "name": "stdout",
          "text": [
            "<class 'tuple'>\n"
          ]
        }
      ]
    },
    {
      "cell_type": "code",
      "source": [
        "b=(10)"
      ],
      "metadata": {
        "id": "THLPZtqJtW9u"
      },
      "execution_count": 248,
      "outputs": []
    },
    {
      "cell_type": "code",
      "source": [
        "b"
      ],
      "metadata": {
        "colab": {
          "base_uri": "https://localhost:8080/"
        },
        "id": "FVnWT82ctmvt",
        "outputId": "5bf0b771-c0d9-47d3-c419-0f9f9ab0dbfb"
      },
      "execution_count": 249,
      "outputs": [
        {
          "output_type": "execute_result",
          "data": {
            "text/plain": [
              "10"
            ]
          },
          "metadata": {},
          "execution_count": 249
        }
      ]
    },
    {
      "cell_type": "code",
      "source": [
        "print(type(b))"
      ],
      "metadata": {
        "colab": {
          "base_uri": "https://localhost:8080/"
        },
        "id": "4Cb0649-tnG9",
        "outputId": "190fd69b-ec20-40f8-f365-2831e4a28d0e"
      },
      "execution_count": 250,
      "outputs": [
        {
          "output_type": "stream",
          "name": "stdout",
          "text": [
            "<class 'int'>\n"
          ]
        }
      ]
    },
    {
      "cell_type": "code",
      "source": [
        "c=10,None\n",
        "print(c)\n",
        "print(type(c))\n"
      ],
      "metadata": {
        "colab": {
          "base_uri": "https://localhost:8080/"
        },
        "id": "1sn9mDXqtn99",
        "outputId": "99520f8c-f40b-45c4-8a50-034c0259f18b"
      },
      "execution_count": 251,
      "outputs": [
        {
          "output_type": "stream",
          "name": "stdout",
          "text": [
            "(10, None)\n",
            "<class 'tuple'>\n"
          ]
        }
      ]
    },
    {
      "cell_type": "code",
      "source": [
        "a=bool((1,2,3,4)),False,True"
      ],
      "metadata": {
        "id": "tGcqK0RIuFet"
      },
      "execution_count": 252,
      "outputs": []
    },
    {
      "cell_type": "code",
      "source": [
        "print(a)\n",
        "print(type(a))"
      ],
      "metadata": {
        "colab": {
          "base_uri": "https://localhost:8080/"
        },
        "id": "K-vmuxnVuZwt",
        "outputId": "c398c41b-9863-4792-b2c8-0d153e97b808"
      },
      "execution_count": 253,
      "outputs": [
        {
          "output_type": "stream",
          "name": "stdout",
          "text": [
            "(True, False, True)\n",
            "<class 'tuple'>\n"
          ]
        }
      ]
    },
    {
      "cell_type": "code",
      "source": [
        "a=bool(),False,True\n",
        "print(a)\n",
        "print(type(a))"
      ],
      "metadata": {
        "colab": {
          "base_uri": "https://localhost:8080/"
        },
        "id": "R3PzFCiQubhN",
        "outputId": "0f3baadc-919f-47d5-f830-2572b220a034"
      },
      "execution_count": 254,
      "outputs": [
        {
          "output_type": "stream",
          "name": "stdout",
          "text": [
            "(False, False, True)\n",
            "<class 'tuple'>\n"
          ]
        }
      ]
    },
    {
      "cell_type": "code",
      "source": [
        "a=2e10,[1,2,3,4]\n",
        "print(a)\n",
        "print(type(a))"
      ],
      "metadata": {
        "colab": {
          "base_uri": "https://localhost:8080/"
        },
        "id": "ohaJlgPXuljt",
        "outputId": "468d054a-0f48-4369-ba97-3f65ba4a6386"
      },
      "execution_count": 255,
      "outputs": [
        {
          "output_type": "stream",
          "name": "stdout",
          "text": [
            "(20000000000.0, [1, 2, 3, 4])\n",
            "<class 'tuple'>\n"
          ]
        }
      ]
    },
    {
      "cell_type": "code",
      "source": [
        "2*10**10"
      ],
      "metadata": {
        "colab": {
          "base_uri": "https://localhost:8080/"
        },
        "id": "XgBoZo3Pvlb_",
        "outputId": "0a0342ad-cc87-4930-b89c-ec0ab00351fe"
      },
      "execution_count": 256,
      "outputs": [
        {
          "output_type": "execute_result",
          "data": {
            "text/plain": [
              "20000000000"
            ]
          },
          "metadata": {},
          "execution_count": 256
        }
      ]
    },
    {
      "cell_type": "code",
      "source": [
        "a=bool(((),))"
      ],
      "metadata": {
        "id": "3uw0k3yAvvTF"
      },
      "execution_count": 257,
      "outputs": []
    },
    {
      "cell_type": "code",
      "source": [
        "print(a)"
      ],
      "metadata": {
        "colab": {
          "base_uri": "https://localhost:8080/"
        },
        "id": "cner_kDVwNdQ",
        "outputId": "db98b570-dc1f-4ddb-dd86-696658bac1bd"
      },
      "execution_count": 258,
      "outputs": [
        {
          "output_type": "stream",
          "name": "stdout",
          "text": [
            "True\n"
          ]
        }
      ]
    },
    {
      "cell_type": "code",
      "source": [
        "a=((),)"
      ],
      "metadata": {
        "id": "2bvAz9gzwS46"
      },
      "execution_count": 259,
      "outputs": []
    },
    {
      "cell_type": "code",
      "source": [
        "a[0]"
      ],
      "metadata": {
        "colab": {
          "base_uri": "https://localhost:8080/"
        },
        "id": "H-vpbB9fwZTm",
        "outputId": "05889112-a39a-41f0-80db-927a28a66386"
      },
      "execution_count": 260,
      "outputs": [
        {
          "output_type": "execute_result",
          "data": {
            "text/plain": [
              "()"
            ]
          },
          "metadata": {},
          "execution_count": 260
        }
      ]
    },
    {
      "cell_type": "code",
      "source": [
        "a=()"
      ],
      "metadata": {
        "id": "3O8yT3bwwgVg"
      },
      "execution_count": 261,
      "outputs": []
    },
    {
      "cell_type": "code",
      "source": [
        "print(type(a))"
      ],
      "metadata": {
        "colab": {
          "base_uri": "https://localhost:8080/"
        },
        "id": "ZqOVPR8VwkMG",
        "outputId": "0029071f-83da-413c-892c-3ed52d2d366c"
      },
      "execution_count": 262,
      "outputs": [
        {
          "output_type": "stream",
          "name": "stdout",
          "text": [
            "<class 'tuple'>\n"
          ]
        }
      ]
    },
    {
      "cell_type": "code",
      "source": [
        "a=(((((((((((((((((10,)))))))))))))))))"
      ],
      "metadata": {
        "id": "daFcG6EgwmCm"
      },
      "execution_count": 263,
      "outputs": []
    },
    {
      "cell_type": "code",
      "source": [
        "print(a)"
      ],
      "metadata": {
        "colab": {
          "base_uri": "https://localhost:8080/"
        },
        "id": "is3SsKm8xZcA",
        "outputId": "f127a8c5-a2f0-4078-c84b-d737597d8bb1"
      },
      "execution_count": 264,
      "outputs": [
        {
          "output_type": "stream",
          "name": "stdout",
          "text": [
            "(10,)\n"
          ]
        }
      ]
    },
    {
      "cell_type": "markdown",
      "source": [
        "# set\n",
        "\n",
        "> set is a unorder set of sequence of elements\n",
        "\n",
        "> set constructor is set()\n",
        "\n",
        "> it support hashing table\n",
        "\n",
        "> it is mutable\n",
        "\n",
        "> it doesnot allow duplicacy\n",
        "\n"
      ],
      "metadata": {
        "id": "J8rEdOswxaCh"
      }
    },
    {
      "cell_type": "code",
      "source": [
        "a=set()\n",
        "print(a)"
      ],
      "metadata": {
        "colab": {
          "base_uri": "https://localhost:8080/"
        },
        "id": "TuQKHyyhyKab",
        "outputId": "c6e41cf1-0b9f-4e60-de07-d439789a992a"
      },
      "execution_count": 265,
      "outputs": [
        {
          "output_type": "stream",
          "name": "stdout",
          "text": [
            "set()\n"
          ]
        }
      ]
    },
    {
      "cell_type": "code",
      "source": [
        "a={1,2,3,4,\"krishna\",10.0}"
      ],
      "metadata": {
        "id": "ejwJv9vzyb6v"
      },
      "execution_count": 266,
      "outputs": []
    },
    {
      "cell_type": "code",
      "source": [
        "a"
      ],
      "metadata": {
        "colab": {
          "base_uri": "https://localhost:8080/"
        },
        "id": "aFEpuWmLy5gf",
        "outputId": "51171adc-cc64-43c7-c3ad-661790e87e62"
      },
      "execution_count": 267,
      "outputs": [
        {
          "output_type": "execute_result",
          "data": {
            "text/plain": [
              "{1, 10.0, 2, 3, 4, 'krishna'}"
            ]
          },
          "metadata": {},
          "execution_count": 267
        }
      ]
    },
    {
      "cell_type": "code",
      "source": [
        "a={1,2,3,4,\"krishna\",10.0,(1,2)}"
      ],
      "metadata": {
        "id": "NFAYBnPPy5tQ"
      },
      "execution_count": 268,
      "outputs": []
    },
    {
      "cell_type": "code",
      "source": [
        "a"
      ],
      "metadata": {
        "colab": {
          "base_uri": "https://localhost:8080/"
        },
        "id": "izNMkd3vzKzv",
        "outputId": "c1056579-9191-4e65-f759-778c9dd067fc"
      },
      "execution_count": 269,
      "outputs": [
        {
          "output_type": "execute_result",
          "data": {
            "text/plain": [
              "{(1, 2), 1, 10.0, 2, 3, 4, 'krishna'}"
            ]
          },
          "metadata": {},
          "execution_count": 269
        }
      ]
    },
    {
      "cell_type": "code",
      "source": [
        "c={1,2,3,3,3,3,4,5,5,56}\n",
        "print(c)\n"
      ],
      "metadata": {
        "colab": {
          "base_uri": "https://localhost:8080/"
        },
        "id": "HQ7omtZFzLCf",
        "outputId": "af0af535-b5fe-470d-f724-c8a0d3721a86"
      },
      "execution_count": 270,
      "outputs": [
        {
          "output_type": "stream",
          "name": "stdout",
          "text": [
            "{1, 2, 3, 4, 5, 56}\n"
          ]
        }
      ]
    },
    {
      "cell_type": "code",
      "source": [
        "a={}\n",
        "print(a)\n",
        "print(type(a))"
      ],
      "metadata": {
        "colab": {
          "base_uri": "https://localhost:8080/"
        },
        "id": "uN7Av5pLzWFf",
        "outputId": "bba21afc-c5f8-403b-d3b0-c6ba75de3808"
      },
      "execution_count": 271,
      "outputs": [
        {
          "output_type": "stream",
          "name": "stdout",
          "text": [
            "{}\n",
            "<class 'dict'>\n"
          ]
        }
      ]
    },
    {
      "cell_type": "code",
      "source": [
        "b={1,2,3,[1,2,3]}\n",
        "print(b)"
      ],
      "metadata": {
        "colab": {
          "base_uri": "https://localhost:8080/",
          "height": 190
        },
        "id": "DHtgYTN01TAg",
        "outputId": "8f7d0711-4dac-4445-f031-26eb4ee21a67"
      },
      "execution_count": 272,
      "outputs": [
        {
          "output_type": "error",
          "ename": "TypeError",
          "evalue": "ignored",
          "traceback": [
            "\u001b[0;31m---------------------------------------------------------------------------\u001b[0m",
            "\u001b[0;31mTypeError\u001b[0m                                 Traceback (most recent call last)",
            "\u001b[0;32m<ipython-input-272-d05da4665a38>\u001b[0m in \u001b[0;36m<module>\u001b[0;34m\u001b[0m\n\u001b[0;32m----> 1\u001b[0;31m \u001b[0mb\u001b[0m\u001b[0;34m=\u001b[0m\u001b[0;34m{\u001b[0m\u001b[0;36m1\u001b[0m\u001b[0;34m,\u001b[0m\u001b[0;36m2\u001b[0m\u001b[0;34m,\u001b[0m\u001b[0;36m3\u001b[0m\u001b[0;34m,\u001b[0m\u001b[0;34m[\u001b[0m\u001b[0;36m1\u001b[0m\u001b[0;34m,\u001b[0m\u001b[0;36m2\u001b[0m\u001b[0;34m,\u001b[0m\u001b[0;36m3\u001b[0m\u001b[0;34m]\u001b[0m\u001b[0;34m}\u001b[0m\u001b[0;34m\u001b[0m\u001b[0;34m\u001b[0m\u001b[0m\n\u001b[0m\u001b[1;32m      2\u001b[0m \u001b[0mprint\u001b[0m\u001b[0;34m(\u001b[0m\u001b[0mb\u001b[0m\u001b[0;34m)\u001b[0m\u001b[0;34m\u001b[0m\u001b[0;34m\u001b[0m\u001b[0m\n",
            "\u001b[0;31mTypeError\u001b[0m: unhashable type: 'list'"
          ]
        }
      ]
    },
    {
      "cell_type": "code",
      "source": [
        "a={(1)}\n",
        "print(a)"
      ],
      "metadata": {
        "colab": {
          "base_uri": "https://localhost:8080/"
        },
        "id": "1KbvTXnm1f9B",
        "outputId": "24a9fe1e-616f-4366-f2ab-ed8d5bcf816f"
      },
      "execution_count": 273,
      "outputs": [
        {
          "output_type": "stream",
          "name": "stdout",
          "text": [
            "{1}\n"
          ]
        }
      ]
    },
    {
      "cell_type": "code",
      "source": [
        "a={[]}\n",
        "print(a)"
      ],
      "metadata": {
        "colab": {
          "base_uri": "https://localhost:8080/",
          "height": 190
        },
        "id": "L70VAceH2Gcw",
        "outputId": "ce93bb24-1ea9-4570-bb94-9a5ef6c6b3e9"
      },
      "execution_count": 274,
      "outputs": [
        {
          "output_type": "error",
          "ename": "TypeError",
          "evalue": "ignored",
          "traceback": [
            "\u001b[0;31m---------------------------------------------------------------------------\u001b[0m",
            "\u001b[0;31mTypeError\u001b[0m                                 Traceback (most recent call last)",
            "\u001b[0;32m<ipython-input-274-d22153eee3ab>\u001b[0m in \u001b[0;36m<module>\u001b[0;34m\u001b[0m\n\u001b[0;32m----> 1\u001b[0;31m \u001b[0ma\u001b[0m\u001b[0;34m=\u001b[0m\u001b[0;34m{\u001b[0m\u001b[0;34m[\u001b[0m\u001b[0;34m]\u001b[0m\u001b[0;34m}\u001b[0m\u001b[0;34m\u001b[0m\u001b[0;34m\u001b[0m\u001b[0m\n\u001b[0m\u001b[1;32m      2\u001b[0m \u001b[0mprint\u001b[0m\u001b[0;34m(\u001b[0m\u001b[0ma\u001b[0m\u001b[0;34m)\u001b[0m\u001b[0;34m\u001b[0m\u001b[0;34m\u001b[0m\u001b[0m\n",
            "\u001b[0;31mTypeError\u001b[0m: unhashable type: 'list'"
          ]
        }
      ]
    },
    {
      "cell_type": "code",
      "source": [
        "v={1}   # integer is immutable"
      ],
      "metadata": {
        "id": "itOalqq62dPy"
      },
      "execution_count": null,
      "outputs": []
    },
    {
      "cell_type": "code",
      "source": [
        "w={1.0}  # float is immutable"
      ],
      "metadata": {
        "id": "S72VlSTM2wLR"
      },
      "execution_count": 275,
      "outputs": []
    },
    {
      "cell_type": "code",
      "source": [
        "v={\"1.0\"}  # string is immutable"
      ],
      "metadata": {
        "id": "yDAJLQGY34Tx"
      },
      "execution_count": 277,
      "outputs": []
    },
    {
      "cell_type": "code",
      "source": [
        "x={[1.0]}    # list is mutable"
      ],
      "metadata": {
        "colab": {
          "base_uri": "https://localhost:8080/",
          "height": 172
        },
        "id": "H_DeLQva39qE",
        "outputId": "752bfdd6-31a7-4759-9bf5-7b3f4f5afd0f"
      },
      "execution_count": 278,
      "outputs": [
        {
          "output_type": "error",
          "ename": "TypeError",
          "evalue": "ignored",
          "traceback": [
            "\u001b[0;31m---------------------------------------------------------------------------\u001b[0m",
            "\u001b[0;31mTypeError\u001b[0m                                 Traceback (most recent call last)",
            "\u001b[0;32m<ipython-input-278-60e2ff901756>\u001b[0m in \u001b[0;36m<module>\u001b[0;34m\u001b[0m\n\u001b[0;32m----> 1\u001b[0;31m \u001b[0mx\u001b[0m\u001b[0;34m=\u001b[0m\u001b[0;34m{\u001b[0m\u001b[0;34m[\u001b[0m\u001b[0;36m1.0\u001b[0m\u001b[0;34m]\u001b[0m\u001b[0;34m}\u001b[0m    \u001b[0;31m# list is mutable\u001b[0m\u001b[0;34m\u001b[0m\u001b[0;34m\u001b[0m\u001b[0m\n\u001b[0m",
            "\u001b[0;31mTypeError\u001b[0m: unhashable type: 'list'"
          ]
        }
      ]
    },
    {
      "cell_type": "code",
      "source": [
        "y={(1,)}   # tuple is immutable"
      ],
      "metadata": {
        "id": "5jU5erk_4EMR"
      },
      "execution_count": 279,
      "outputs": []
    },
    {
      "cell_type": "code",
      "source": [
        "z={1,2,{12,3}}   #  set is mutable "
      ],
      "metadata": {
        "colab": {
          "base_uri": "https://localhost:8080/",
          "height": 172
        },
        "id": "nC_sFZ-o4MeB",
        "outputId": "70442fde-2699-4b99-ac00-8339e0c76fb8"
      },
      "execution_count": 280,
      "outputs": [
        {
          "output_type": "error",
          "ename": "TypeError",
          "evalue": "ignored",
          "traceback": [
            "\u001b[0;31m---------------------------------------------------------------------------\u001b[0m",
            "\u001b[0;31mTypeError\u001b[0m                                 Traceback (most recent call last)",
            "\u001b[0;32m<ipython-input-280-a552407d9430>\u001b[0m in \u001b[0;36m<module>\u001b[0;34m\u001b[0m\n\u001b[0;32m----> 1\u001b[0;31m \u001b[0mz\u001b[0m\u001b[0;34m=\u001b[0m\u001b[0;34m{\u001b[0m\u001b[0;36m1\u001b[0m\u001b[0;34m,\u001b[0m\u001b[0;36m2\u001b[0m\u001b[0;34m,\u001b[0m\u001b[0;34m{\u001b[0m\u001b[0;36m12\u001b[0m\u001b[0;34m,\u001b[0m\u001b[0;36m3\u001b[0m\u001b[0;34m}\u001b[0m\u001b[0;34m}\u001b[0m   \u001b[0;31m#  set is mutable\u001b[0m\u001b[0;34m\u001b[0m\u001b[0;34m\u001b[0m\u001b[0m\n\u001b[0m",
            "\u001b[0;31mTypeError\u001b[0m: unhashable type: 'set'"
          ]
        }
      ]
    },
    {
      "cell_type": "code",
      "source": [
        "a={1,2,3,4}\n",
        "b={3,4,5,6}\n",
        "a.intersection(b)"
      ],
      "metadata": {
        "colab": {
          "base_uri": "https://localhost:8080/"
        },
        "id": "yV9p8vZi4lNS",
        "outputId": "7d4c2a21-e81e-42d1-a2fc-35e3ccb49103"
      },
      "execution_count": 283,
      "outputs": [
        {
          "output_type": "execute_result",
          "data": {
            "text/plain": [
              "{3, 4}"
            ]
          },
          "metadata": {},
          "execution_count": 283
        }
      ]
    },
    {
      "cell_type": "code",
      "source": [
        "a.union(b)"
      ],
      "metadata": {
        "colab": {
          "base_uri": "https://localhost:8080/"
        },
        "id": "bWNC9YiF7DeN",
        "outputId": "cbda15f3-03b2-4ded-c649-68bc45f3035b"
      },
      "execution_count": 284,
      "outputs": [
        {
          "output_type": "execute_result",
          "data": {
            "text/plain": [
              "{1, 2, 3, 4, 5, 6}"
            ]
          },
          "metadata": {},
          "execution_count": 284
        }
      ]
    },
    {
      "cell_type": "code",
      "source": [
        "a"
      ],
      "metadata": {
        "colab": {
          "base_uri": "https://localhost:8080/"
        },
        "id": "8qZnhvy076IR",
        "outputId": "7a28b757-17ad-498a-83bc-5293f095d990"
      },
      "execution_count": 285,
      "outputs": [
        {
          "output_type": "execute_result",
          "data": {
            "text/plain": [
              "{1, 2, 3, 4}"
            ]
          },
          "metadata": {},
          "execution_count": 285
        }
      ]
    },
    {
      "cell_type": "code",
      "source": [
        "b"
      ],
      "metadata": {
        "colab": {
          "base_uri": "https://localhost:8080/"
        },
        "id": "l51y2AuE7896",
        "outputId": "3acb89df-d173-4569-f2c8-0a7dfde194fe"
      },
      "execution_count": 286,
      "outputs": [
        {
          "output_type": "execute_result",
          "data": {
            "text/plain": [
              "{3, 4, 5, 6}"
            ]
          },
          "metadata": {},
          "execution_count": 286
        }
      ]
    },
    {
      "cell_type": "code",
      "source": [
        "a.intersection_update(b)"
      ],
      "metadata": {
        "id": "tLP0rIJP7Myn"
      },
      "execution_count": 287,
      "outputs": []
    },
    {
      "cell_type": "code",
      "source": [
        "a"
      ],
      "metadata": {
        "colab": {
          "base_uri": "https://localhost:8080/"
        },
        "id": "rGwEH6Vg8DFy",
        "outputId": "1d3a51eb-19c6-4c37-fe5d-60ddeaf54d74"
      },
      "execution_count": 288,
      "outputs": [
        {
          "output_type": "execute_result",
          "data": {
            "text/plain": [
              "{3, 4}"
            ]
          },
          "metadata": {},
          "execution_count": 288
        }
      ]
    },
    {
      "cell_type": "code",
      "source": [
        "b"
      ],
      "metadata": {
        "colab": {
          "base_uri": "https://localhost:8080/"
        },
        "id": "HsoSrykc8DaD",
        "outputId": "ae7fde10-e7ab-4036-e7dc-4c92197d4729"
      },
      "execution_count": 289,
      "outputs": [
        {
          "output_type": "execute_result",
          "data": {
            "text/plain": [
              "{3, 4, 5, 6}"
            ]
          },
          "metadata": {},
          "execution_count": 289
        }
      ]
    },
    {
      "cell_type": "code",
      "source": [
        "a={1,2,3,4}"
      ],
      "metadata": {
        "id": "wkP_D9IO8M1j"
      },
      "execution_count": 290,
      "outputs": []
    },
    {
      "cell_type": "code",
      "source": [
        "a.isdisjoint(b)"
      ],
      "metadata": {
        "colab": {
          "base_uri": "https://localhost:8080/"
        },
        "id": "ISunMZyZ8Q9z",
        "outputId": "653864b4-0a8c-45c4-e97b-5029de6b951a"
      },
      "execution_count": 291,
      "outputs": [
        {
          "output_type": "execute_result",
          "data": {
            "text/plain": [
              "False"
            ]
          },
          "metadata": {},
          "execution_count": 291
        }
      ]
    },
    {
      "cell_type": "code",
      "source": [
        "c={1,2}\n",
        "d={3,4}\n",
        "c.isdisjoint(d)"
      ],
      "metadata": {
        "colab": {
          "base_uri": "https://localhost:8080/"
        },
        "id": "BME2Lo279CZh",
        "outputId": "8c06441d-b5ce-4de1-a596-6f0b66dcde63"
      },
      "execution_count": 292,
      "outputs": [
        {
          "output_type": "execute_result",
          "data": {
            "text/plain": [
              "True"
            ]
          },
          "metadata": {},
          "execution_count": 292
        }
      ]
    },
    {
      "cell_type": "code",
      "source": [
        "c.issubset(a)"
      ],
      "metadata": {
        "colab": {
          "base_uri": "https://localhost:8080/"
        },
        "id": "zejgeXSj9Xc0",
        "outputId": "73347e21-d9a5-49c6-d419-96f25535c428"
      },
      "execution_count": 293,
      "outputs": [
        {
          "output_type": "execute_result",
          "data": {
            "text/plain": [
              "True"
            ]
          },
          "metadata": {},
          "execution_count": 293
        }
      ]
    },
    {
      "cell_type": "code",
      "source": [
        "a"
      ],
      "metadata": {
        "colab": {
          "base_uri": "https://localhost:8080/"
        },
        "id": "tOXqUJwn-atU",
        "outputId": "32aac401-b6aa-4d5e-b519-fd248cd68c7d"
      },
      "execution_count": 294,
      "outputs": [
        {
          "output_type": "execute_result",
          "data": {
            "text/plain": [
              "{1, 2, 3, 4}"
            ]
          },
          "metadata": {},
          "execution_count": 294
        }
      ]
    },
    {
      "cell_type": "code",
      "source": [
        "b"
      ],
      "metadata": {
        "colab": {
          "base_uri": "https://localhost:8080/"
        },
        "id": "XTyv1J1K_eOn",
        "outputId": "c1adbaa6-364b-469f-ed07-8c650e925684"
      },
      "execution_count": 295,
      "outputs": [
        {
          "output_type": "execute_result",
          "data": {
            "text/plain": [
              "{3, 4, 5, 6}"
            ]
          },
          "metadata": {},
          "execution_count": 295
        }
      ]
    },
    {
      "cell_type": "code",
      "source": [
        "a.difference(b)"
      ],
      "metadata": {
        "colab": {
          "base_uri": "https://localhost:8080/"
        },
        "id": "rrB5qimN_e7U",
        "outputId": "4753a60a-d56e-4caf-cecc-24de951ce6e6"
      },
      "execution_count": 296,
      "outputs": [
        {
          "output_type": "execute_result",
          "data": {
            "text/plain": [
              "{1, 2}"
            ]
          },
          "metadata": {},
          "execution_count": 296
        }
      ]
    },
    {
      "cell_type": "markdown",
      "source": [
        "# dictionary\n",
        "\n",
        "> dictionary constructor is dict()\n",
        "\n",
        "> dictionary literal is {}\n",
        "\n",
        ">dictionary is a combination of keys and values   eg.   {keys: values}  # keys maybe of any datatype as well as values\n",
        "\n",
        "> dictionary is mutable\n",
        "\n",
        "> dictionary is order set of sequence of key and value pair.\n"
      ],
      "metadata": {
        "id": "KVb3UJiK_iVU"
      }
    },
    {
      "cell_type": "code",
      "source": [
        "a=dict()     # dictionary constructor is use to creat empty dictionary \n",
        "print(a)"
      ],
      "metadata": {
        "colab": {
          "base_uri": "https://localhost:8080/"
        },
        "id": "DSh2SaFsy1Al",
        "outputId": "9d3552b9-a79d-4218-d3cd-3dcd3fa5209c"
      },
      "execution_count": 297,
      "outputs": [
        {
          "output_type": "stream",
          "name": "stdout",
          "text": [
            "{}\n"
          ]
        }
      ]
    },
    {
      "cell_type": "code",
      "source": [
        "b={}    # dictionary literal is use to create empty dictionary as well\n",
        "print(b)\n",
        "print(type(b))"
      ],
      "metadata": {
        "colab": {
          "base_uri": "https://localhost:8080/"
        },
        "id": "4RT2eBsLzhsx",
        "outputId": "acd33f6f-0faa-46d4-8787-6851fc987dc5"
      },
      "execution_count": 298,
      "outputs": [
        {
          "output_type": "stream",
          "name": "stdout",
          "text": [
            "{}\n",
            "<class 'dict'>\n"
          ]
        }
      ]
    },
    {
      "cell_type": "code",
      "source": [
        "c={\"go\":\"jao\",\"read\":\"padho\",\"study\":\"padho\"}"
      ],
      "metadata": {
        "id": "2s0oHJ7tztxf"
      },
      "execution_count": 299,
      "outputs": []
    },
    {
      "cell_type": "code",
      "source": [
        "c"
      ],
      "metadata": {
        "colab": {
          "base_uri": "https://localhost:8080/"
        },
        "id": "d229Sl5i1ogx",
        "outputId": "a33205a0-0ef3-462c-e4a3-dfaa264ad2ce"
      },
      "execution_count": 300,
      "outputs": [
        {
          "output_type": "execute_result",
          "data": {
            "text/plain": [
              "{'go': 'jao', 'read': 'padho', 'study': 'padho'}"
            ]
          },
          "metadata": {},
          "execution_count": 300
        }
      ]
    },
    {
      "cell_type": "code",
      "source": [
        "d={\"go\":\"jao\",\"read\":\"padho\",\"read\":\"padho\"}\n",
        "d"
      ],
      "metadata": {
        "colab": {
          "base_uri": "https://localhost:8080/"
        },
        "id": "EEIk1SXx1ori",
        "outputId": "267640ad-6a49-43ff-b974-a390f21527e9"
      },
      "execution_count": 301,
      "outputs": [
        {
          "output_type": "execute_result",
          "data": {
            "text/plain": [
              "{'go': 'jao', 'read': 'padho'}"
            ]
          },
          "metadata": {},
          "execution_count": 301
        }
      ]
    },
    {
      "cell_type": "code",
      "source": [
        "e={\"go\":\"jao\",\"read\":\"padho\",\"read\":\"padh\"}\n",
        "e"
      ],
      "metadata": {
        "colab": {
          "base_uri": "https://localhost:8080/"
        },
        "id": "ovWJ_iPX1xgA",
        "outputId": "21fb90ef-d1f6-4fbc-e072-1f39b6ac451e"
      },
      "execution_count": 302,
      "outputs": [
        {
          "output_type": "execute_result",
          "data": {
            "text/plain": [
              "{'go': 'jao', 'read': 'padh'}"
            ]
          },
          "metadata": {},
          "execution_count": 302
        }
      ]
    },
    {
      "cell_type": "code",
      "source": [
        "a={1: None,2:\"Mohan bhagwat\", 3:\"Manmohan singh\", 4:\"Indera Gandhi\"}"
      ],
      "metadata": {
        "id": "YO0Ujr4F13bQ"
      },
      "execution_count": 303,
      "outputs": []
    },
    {
      "cell_type": "code",
      "source": [
        "a"
      ],
      "metadata": {
        "colab": {
          "base_uri": "https://localhost:8080/"
        },
        "id": "qapSEtGP2jgl",
        "outputId": "5f08e3f9-da7e-4bee-e601-3d5198b0e036"
      },
      "execution_count": 304,
      "outputs": [
        {
          "output_type": "execute_result",
          "data": {
            "text/plain": [
              "{1: None, 2: 'Mohan bhagwat', 3: 'Manmohan singh', 4: 'Indera Gandhi'}"
            ]
          },
          "metadata": {},
          "execution_count": 304
        }
      ]
    },
    {
      "cell_type": "code",
      "source": [
        "a.update({1:\"Nitin Gatkari\"})"
      ],
      "metadata": {
        "id": "8RpK-bDQ2lQE"
      },
      "execution_count": 305,
      "outputs": []
    },
    {
      "cell_type": "code",
      "source": [
        "print(a)"
      ],
      "metadata": {
        "colab": {
          "base_uri": "https://localhost:8080/"
        },
        "id": "gjUNK_x83aOA",
        "outputId": "a881e2e9-ce99-4779-d3b7-61485e456986"
      },
      "execution_count": 306,
      "outputs": [
        {
          "output_type": "stream",
          "name": "stdout",
          "text": [
            "{1: 'Nitin Gatkari', 2: 'Mohan bhagwat', 3: 'Manmohan singh', 4: 'Indera Gandhi'}\n"
          ]
        }
      ]
    },
    {
      "cell_type": "code",
      "source": [
        "a.update({5:\"Nitin Gatkari\",6:\"Nikki\"})"
      ],
      "metadata": {
        "id": "tCVDoDVz3adQ"
      },
      "execution_count": 307,
      "outputs": []
    },
    {
      "cell_type": "code",
      "source": [
        "print(a)"
      ],
      "metadata": {
        "colab": {
          "base_uri": "https://localhost:8080/"
        },
        "id": "lfjP4CPG30Kx",
        "outputId": "7699b29e-3752-4df4-a591-f569055b598c"
      },
      "execution_count": 308,
      "outputs": [
        {
          "output_type": "stream",
          "name": "stdout",
          "text": [
            "{1: 'Nitin Gatkari', 2: 'Mohan bhagwat', 3: 'Manmohan singh', 4: 'Indera Gandhi', 5: 'Nitin Gatkari', 6: 'Nikki'}\n"
          ]
        }
      ]
    },
    {
      "cell_type": "code",
      "source": [
        "a.values()"
      ],
      "metadata": {
        "colab": {
          "base_uri": "https://localhost:8080/"
        },
        "id": "J2-tBkPL32Py",
        "outputId": "96aee0f1-1efa-497d-b664-157e0b53718c"
      },
      "execution_count": 309,
      "outputs": [
        {
          "output_type": "execute_result",
          "data": {
            "text/plain": [
              "dict_values(['Nitin Gatkari', 'Mohan bhagwat', 'Manmohan singh', 'Indera Gandhi', 'Nitin Gatkari', 'Nikki'])"
            ]
          },
          "metadata": {},
          "execution_count": 309
        }
      ]
    },
    {
      "cell_type": "code",
      "source": [
        "a.keys()"
      ],
      "metadata": {
        "colab": {
          "base_uri": "https://localhost:8080/"
        },
        "id": "IPlkZAsH4Dpx",
        "outputId": "024d4840-e9a7-4579-bf41-4f1be6fb4baa"
      },
      "execution_count": 310,
      "outputs": [
        {
          "output_type": "execute_result",
          "data": {
            "text/plain": [
              "dict_keys([1, 2, 3, 4, 5, 6])"
            ]
          },
          "metadata": {},
          "execution_count": 310
        }
      ]
    },
    {
      "cell_type": "code",
      "source": [
        "a[1]"
      ],
      "metadata": {
        "colab": {
          "base_uri": "https://localhost:8080/",
          "height": 36
        },
        "id": "JIGhEtMK4QRA",
        "outputId": "0c58a95f-c7a5-4502-fcc1-86b860721aee"
      },
      "execution_count": 311,
      "outputs": [
        {
          "output_type": "execute_result",
          "data": {
            "text/plain": [
              "'Nitin Gatkari'"
            ],
            "application/vnd.google.colaboratory.intrinsic+json": {
              "type": "string"
            }
          },
          "metadata": {},
          "execution_count": 311
        }
      ]
    },
    {
      "cell_type": "code",
      "source": [
        "a[1]=\"Nitin\""
      ],
      "metadata": {
        "id": "QQspsVl44tbR"
      },
      "execution_count": 312,
      "outputs": []
    },
    {
      "cell_type": "code",
      "source": [
        "print(a)"
      ],
      "metadata": {
        "colab": {
          "base_uri": "https://localhost:8080/"
        },
        "id": "BcZu747N4wWQ",
        "outputId": "1b832c94-23f5-4cb5-c8cf-29d4a679a7bd"
      },
      "execution_count": 313,
      "outputs": [
        {
          "output_type": "stream",
          "name": "stdout",
          "text": [
            "{1: 'Nitin', 2: 'Mohan bhagwat', 3: 'Manmohan singh', 4: 'Indera Gandhi', 5: 'Nitin Gatkari', 6: 'Nikki'}\n"
          ]
        }
      ]
    },
    {
      "cell_type": "code",
      "source": [
        "a[1:6]"
      ],
      "metadata": {
        "colab": {
          "base_uri": "https://localhost:8080/",
          "height": 172
        },
        "id": "PvYfOLSx4wvk",
        "outputId": "70a17523-2b08-46ff-cc01-8e12ec48810b"
      },
      "execution_count": 314,
      "outputs": [
        {
          "output_type": "error",
          "ename": "TypeError",
          "evalue": "ignored",
          "traceback": [
            "\u001b[0;31m---------------------------------------------------------------------------\u001b[0m",
            "\u001b[0;31mTypeError\u001b[0m                                 Traceback (most recent call last)",
            "\u001b[0;32m<ipython-input-314-90ab49a21c4a>\u001b[0m in \u001b[0;36m<module>\u001b[0;34m\u001b[0m\n\u001b[0;32m----> 1\u001b[0;31m \u001b[0ma\u001b[0m\u001b[0;34m[\u001b[0m\u001b[0;36m1\u001b[0m\u001b[0;34m:\u001b[0m\u001b[0;36m6\u001b[0m\u001b[0;34m]\u001b[0m\u001b[0;34m\u001b[0m\u001b[0;34m\u001b[0m\u001b[0m\n\u001b[0m",
            "\u001b[0;31mTypeError\u001b[0m: unhashable type: 'slice'"
          ]
        }
      ]
    },
    {
      "cell_type": "code",
      "source": [
        "a[1]={\"studen_name\":\"Nitin\", \"Father\":\"ABC\", \"Mother\":\"xxx\"}"
      ],
      "metadata": {
        "id": "HqhcIn6h46mg"
      },
      "execution_count": 315,
      "outputs": []
    },
    {
      "cell_type": "code",
      "source": [
        "print(a)"
      ],
      "metadata": {
        "colab": {
          "base_uri": "https://localhost:8080/"
        },
        "id": "ultnHMvn5cSC",
        "outputId": "d369fba6-25e1-43e6-8ef8-d2d2db1c3fa9"
      },
      "execution_count": 316,
      "outputs": [
        {
          "output_type": "stream",
          "name": "stdout",
          "text": [
            "{1: {'studen_name': 'Nitin', 'Father': 'ABC', 'Mother': 'xxx'}, 2: 'Mohan bhagwat', 3: 'Manmohan singh', 4: 'Indera Gandhi', 5: 'Nitin Gatkari', 6: 'Nikki'}\n"
          ]
        }
      ]
    },
    {
      "cell_type": "code",
      "source": [
        "a[2]=\"Mohan\", \"Mr.Bhagwat\",\"Mrs. Bhagwat\""
      ],
      "metadata": {
        "id": "aGjoRWWf5ceR"
      },
      "execution_count": 317,
      "outputs": []
    },
    {
      "cell_type": "code",
      "source": [
        "print(a)"
      ],
      "metadata": {
        "colab": {
          "base_uri": "https://localhost:8080/"
        },
        "id": "228_tGgc5zhh",
        "outputId": "db94316b-e4a0-49ae-c25a-68a86394b78c"
      },
      "execution_count": 318,
      "outputs": [
        {
          "output_type": "stream",
          "name": "stdout",
          "text": [
            "{1: {'studen_name': 'Nitin', 'Father': 'ABC', 'Mother': 'xxx'}, 2: ('Mohan', 'Mr.Bhagwat', 'Mrs. Bhagwat'), 3: 'Manmohan singh', 4: 'Indera Gandhi', 5: 'Nitin Gatkari', 6: 'Nikki'}\n"
          ]
        }
      ]
    },
    {
      "cell_type": "code",
      "source": [
        "b={[\"9807318836\"]: \"krishna\"}"
      ],
      "metadata": {
        "colab": {
          "base_uri": "https://localhost:8080/",
          "height": 172
        },
        "id": "ItsFq2e05zxh",
        "outputId": "822cbeef-adf7-4356-f40b-90698b4dc7d6"
      },
      "execution_count": 319,
      "outputs": [
        {
          "output_type": "error",
          "ename": "TypeError",
          "evalue": "ignored",
          "traceback": [
            "\u001b[0;31m---------------------------------------------------------------------------\u001b[0m",
            "\u001b[0;31mTypeError\u001b[0m                                 Traceback (most recent call last)",
            "\u001b[0;32m<ipython-input-319-f2981c5277db>\u001b[0m in \u001b[0;36m<module>\u001b[0;34m\u001b[0m\n\u001b[0;32m----> 1\u001b[0;31m \u001b[0mb\u001b[0m\u001b[0;34m=\u001b[0m\u001b[0;34m{\u001b[0m\u001b[0;34m[\u001b[0m\u001b[0;34m\"9807318836\"\u001b[0m\u001b[0;34m]\u001b[0m\u001b[0;34m:\u001b[0m \u001b[0;34m\"krishna\"\u001b[0m\u001b[0;34m}\u001b[0m\u001b[0;34m\u001b[0m\u001b[0;34m\u001b[0m\u001b[0m\n\u001b[0m",
            "\u001b[0;31mTypeError\u001b[0m: unhashable type: 'list'"
          ]
        }
      ]
    },
    {
      "cell_type": "code",
      "source": [
        "b={(1,2,3): \"krishna\"}   # key must be immutable datatype"
      ],
      "metadata": {
        "id": "jbm9dZt76v0h"
      },
      "execution_count": 320,
      "outputs": []
    },
    {
      "cell_type": "code",
      "source": [
        "c={[1,2,3]:\"krishna\"}"
      ],
      "metadata": {
        "colab": {
          "base_uri": "https://localhost:8080/",
          "height": 172
        },
        "id": "zY0Vm6jt6wVR",
        "outputId": "c529694f-fd2a-4a52-f66a-47c60bf39be7"
      },
      "execution_count": 321,
      "outputs": [
        {
          "output_type": "error",
          "ename": "TypeError",
          "evalue": "ignored",
          "traceback": [
            "\u001b[0;31m---------------------------------------------------------------------------\u001b[0m",
            "\u001b[0;31mTypeError\u001b[0m                                 Traceback (most recent call last)",
            "\u001b[0;32m<ipython-input-321-6dd76b21d1a6>\u001b[0m in \u001b[0;36m<module>\u001b[0;34m\u001b[0m\n\u001b[0;32m----> 1\u001b[0;31m \u001b[0mc\u001b[0m\u001b[0;34m=\u001b[0m\u001b[0;34m{\u001b[0m\u001b[0;34m[\u001b[0m\u001b[0;36m1\u001b[0m\u001b[0;34m,\u001b[0m\u001b[0;36m2\u001b[0m\u001b[0;34m,\u001b[0m\u001b[0;36m3\u001b[0m\u001b[0;34m]\u001b[0m\u001b[0;34m:\u001b[0m\u001b[0;34m\"krishna\"\u001b[0m\u001b[0;34m}\u001b[0m\u001b[0;34m\u001b[0m\u001b[0;34m\u001b[0m\u001b[0m\n\u001b[0m",
            "\u001b[0;31mTypeError\u001b[0m: unhashable type: 'list'"
          ]
        }
      ]
    },
    {
      "cell_type": "code",
      "source": [
        "d={{1,2,3}:\"Krishna\"}"
      ],
      "metadata": {
        "colab": {
          "base_uri": "https://localhost:8080/",
          "height": 172
        },
        "id": "QLs25iK07AgB",
        "outputId": "d9023699-7709-4447-9bd1-601eac705746"
      },
      "execution_count": 322,
      "outputs": [
        {
          "output_type": "error",
          "ename": "TypeError",
          "evalue": "ignored",
          "traceback": [
            "\u001b[0;31m---------------------------------------------------------------------------\u001b[0m",
            "\u001b[0;31mTypeError\u001b[0m                                 Traceback (most recent call last)",
            "\u001b[0;32m<ipython-input-322-6d3abd037e0d>\u001b[0m in \u001b[0;36m<module>\u001b[0;34m\u001b[0m\n\u001b[0;32m----> 1\u001b[0;31m \u001b[0md\u001b[0m\u001b[0;34m=\u001b[0m\u001b[0;34m{\u001b[0m\u001b[0;34m{\u001b[0m\u001b[0;36m1\u001b[0m\u001b[0;34m,\u001b[0m\u001b[0;36m2\u001b[0m\u001b[0;34m,\u001b[0m\u001b[0;36m3\u001b[0m\u001b[0;34m}\u001b[0m\u001b[0;34m:\u001b[0m\u001b[0;34m\"Krishna\"\u001b[0m\u001b[0;34m}\u001b[0m\u001b[0;34m\u001b[0m\u001b[0;34m\u001b[0m\u001b[0m\n\u001b[0m",
            "\u001b[0;31mTypeError\u001b[0m: unhashable type: 'set'"
          ]
        }
      ]
    },
    {
      "cell_type": "code",
      "source": [
        "a"
      ],
      "metadata": {
        "colab": {
          "base_uri": "https://localhost:8080/"
        },
        "id": "mgJbmPmL7Eny",
        "outputId": "422006c5-ac91-4327-9cec-0c735eb789cb"
      },
      "execution_count": 323,
      "outputs": [
        {
          "output_type": "execute_result",
          "data": {
            "text/plain": [
              "{1: {'studen_name': 'Nitin', 'Father': 'ABC', 'Mother': 'xxx'},\n",
              " 2: ('Mohan', 'Mr.Bhagwat', 'Mrs. Bhagwat'),\n",
              " 3: 'Manmohan singh',\n",
              " 4: 'Indera Gandhi',\n",
              " 5: 'Nitin Gatkari',\n",
              " 6: 'Nikki'}"
            ]
          },
          "metadata": {},
          "execution_count": 323
        }
      ]
    },
    {
      "cell_type": "code",
      "source": [
        "a.pop()"
      ],
      "metadata": {
        "colab": {
          "base_uri": "https://localhost:8080/",
          "height": 172
        },
        "id": "qerw0FnB7avh",
        "outputId": "363fbdea-ef6d-4c99-fa37-8e56b2a28547"
      },
      "execution_count": 324,
      "outputs": [
        {
          "output_type": "error",
          "ename": "TypeError",
          "evalue": "ignored",
          "traceback": [
            "\u001b[0;31m---------------------------------------------------------------------------\u001b[0m",
            "\u001b[0;31mTypeError\u001b[0m                                 Traceback (most recent call last)",
            "\u001b[0;32m<ipython-input-324-9c070c907602>\u001b[0m in \u001b[0;36m<module>\u001b[0;34m\u001b[0m\n\u001b[0;32m----> 1\u001b[0;31m \u001b[0ma\u001b[0m\u001b[0;34m.\u001b[0m\u001b[0mpop\u001b[0m\u001b[0;34m(\u001b[0m\u001b[0;34m)\u001b[0m\u001b[0;34m\u001b[0m\u001b[0;34m\u001b[0m\u001b[0m\n\u001b[0m",
            "\u001b[0;31mTypeError\u001b[0m: pop expected at least 1 arguments, got 0"
          ]
        }
      ]
    },
    {
      "cell_type": "code",
      "source": [
        "a.pop(1)"
      ],
      "metadata": {
        "colab": {
          "base_uri": "https://localhost:8080/"
        },
        "id": "ECmhi9DH71PE",
        "outputId": "4053599e-14bd-4f0c-da2b-cc0cfbd12a2c"
      },
      "execution_count": 325,
      "outputs": [
        {
          "output_type": "execute_result",
          "data": {
            "text/plain": [
              "{'studen_name': 'Nitin', 'Father': 'ABC', 'Mother': 'xxx'}"
            ]
          },
          "metadata": {},
          "execution_count": 325
        }
      ]
    },
    {
      "cell_type": "code",
      "source": [
        "a"
      ],
      "metadata": {
        "colab": {
          "base_uri": "https://localhost:8080/"
        },
        "id": "AlwVD7c0769n",
        "outputId": "334c72a8-245e-4f50-a0c3-a03a113d06e0"
      },
      "execution_count": 326,
      "outputs": [
        {
          "output_type": "execute_result",
          "data": {
            "text/plain": [
              "{2: ('Mohan', 'Mr.Bhagwat', 'Mrs. Bhagwat'),\n",
              " 3: 'Manmohan singh',\n",
              " 4: 'Indera Gandhi',\n",
              " 5: 'Nitin Gatkari',\n",
              " 6: 'Nikki'}"
            ]
          },
          "metadata": {},
          "execution_count": 326
        }
      ]
    },
    {
      "cell_type": "code",
      "source": [
        "a.popitem()"
      ],
      "metadata": {
        "colab": {
          "base_uri": "https://localhost:8080/"
        },
        "id": "3qO0k2jc77uV",
        "outputId": "cc83788a-ab33-4b28-b8bc-8562333f5c16"
      },
      "execution_count": 327,
      "outputs": [
        {
          "output_type": "execute_result",
          "data": {
            "text/plain": [
              "(6, 'Nikki')"
            ]
          },
          "metadata": {},
          "execution_count": 327
        }
      ]
    },
    {
      "cell_type": "code",
      "source": [
        "a"
      ],
      "metadata": {
        "colab": {
          "base_uri": "https://localhost:8080/"
        },
        "id": "UuX_hO598UYj",
        "outputId": "27f6d92c-33cb-478b-cff5-c91a7e00f73c"
      },
      "execution_count": 328,
      "outputs": [
        {
          "output_type": "execute_result",
          "data": {
            "text/plain": [
              "{2: ('Mohan', 'Mr.Bhagwat', 'Mrs. Bhagwat'),\n",
              " 3: 'Manmohan singh',\n",
              " 4: 'Indera Gandhi',\n",
              " 5: 'Nitin Gatkari'}"
            ]
          },
          "metadata": {},
          "execution_count": 328
        }
      ]
    },
    {
      "cell_type": "code",
      "source": [
        "a.items()"
      ],
      "metadata": {
        "colab": {
          "base_uri": "https://localhost:8080/"
        },
        "id": "duUH2IN38XP3",
        "outputId": "8b771bbe-e35b-4213-f675-40da45cb12ad"
      },
      "execution_count": 329,
      "outputs": [
        {
          "output_type": "execute_result",
          "data": {
            "text/plain": [
              "dict_items([(2, ('Mohan', 'Mr.Bhagwat', 'Mrs. Bhagwat')), (3, 'Manmohan singh'), (4, 'Indera Gandhi'), (5, 'Nitin Gatkari')])"
            ]
          },
          "metadata": {},
          "execution_count": 329
        }
      ]
    },
    {
      "cell_type": "code",
      "source": [
        "a.popitem()"
      ],
      "metadata": {
        "colab": {
          "base_uri": "https://localhost:8080/"
        },
        "id": "qL70_-z58suF",
        "outputId": "0b5dfb30-85d7-4be7-ec62-3cf7e654543f"
      },
      "execution_count": 330,
      "outputs": [
        {
          "output_type": "execute_result",
          "data": {
            "text/plain": [
              "(5, 'Nitin Gatkari')"
            ]
          },
          "metadata": {},
          "execution_count": 330
        }
      ]
    },
    {
      "cell_type": "code",
      "source": [
        "a"
      ],
      "metadata": {
        "colab": {
          "base_uri": "https://localhost:8080/"
        },
        "id": "93Djt8KJ8l6A",
        "outputId": "3b775c35-b448-44fe-c253-b8c28ef21022"
      },
      "execution_count": 331,
      "outputs": [
        {
          "output_type": "execute_result",
          "data": {
            "text/plain": [
              "{2: ('Mohan', 'Mr.Bhagwat', 'Mrs. Bhagwat'),\n",
              " 3: 'Manmohan singh',\n",
              " 4: 'Indera Gandhi'}"
            ]
          },
          "metadata": {},
          "execution_count": 331
        }
      ]
    },
    {
      "cell_type": "code",
      "source": [
        "\n",
        "a.get(2)"
      ],
      "metadata": {
        "colab": {
          "base_uri": "https://localhost:8080/"
        },
        "id": "oIFZMW-V8yCs",
        "outputId": "653f4874-003f-4eca-baad-bb016bda9c63"
      },
      "execution_count": 332,
      "outputs": [
        {
          "output_type": "execute_result",
          "data": {
            "text/plain": [
              "('Mohan', 'Mr.Bhagwat', 'Mrs. Bhagwat')"
            ]
          },
          "metadata": {},
          "execution_count": 332
        }
      ]
    },
    {
      "cell_type": "code",
      "source": [
        "a[2]"
      ],
      "metadata": {
        "colab": {
          "base_uri": "https://localhost:8080/"
        },
        "id": "QxIWWGOM897R",
        "outputId": "b9f282b2-c887-4bba-a789-e4c2a6a395a9"
      },
      "execution_count": 333,
      "outputs": [
        {
          "output_type": "execute_result",
          "data": {
            "text/plain": [
              "('Mohan', 'Mr.Bhagwat', 'Mrs. Bhagwat')"
            ]
          },
          "metadata": {},
          "execution_count": 333
        }
      ]
    },
    {
      "cell_type": "code",
      "source": [
        "a[5]"
      ],
      "metadata": {
        "colab": {
          "base_uri": "https://localhost:8080/",
          "height": 172
        },
        "id": "5NJQlvV49CD7",
        "outputId": "e91c5a1d-f331-4646-9e5c-a8c6d8336ac5"
      },
      "execution_count": 334,
      "outputs": [
        {
          "output_type": "error",
          "ename": "KeyError",
          "evalue": "ignored",
          "traceback": [
            "\u001b[0;31m---------------------------------------------------------------------------\u001b[0m",
            "\u001b[0;31mKeyError\u001b[0m                                  Traceback (most recent call last)",
            "\u001b[0;32m<ipython-input-334-4a84d856522b>\u001b[0m in \u001b[0;36m<module>\u001b[0;34m\u001b[0m\n\u001b[0;32m----> 1\u001b[0;31m \u001b[0ma\u001b[0m\u001b[0;34m[\u001b[0m\u001b[0;36m5\u001b[0m\u001b[0;34m]\u001b[0m\u001b[0;34m\u001b[0m\u001b[0;34m\u001b[0m\u001b[0m\n\u001b[0m",
            "\u001b[0;31mKeyError\u001b[0m: 5"
          ]
        }
      ]
    },
    {
      "cell_type": "code",
      "source": [
        "a.get(5)"
      ],
      "metadata": {
        "id": "aYHYFefz9P16"
      },
      "execution_count": 335,
      "outputs": []
    },
    {
      "cell_type": "code",
      "source": [
        "a.get(5,\"Number is not available\")"
      ],
      "metadata": {
        "colab": {
          "base_uri": "https://localhost:8080/",
          "height": 36
        },
        "id": "wNRqklll9lQc",
        "outputId": "a5dfa486-6b73-49b8-8177-595920d411be"
      },
      "execution_count": 336,
      "outputs": [
        {
          "output_type": "execute_result",
          "data": {
            "text/plain": [
              "'Number is not available'"
            ],
            "application/vnd.google.colaboratory.intrinsic+json": {
              "type": "string"
            }
          },
          "metadata": {},
          "execution_count": 336
        }
      ]
    },
    {
      "cell_type": "code",
      "source": [
        "a.get(2,\"Number is not available\")"
      ],
      "metadata": {
        "colab": {
          "base_uri": "https://localhost:8080/"
        },
        "id": "ZwDvbvf29q2Z",
        "outputId": "0a90c65b-7033-4e9c-f87b-dc2f91ca1f14"
      },
      "execution_count": 337,
      "outputs": [
        {
          "output_type": "execute_result",
          "data": {
            "text/plain": [
              "('Mohan', 'Mr.Bhagwat', 'Mrs. Bhagwat')"
            ]
          },
          "metadata": {},
          "execution_count": 337
        }
      ]
    },
    {
      "cell_type": "code",
      "source": [
        "(2/3)+(4/5)"
      ],
      "metadata": {
        "colab": {
          "base_uri": "https://localhost:8080/"
        },
        "id": "q4EEYJn69y9L",
        "outputId": "62a48998-5900-4c50-b817-da416a605046"
      },
      "execution_count": 338,
      "outputs": [
        {
          "output_type": "execute_result",
          "data": {
            "text/plain": [
              "1.4666666666666668"
            ]
          },
          "metadata": {},
          "execution_count": 338
        }
      ]
    },
    {
      "cell_type": "code",
      "source": [
        "a.setdefault(1)"
      ],
      "metadata": {
        "id": "xg7Zfkbn-Kfr"
      },
      "execution_count": 339,
      "outputs": []
    },
    {
      "cell_type": "code",
      "source": [
        "a"
      ],
      "metadata": {
        "colab": {
          "base_uri": "https://localhost:8080/"
        },
        "id": "TFe3T9x-_eBj",
        "outputId": "ac2238df-bc8d-49ec-cc2b-8cd1ee0ad3c7"
      },
      "execution_count": 340,
      "outputs": [
        {
          "output_type": "execute_result",
          "data": {
            "text/plain": [
              "{2: ('Mohan', 'Mr.Bhagwat', 'Mrs. Bhagwat'),\n",
              " 3: 'Manmohan singh',\n",
              " 4: 'Indera Gandhi',\n",
              " 1: None}"
            ]
          },
          "metadata": {},
          "execution_count": 340
        }
      ]
    },
    {
      "cell_type": "code",
      "source": [
        "a[1]=\"NASA\""
      ],
      "metadata": {
        "id": "QHGuyGs1_ghz"
      },
      "execution_count": 341,
      "outputs": []
    },
    {
      "cell_type": "code",
      "source": [
        "a"
      ],
      "metadata": {
        "colab": {
          "base_uri": "https://localhost:8080/"
        },
        "id": "bfh9HHmy_sqi",
        "outputId": "a78f115e-9572-40de-9ef2-b92ac6b7a3c1"
      },
      "execution_count": 342,
      "outputs": [
        {
          "output_type": "execute_result",
          "data": {
            "text/plain": [
              "{2: ('Mohan', 'Mr.Bhagwat', 'Mrs. Bhagwat'),\n",
              " 3: 'Manmohan singh',\n",
              " 4: 'Indera Gandhi',\n",
              " 1: 'NASA'}"
            ]
          },
          "metadata": {},
          "execution_count": 342
        }
      ]
    },
    {
      "cell_type": "code",
      "source": [
        "a.clear()"
      ],
      "metadata": {
        "id": "woRZt-bl_tPD"
      },
      "execution_count": 343,
      "outputs": []
    },
    {
      "cell_type": "code",
      "source": [
        "a"
      ],
      "metadata": {
        "colab": {
          "base_uri": "https://localhost:8080/"
        },
        "id": "yD3Ar0uo_5X0",
        "outputId": "6fd2aede-6627-4b9c-9e68-a2f85edf978d"
      },
      "execution_count": 344,
      "outputs": [
        {
          "output_type": "execute_result",
          "data": {
            "text/plain": [
              "{}"
            ]
          },
          "metadata": {},
          "execution_count": 344
        }
      ]
    },
    {
      "cell_type": "markdown",
      "source": [
        "#Casting"
      ],
      "metadata": {
        "id": "M8xeaUKEAkWH"
      }
    },
    {
      "cell_type": "code",
      "source": [
        "a=(1,2,3,4)\n",
        "print(a)\n",
        "print(type(a))"
      ],
      "metadata": {
        "colab": {
          "base_uri": "https://localhost:8080/"
        },
        "id": "S_RyEzQR_80V",
        "outputId": "45219269-9992-4343-9798-b9a100ee0834"
      },
      "execution_count": 345,
      "outputs": [
        {
          "output_type": "stream",
          "name": "stdout",
          "text": [
            "(1, 2, 3, 4)\n",
            "<class 'tuple'>\n"
          ]
        }
      ]
    },
    {
      "cell_type": "code",
      "source": [
        "b=[a]"
      ],
      "metadata": {
        "id": "6SIUvWDwAhnX"
      },
      "execution_count": 346,
      "outputs": []
    },
    {
      "cell_type": "code",
      "source": [
        "b"
      ],
      "metadata": {
        "colab": {
          "base_uri": "https://localhost:8080/"
        },
        "id": "tt8Ijtk4BQi1",
        "outputId": "55dabf57-840c-4bef-cb82-f1eb9d01ea6a"
      },
      "execution_count": 347,
      "outputs": [
        {
          "output_type": "execute_result",
          "data": {
            "text/plain": [
              "[(1, 2, 3, 4)]"
            ]
          },
          "metadata": {},
          "execution_count": 347
        }
      ]
    },
    {
      "cell_type": "code",
      "source": [
        "b=list(a)"
      ],
      "metadata": {
        "id": "-9zlfZHuBQ3U"
      },
      "execution_count": 348,
      "outputs": []
    },
    {
      "cell_type": "code",
      "source": [
        "b"
      ],
      "metadata": {
        "colab": {
          "base_uri": "https://localhost:8080/"
        },
        "id": "A3BP7uZJBcKD",
        "outputId": "ec7025f6-ea65-4d6c-ae4a-0f94bb36e8b0"
      },
      "execution_count": 349,
      "outputs": [
        {
          "output_type": "execute_result",
          "data": {
            "text/plain": [
              "[1, 2, 3, 4]"
            ]
          },
          "metadata": {},
          "execution_count": 349
        }
      ]
    },
    {
      "cell_type": "code",
      "source": [
        "c=set(b)"
      ],
      "metadata": {
        "id": "I2qm4exjBceD"
      },
      "execution_count": 350,
      "outputs": []
    },
    {
      "cell_type": "code",
      "source": [
        "print(c)"
      ],
      "metadata": {
        "colab": {
          "base_uri": "https://localhost:8080/"
        },
        "id": "hA0qsEpPBl8D",
        "outputId": "40441309-7d1b-43a3-e343-453c36cc0045"
      },
      "execution_count": 351,
      "outputs": [
        {
          "output_type": "stream",
          "name": "stdout",
          "text": [
            "{1, 2, 3, 4}\n"
          ]
        }
      ]
    },
    {
      "cell_type": "code",
      "source": [
        "str(c)"
      ],
      "metadata": {
        "colab": {
          "base_uri": "https://localhost:8080/",
          "height": 36
        },
        "id": "lfcgWX8ZBmgI",
        "outputId": "b7ca92df-7276-47a5-af0f-7b7bdf809d71"
      },
      "execution_count": 352,
      "outputs": [
        {
          "output_type": "execute_result",
          "data": {
            "text/plain": [
              "'{1, 2, 3, 4}'"
            ],
            "application/vnd.google.colaboratory.intrinsic+json": {
              "type": "string"
            }
          },
          "metadata": {},
          "execution_count": 352
        }
      ]
    },
    {
      "cell_type": "code",
      "source": [
        "a=\"krishna\""
      ],
      "metadata": {
        "id": "hrpXzD-sBso0"
      },
      "execution_count": 353,
      "outputs": []
    },
    {
      "cell_type": "code",
      "source": [
        "list(a)"
      ],
      "metadata": {
        "colab": {
          "base_uri": "https://localhost:8080/"
        },
        "id": "u-4hcklZBxUk",
        "outputId": "1941d5e5-d7d5-4ecc-9299-f2a84c444231"
      },
      "execution_count": 354,
      "outputs": [
        {
          "output_type": "execute_result",
          "data": {
            "text/plain": [
              "['k', 'r', 'i', 's', 'h', 'n', 'a']"
            ]
          },
          "metadata": {},
          "execution_count": 354
        }
      ]
    },
    {
      "cell_type": "code",
      "source": [
        "a=10.0"
      ],
      "metadata": {
        "id": "U7GIqUJwByM0"
      },
      "execution_count": 355,
      "outputs": []
    },
    {
      "cell_type": "code",
      "source": [
        "b=int(a)\n",
        "print(type(b), b)"
      ],
      "metadata": {
        "colab": {
          "base_uri": "https://localhost:8080/"
        },
        "id": "j-IMWXIpDLhv",
        "outputId": "854aecf9-b29e-4014-a189-bd10819c3694"
      },
      "execution_count": 356,
      "outputs": [
        {
          "output_type": "stream",
          "name": "stdout",
          "text": [
            "<class 'int'> 10\n"
          ]
        }
      ]
    },
    {
      "cell_type": "code",
      "source": [
        "c=str(a)\n",
        "print(c)\n",
        "print(type(c))"
      ],
      "metadata": {
        "colab": {
          "base_uri": "https://localhost:8080/"
        },
        "id": "fb-_ziVuDNGl",
        "outputId": "8a8ba341-bbec-4e73-9c0d-30fa47bf49d7"
      },
      "execution_count": 357,
      "outputs": [
        {
          "output_type": "stream",
          "name": "stdout",
          "text": [
            "10.0\n",
            "<class 'str'>\n"
          ]
        }
      ]
    },
    {
      "cell_type": "code",
      "source": [
        "int(c)"
      ],
      "metadata": {
        "colab": {
          "base_uri": "https://localhost:8080/",
          "height": 172
        },
        "id": "sfzrkKCTDYV0",
        "outputId": "f0086852-39c6-4082-a6ec-dcd514534f0d"
      },
      "execution_count": 358,
      "outputs": [
        {
          "output_type": "error",
          "ename": "ValueError",
          "evalue": "ignored",
          "traceback": [
            "\u001b[0;31m---------------------------------------------------------------------------\u001b[0m",
            "\u001b[0;31mValueError\u001b[0m                                Traceback (most recent call last)",
            "\u001b[0;32m<ipython-input-358-089eb950f64f>\u001b[0m in \u001b[0;36m<module>\u001b[0;34m\u001b[0m\n\u001b[0;32m----> 1\u001b[0;31m \u001b[0mint\u001b[0m\u001b[0;34m(\u001b[0m\u001b[0mc\u001b[0m\u001b[0;34m)\u001b[0m\u001b[0;34m\u001b[0m\u001b[0;34m\u001b[0m\u001b[0m\n\u001b[0m",
            "\u001b[0;31mValueError\u001b[0m: invalid literal for int() with base 10: '10.0'"
          ]
        }
      ]
    },
    {
      "cell_type": "code",
      "source": [
        "d=float(c)\n",
        "print(d,type(d))"
      ],
      "metadata": {
        "id": "6TUbBocSDh3F"
      },
      "execution_count": null,
      "outputs": []
    },
    {
      "cell_type": "code",
      "source": [
        "e=int(d)\n",
        "print(e,type(e))"
      ],
      "metadata": {
        "colab": {
          "base_uri": "https://localhost:8080/",
          "height": 190
        },
        "id": "X6VtF6nJDqUU",
        "outputId": "3636d354-3a58-4742-cda2-c5e21157d258"
      },
      "execution_count": 359,
      "outputs": [
        {
          "output_type": "error",
          "ename": "TypeError",
          "evalue": "ignored",
          "traceback": [
            "\u001b[0;31m---------------------------------------------------------------------------\u001b[0m",
            "\u001b[0;31mTypeError\u001b[0m                                 Traceback (most recent call last)",
            "\u001b[0;32m<ipython-input-359-91931e3dd272>\u001b[0m in \u001b[0;36m<module>\u001b[0;34m\u001b[0m\n\u001b[0;32m----> 1\u001b[0;31m \u001b[0me\u001b[0m\u001b[0;34m=\u001b[0m\u001b[0mint\u001b[0m\u001b[0;34m(\u001b[0m\u001b[0md\u001b[0m\u001b[0;34m)\u001b[0m\u001b[0;34m\u001b[0m\u001b[0;34m\u001b[0m\u001b[0m\n\u001b[0m\u001b[1;32m      2\u001b[0m \u001b[0mprint\u001b[0m\u001b[0;34m(\u001b[0m\u001b[0me\u001b[0m\u001b[0;34m,\u001b[0m\u001b[0mtype\u001b[0m\u001b[0;34m(\u001b[0m\u001b[0me\u001b[0m\u001b[0;34m)\u001b[0m\u001b[0;34m)\u001b[0m\u001b[0;34m\u001b[0m\u001b[0;34m\u001b[0m\u001b[0m\n",
            "\u001b[0;31mTypeError\u001b[0m: int() argument must be a string, a bytes-like object or a number, not 'dict'"
          ]
        }
      ]
    },
    {
      "cell_type": "code",
      "source": [
        "a=[1,2,3,4]\n"
      ],
      "metadata": {
        "id": "79QalvUlD1t0"
      },
      "execution_count": 361,
      "outputs": []
    },
    {
      "cell_type": "code",
      "source": [
        "print(a[2])\n",
        "b=a[2]"
      ],
      "metadata": {
        "colab": {
          "base_uri": "https://localhost:8080/"
        },
        "id": "IlmptgjlFC9Z",
        "outputId": "f848b918-79cc-4cbe-8c05-b1d425a06cf8"
      },
      "execution_count": 362,
      "outputs": [
        {
          "output_type": "stream",
          "name": "stdout",
          "text": [
            "3\n"
          ]
        }
      ]
    },
    {
      "cell_type": "code",
      "source": [
        "c=str(a[2])\n",
        "print(str(a[2]),type(str(a[2])))\n"
      ],
      "metadata": {
        "colab": {
          "base_uri": "https://localhost:8080/"
        },
        "id": "Y-CkwAzBFO-J",
        "outputId": "c64b3ae9-de2c-405d-b3bd-ea4abc9735f0"
      },
      "execution_count": 363,
      "outputs": [
        {
          "output_type": "stream",
          "name": "stdout",
          "text": [
            "3 <class 'str'>\n"
          ]
        }
      ]
    },
    {
      "cell_type": "code",
      "source": [
        "str(a[2])"
      ],
      "metadata": {
        "colab": {
          "base_uri": "https://localhost:8080/",
          "height": 36
        },
        "id": "3WQEceJyEgIl",
        "outputId": "3fb5905d-bcf4-4d07-b5d2-86d758d72b37"
      },
      "execution_count": 364,
      "outputs": [
        {
          "output_type": "execute_result",
          "data": {
            "text/plain": [
              "'3'"
            ],
            "application/vnd.google.colaboratory.intrinsic+json": {
              "type": "string"
            }
          },
          "metadata": {},
          "execution_count": 364
        }
      ]
    },
    {
      "cell_type": "markdown",
      "source": [
        "# Loop\n",
        "\n",
        "Loop are of two types:\n",
        "\n",
        "> for loop   -->  when number of iteration is know then use for loop \n",
        "\n",
        "> while loop  --> else while loop"
      ],
      "metadata": {
        "id": "txPTMImBGGOx"
      }
    },
    {
      "cell_type": "code",
      "source": [
        "print(\"Hello world\")\n",
        "print(\"Hello world\")\n",
        "print(\"Hello world\")\n",
        "print(\"Hello world\")\n",
        "print(\"Hello world\")\n",
        "print(\"Hello world\")\n",
        "print(\"Hello world\")\n",
        "print(\"Hello world\")\n",
        "print(\"Hello world\")\n",
        "print(\"Hello world\")"
      ],
      "metadata": {
        "colab": {
          "base_uri": "https://localhost:8080/"
        },
        "id": "I2_ez9OlEkKl",
        "outputId": "ecebd637-6768-4142-cf68-6ac888a3084a"
      },
      "execution_count": 365,
      "outputs": [
        {
          "output_type": "stream",
          "name": "stdout",
          "text": [
            "Hello world\n",
            "Hello world\n",
            "Hello world\n",
            "Hello world\n",
            "Hello world\n",
            "Hello world\n",
            "Hello world\n",
            "Hello world\n",
            "Hello world\n",
            "Hello world\n"
          ]
        }
      ]
    },
    {
      "cell_type": "code",
      "source": [
        "# Syntex\n",
        "\n",
        "# for condition:\n",
        "\n",
        "#   statements\n",
        "\n"
      ],
      "metadata": {
        "id": "EtRSM3UhGJHA"
      },
      "execution_count": 366,
      "outputs": []
    },
    {
      "cell_type": "code",
      "source": [
        "for i in range(10):\n",
        "  print(i,\"Hello world\")"
      ],
      "metadata": {
        "colab": {
          "base_uri": "https://localhost:8080/"
        },
        "id": "G3480W4YKCCH",
        "outputId": "5f992257-7006-4420-beba-2e4bdf974f35"
      },
      "execution_count": 367,
      "outputs": [
        {
          "output_type": "stream",
          "name": "stdout",
          "text": [
            "0 Hello world\n",
            "1 Hello world\n",
            "2 Hello world\n",
            "3 Hello world\n",
            "4 Hello world\n",
            "5 Hello world\n",
            "6 Hello world\n",
            "7 Hello world\n",
            "8 Hello world\n",
            "9 Hello world\n"
          ]
        }
      ]
    },
    {
      "cell_type": "code",
      "source": [
        "range(10)"
      ],
      "metadata": {
        "colab": {
          "base_uri": "https://localhost:8080/"
        },
        "id": "23QCww2CKJ4J",
        "outputId": "2f6031cd-da65-49e7-89db-68ea99159744"
      },
      "execution_count": 368,
      "outputs": [
        {
          "output_type": "execute_result",
          "data": {
            "text/plain": [
              "range(0, 10)"
            ]
          },
          "metadata": {},
          "execution_count": 368
        }
      ]
    },
    {
      "cell_type": "code",
      "source": [
        "a=range(0,10,1)   # iterable\n",
        "for i in a:   # iterator , i is iterating over iterable using iterator\n",
        "    print(i,\" hello world\")\n"
      ],
      "metadata": {
        "id": "-N0SqqpdKfh4",
        "colab": {
          "base_uri": "https://localhost:8080/"
        },
        "outputId": "ceb5b54f-f0ef-41d0-8b65-b0e1529efc70"
      },
      "execution_count": 369,
      "outputs": [
        {
          "output_type": "stream",
          "name": "stdout",
          "text": [
            "0  hello world\n",
            "1  hello world\n",
            "2  hello world\n",
            "3  hello world\n",
            "4  hello world\n",
            "5  hello world\n",
            "6  hello world\n",
            "7  hello world\n",
            "8  hello world\n",
            "9  hello world\n"
          ]
        }
      ]
    },
    {
      "cell_type": "code",
      "source": [
        "a=range(0,10,1)   #\n",
        "for i in a:\n",
        "\n",
        "    if i==4:\n",
        "        pass\n",
        "    else:\n",
        "        print(i, \" hello world\")"
      ],
      "metadata": {
        "colab": {
          "base_uri": "https://localhost:8080/"
        },
        "id": "Q9yKvhoU0Nvb",
        "outputId": "79190772-741a-4dac-bd48-7a771402deb1"
      },
      "execution_count": 370,
      "outputs": [
        {
          "output_type": "stream",
          "name": "stdout",
          "text": [
            "0  hello world\n",
            "1  hello world\n",
            "2  hello world\n",
            "3  hello world\n",
            "5  hello world\n",
            "6  hello world\n",
            "7  hello world\n",
            "8  hello world\n",
            "9  hello world\n"
          ]
        }
      ]
    },
    {
      "cell_type": "code",
      "source": [
        "a=range(0,10,1)   #\n",
        "for i in a:\n",
        "    if i==4:\n",
        "        continue\n",
        "    print(i, \" hello world\")"
      ],
      "metadata": {
        "colab": {
          "base_uri": "https://localhost:8080/"
        },
        "id": "IFCxU00I0OiP",
        "outputId": "26fbfd3b-6e4b-4a36-e7c9-7d82fbe879aa"
      },
      "execution_count": 371,
      "outputs": [
        {
          "output_type": "stream",
          "name": "stdout",
          "text": [
            "0  hello world\n",
            "1  hello world\n",
            "2  hello world\n",
            "3  hello world\n",
            "5  hello world\n",
            "6  hello world\n",
            "7  hello world\n",
            "8  hello world\n",
            "9  hello world\n"
          ]
        }
      ]
    },
    {
      "cell_type": "code",
      "source": [
        "a=range(0,10,1)   #\n",
        "for i in a:\n",
        "    if i==4:\n",
        "        continue\n",
        "    else:\n",
        "        print(i, \" hello world\")\n",
        "    print(\"bye\")"
      ],
      "metadata": {
        "colab": {
          "base_uri": "https://localhost:8080/"
        },
        "id": "ZSlRlSV32G8O",
        "outputId": "62a135e8-49f3-4e4e-fdd9-138f54cc9029"
      },
      "execution_count": 372,
      "outputs": [
        {
          "output_type": "stream",
          "name": "stdout",
          "text": [
            "0  hello world\n",
            "bye\n",
            "1  hello world\n",
            "bye\n",
            "2  hello world\n",
            "bye\n",
            "3  hello world\n",
            "bye\n",
            "5  hello world\n",
            "bye\n",
            "6  hello world\n",
            "bye\n",
            "7  hello world\n",
            "bye\n",
            "8  hello world\n",
            "bye\n",
            "9  hello world\n",
            "bye\n"
          ]
        }
      ]
    },
    {
      "cell_type": "code",
      "source": [
        "a=range(0,10,1)   \n",
        "for i in a:\n",
        "    if i ==4:\n",
        "        break\n",
        "    print(i,\"hello world\")"
      ],
      "metadata": {
        "colab": {
          "base_uri": "https://localhost:8080/"
        },
        "id": "zN_jLV_R3O3t",
        "outputId": "5ac1b51e-8fda-46dd-8cb9-81032cf9bd0d"
      },
      "execution_count": 373,
      "outputs": [
        {
          "output_type": "stream",
          "name": "stdout",
          "text": [
            "0 hello world\n",
            "1 hello world\n",
            "2 hello world\n",
            "3 hello world\n"
          ]
        }
      ]
    },
    {
      "cell_type": "code",
      "source": [
        "a=range(0,10,1)  \n",
        "for i in a:\n",
        "    if i ==4:\n",
        "        break\n",
        "    print(i,\"hello world\")\n",
        "else:\n",
        "  print(\"Loop is terminated\")"
      ],
      "metadata": {
        "colab": {
          "base_uri": "https://localhost:8080/"
        },
        "id": "GL1mLvPZ576O",
        "outputId": "dbd2278e-9065-4e60-8b30-46fe7fa14c0e"
      },
      "execution_count": 374,
      "outputs": [
        {
          "output_type": "stream",
          "name": "stdout",
          "text": [
            "0 hello world\n",
            "1 hello world\n",
            "2 hello world\n",
            "3 hello world\n"
          ]
        }
      ]
    },
    {
      "cell_type": "code",
      "source": [
        "a=range(0,10,1)  \n",
        "for i in a:\n",
        "    if i ==4:\n",
        "        continue\n",
        "    print(i,\"hello world\")\n",
        "else:\n",
        "  print(\"Loop is terminated\")"
      ],
      "metadata": {
        "colab": {
          "base_uri": "https://localhost:8080/"
        },
        "id": "dQ-LJx916aTM",
        "outputId": "3a3b0e81-d9f0-4910-f8ae-6a492585cf25"
      },
      "execution_count": 375,
      "outputs": [
        {
          "output_type": "stream",
          "name": "stdout",
          "text": [
            "0 hello world\n",
            "1 hello world\n",
            "2 hello world\n",
            "3 hello world\n",
            "5 hello world\n",
            "6 hello world\n",
            "7 hello world\n",
            "8 hello world\n",
            "9 hello world\n",
            "Loop is terminated\n"
          ]
        }
      ]
    },
    {
      "cell_type": "code",
      "source": [
        "a=range(0,10,1)\n",
        " \n",
        "for i in a:\n",
        "    if i ==4:\n",
        "        continue\n",
        "    print(i,\"hello world\")\n",
        "else:\n",
        "  print(\"Loop is terminated\")"
      ],
      "metadata": {
        "colab": {
          "base_uri": "https://localhost:8080/"
        },
        "id": "0Y-4F3NM6pRi",
        "outputId": "6f432dd2-7106-4ce1-d9fd-0cbcaef08bc3"
      },
      "execution_count": 376,
      "outputs": [
        {
          "output_type": "stream",
          "name": "stdout",
          "text": [
            "0 hello world\n",
            "1 hello world\n",
            "2 hello world\n",
            "3 hello world\n",
            "5 hello world\n",
            "6 hello world\n",
            "7 hello world\n",
            "8 hello world\n",
            "9 hello world\n",
            "Loop is terminated\n"
          ]
        }
      ]
    },
    {
      "cell_type": "code",
      "source": [
        "\n",
        "b=[2]\n",
        "for a in b:\n",
        "  if a==2:\n",
        "    continue\n",
        "  print(\"hello world\")  \n",
        "else:\n",
        "  print(\"a is a interger\")\n"
      ],
      "metadata": {
        "colab": {
          "base_uri": "https://localhost:8080/"
        },
        "id": "O0nZI8Zt6-dT",
        "outputId": "fca28d96-73c4-4e4d-f9b8-9e66db6bd745"
      },
      "execution_count": 377,
      "outputs": [
        {
          "output_type": "stream",
          "name": "stdout",
          "text": [
            "a is a interger\n"
          ]
        }
      ]
    },
    {
      "cell_type": "code",
      "source": [
        "b=[2,2,3,4,5,6,7]\n",
        "for a in b:\n",
        "  if a<10:\n",
        "    continue\n",
        "  print(\"hello world\")  \n",
        "else:\n",
        "  print(\"a is a interger\")"
      ],
      "metadata": {
        "colab": {
          "base_uri": "https://localhost:8080/"
        },
        "id": "ETwqj24E7fnf",
        "outputId": "87ee153d-960d-44a3-e1d6-3178eb5575b9"
      },
      "execution_count": 378,
      "outputs": [
        {
          "output_type": "stream",
          "name": "stdout",
          "text": [
            "a is a interger\n"
          ]
        }
      ]
    },
    {
      "cell_type": "code",
      "source": [
        "b=[2,2,3,4,5,6,7]\n",
        "for a in b:\n",
        "  if a<10:\n",
        "    continue\n",
        "  print(\"hello world\")\n",
        "else:\n",
        "  print(\"a is a interger\")"
      ],
      "metadata": {
        "id": "GWHLXmaQ9lLh",
        "colab": {
          "base_uri": "https://localhost:8080/"
        },
        "outputId": "de84b76d-f8d0-464f-b56f-b93426245dfd"
      },
      "execution_count": 379,
      "outputs": [
        {
          "output_type": "stream",
          "name": "stdout",
          "text": [
            "a is a interger\n"
          ]
        }
      ]
    },
    {
      "cell_type": "markdown",
      "source": [
        "# intializer\n",
        "\n",
        "# while condition:\n",
        "\n",
        "#     statement\n",
        "  \n",
        "#     increment/decrement\n"
      ],
      "metadata": {
        "id": "QT5gQmjS_Blg"
      }
    },
    {
      "cell_type": "code",
      "source": [
        "i=1\n",
        "while i<10:\n",
        "  print(\"hello world\")\n",
        "  i+=1"
      ],
      "metadata": {
        "colab": {
          "base_uri": "https://localhost:8080/"
        },
        "id": "mqhdYY4s_gqt",
        "outputId": "d6ecea9e-8c09-4cc2-cc56-77e1d749fd5c"
      },
      "execution_count": 380,
      "outputs": [
        {
          "output_type": "stream",
          "name": "stdout",
          "text": [
            "hello world\n",
            "hello world\n",
            "hello world\n",
            "hello world\n",
            "hello world\n",
            "hello world\n",
            "hello world\n",
            "hello world\n",
            "hello world\n"
          ]
        }
      ]
    },
    {
      "cell_type": "code",
      "source": [
        "i=1\n",
        "while i<10:\n",
        "    i += 1\n",
        "    if (i-1)==4:\n",
        "        continue\n",
        "    print(i-1,\"hello world\")\n"
      ],
      "metadata": {
        "colab": {
          "base_uri": "https://localhost:8080/"
        },
        "id": "oLIfFIVy_0kO",
        "outputId": "bbd80842-b01e-4983-ce9a-acaba04c37f6"
      },
      "execution_count": 381,
      "outputs": [
        {
          "output_type": "stream",
          "name": "stdout",
          "text": [
            "1 hello world\n",
            "2 hello world\n",
            "3 hello world\n",
            "5 hello world\n",
            "6 hello world\n",
            "7 hello world\n",
            "8 hello world\n",
            "9 hello world\n"
          ]
        }
      ]
    },
    {
      "cell_type": "code",
      "source": [
        "i=1\n",
        "while i<10:\n",
        "    i += 1\n",
        "    if (i-1)==4:\n",
        "        break\n",
        "    print(i-1,\"hello world\")\n"
      ],
      "metadata": {
        "colab": {
          "base_uri": "https://localhost:8080/"
        },
        "id": "7JIOt0KVC9Ek",
        "outputId": "d7c93478-23c4-4635-c37f-63ef3b673395"
      },
      "execution_count": 382,
      "outputs": [
        {
          "output_type": "stream",
          "name": "stdout",
          "text": [
            "1 hello world\n",
            "2 hello world\n",
            "3 hello world\n"
          ]
        }
      ]
    },
    {
      "cell_type": "markdown",
      "source": [
        "# pattern using for loop \n",
        "\n",
        "# list comprehension\n",
        "\n",
        "# function \n",
        "\n",
        "# annonymus function \n",
        "\n",
        "# f-sting \n",
        "\n",
        "# formate string\n",
        "\n",
        "#local variable / local scope \n",
        "\n",
        "# global variable /global scope"
      ],
      "metadata": {
        "id": "HIyUr0YoDC2j"
      }
    },
    {
      "cell_type": "code",
      "source": [
        "print(\"*\")\n",
        "print(\"**\")\n",
        "print(\"***\")\n",
        "print(\"****\")\n",
        "print(\"*****\")"
      ],
      "metadata": {
        "colab": {
          "base_uri": "https://localhost:8080/"
        },
        "id": "P_ZP9QK3vOsN",
        "outputId": "0c7a7a2f-ee11-4f3e-c945-4198f579ea50"
      },
      "execution_count": 383,
      "outputs": [
        {
          "output_type": "stream",
          "name": "stdout",
          "text": [
            "*\n",
            "**\n",
            "***\n",
            "****\n",
            "*****\n"
          ]
        }
      ]
    },
    {
      "cell_type": "code",
      "source": [
        "for i in range(0,5,1):   \n",
        "  for j in range(0,i+1,1):\n",
        "    print(\"*\",end='')\n",
        "  print()"
      ],
      "metadata": {
        "colab": {
          "base_uri": "https://localhost:8080/"
        },
        "id": "ilVD0d9Cv-i9",
        "outputId": "bd09fcd4-7fed-41c7-eed2-2421f84f93ac"
      },
      "execution_count": 384,
      "outputs": [
        {
          "output_type": "stream",
          "name": "stdout",
          "text": [
            "*\n",
            "**\n",
            "***\n",
            "****\n",
            "*****\n"
          ]
        }
      ]
    },
    {
      "cell_type": "markdown",
      "source": [
        "1. Write a Python program find a list of integers with exactly two occurrences of nineteen and at least three occurrences of five. Go to the editor\n",
        "Input:\n",
        "[19, 19, 15, 5, 3, 5, 5, 2]\n",
        "Output:\n",
        "True\n",
        "Input:\n",
        "[19, 15, 15, 5, 3, 3, 5, 2]\n",
        "Output:\n",
        "False\n",
        "Input:\n",
        "[19, 19, 5, 5, 5, 5, 5]\n",
        "Output:\n",
        "True"
      ],
      "metadata": {
        "id": "MLMyisRV4nH0"
      }
    },
    {
      "cell_type": "code",
      "source": [
        "a= [19,19, 15, 15, 5,5,3, 3, 5,5, 2] \n",
        "b19=0\n",
        "c5=0\n",
        "for i in a:\n",
        "  if i==19:\n",
        "    b19+=1\n",
        "  elif i==5:\n",
        "    c5+=1\n",
        "if c5>=3 and b19>=2:\n",
        "    print(True)\n",
        "else:\n",
        "    print(False)    "
      ],
      "metadata": {
        "colab": {
          "base_uri": "https://localhost:8080/"
        },
        "id": "uxBhyfR_7xtE",
        "outputId": "1e6a2039-ef54-46b3-de2e-4f1ce9b40a4c"
      },
      "execution_count": 385,
      "outputs": [
        {
          "output_type": "stream",
          "name": "stdout",
          "text": [
            "True\n"
          ]
        }
      ]
    },
    {
      "cell_type": "code",
      "source": [
        "for i in range(10):\n",
        "  print(\"Hello world\")"
      ],
      "metadata": {
        "colab": {
          "base_uri": "https://localhost:8080/"
        },
        "id": "x68aY1Rt8sfm",
        "outputId": "b2efe6e0-37c4-4957-aa15-2ae075a9766d"
      },
      "execution_count": 386,
      "outputs": [
        {
          "output_type": "stream",
          "name": "stdout",
          "text": [
            "Hello world\n",
            "Hello world\n",
            "Hello world\n",
            "Hello world\n",
            "Hello world\n",
            "Hello world\n",
            "Hello world\n",
            "Hello world\n",
            "Hello world\n",
            "Hello world\n"
          ]
        }
      ]
    },
    {
      "cell_type": "code",
      "source": [
        "def hello():\n",
        "  for i in range(10):\n",
        "    print(\"Hello world\")"
      ],
      "metadata": {
        "id": "6K_NFp43_NXy"
      },
      "execution_count": 387,
      "outputs": []
    },
    {
      "cell_type": "code",
      "source": [
        "print(\"this is function class \")"
      ],
      "metadata": {
        "colab": {
          "base_uri": "https://localhost:8080/"
        },
        "id": "f2pCus3t_y2i",
        "outputId": "9a55a322-14c0-4799-c235-e263c8d90737"
      },
      "execution_count": 388,
      "outputs": [
        {
          "output_type": "stream",
          "name": "stdout",
          "text": [
            "this is function class \n"
          ]
        }
      ]
    },
    {
      "cell_type": "code",
      "source": [
        "hello()"
      ],
      "metadata": {
        "colab": {
          "base_uri": "https://localhost:8080/"
        },
        "id": "L2zXyxQI_7_z",
        "outputId": "73071c37-7ce7-4d3a-ab84-89a26bdd7320"
      },
      "execution_count": 389,
      "outputs": [
        {
          "output_type": "stream",
          "name": "stdout",
          "text": [
            "Hello world\n",
            "Hello world\n",
            "Hello world\n",
            "Hello world\n",
            "Hello world\n",
            "Hello world\n",
            "Hello world\n",
            "Hello world\n",
            "Hello world\n",
            "Hello world\n"
          ]
        }
      ]
    },
    {
      "cell_type": "code",
      "source": [
        "print(\"My name is Krishna\")"
      ],
      "metadata": {
        "colab": {
          "base_uri": "https://localhost:8080/"
        },
        "id": "eNRRdL9Y_-mz",
        "outputId": "028f5003-3cd7-4f47-fbef-370270cfe8d7"
      },
      "execution_count": 390,
      "outputs": [
        {
          "output_type": "stream",
          "name": "stdout",
          "text": [
            "My name is Krishna\n"
          ]
        }
      ]
    },
    {
      "cell_type": "code",
      "source": [
        "hello()"
      ],
      "metadata": {
        "colab": {
          "base_uri": "https://localhost:8080/"
        },
        "id": "MDCeX6lnAC2C",
        "outputId": "230f73e8-b1e2-4786-f214-897cc6cb8c19"
      },
      "execution_count": 391,
      "outputs": [
        {
          "output_type": "stream",
          "name": "stdout",
          "text": [
            "Hello world\n",
            "Hello world\n",
            "Hello world\n",
            "Hello world\n",
            "Hello world\n",
            "Hello world\n",
            "Hello world\n",
            "Hello world\n",
            "Hello world\n",
            "Hello world\n"
          ]
        }
      ]
    },
    {
      "cell_type": "code",
      "source": [
        "def hello(n):\n",
        "  for i in range(n):\n",
        "    print(\"Hello world\")"
      ],
      "metadata": {
        "id": "2HPnKDqbAEPS"
      },
      "execution_count": 392,
      "outputs": []
    },
    {
      "cell_type": "code",
      "source": [
        "hello()"
      ],
      "metadata": {
        "colab": {
          "base_uri": "https://localhost:8080/",
          "height": 172
        },
        "id": "mDLsC7yrBGAD",
        "outputId": "e42b4bdc-a6d3-41cd-f0bf-9e3f31fda110"
      },
      "execution_count": 395,
      "outputs": [
        {
          "output_type": "error",
          "ename": "TypeError",
          "evalue": "ignored",
          "traceback": [
            "\u001b[0;31m---------------------------------------------------------------------------\u001b[0m",
            "\u001b[0;31mTypeError\u001b[0m                                 Traceback (most recent call last)",
            "\u001b[0;32m<ipython-input-395-a75d7781aaeb>\u001b[0m in \u001b[0;36m<module>\u001b[0;34m\u001b[0m\n\u001b[0;32m----> 1\u001b[0;31m \u001b[0mhello\u001b[0m\u001b[0;34m(\u001b[0m\u001b[0;34m)\u001b[0m\u001b[0;34m\u001b[0m\u001b[0;34m\u001b[0m\u001b[0m\n\u001b[0m",
            "\u001b[0;31mTypeError\u001b[0m: hello() missing 1 required positional argument: 'n'"
          ]
        }
      ]
    },
    {
      "cell_type": "code",
      "source": [
        "hello(4)"
      ],
      "metadata": {
        "colab": {
          "base_uri": "https://localhost:8080/"
        },
        "id": "1Ikx2GqxBL5T",
        "outputId": "af894db0-8602-45ca-bae2-f1c9f1dc9d3f"
      },
      "execution_count": 396,
      "outputs": [
        {
          "output_type": "stream",
          "name": "stdout",
          "text": [
            "Hello world\n",
            "Hello world\n",
            "Hello world\n",
            "Hello world\n"
          ]
        }
      ]
    },
    {
      "cell_type": "code",
      "source": [
        "hello(3)"
      ],
      "metadata": {
        "colab": {
          "base_uri": "https://localhost:8080/"
        },
        "id": "Hf9QrLTFBUbz",
        "outputId": "0c3de4b4-0518-4dc1-b602-94dd65d343ac"
      },
      "execution_count": 397,
      "outputs": [
        {
          "output_type": "stream",
          "name": "stdout",
          "text": [
            "Hello world\n",
            "Hello world\n",
            "Hello world\n"
          ]
        }
      ]
    },
    {
      "cell_type": "code",
      "source": [
        "hello(20)"
      ],
      "metadata": {
        "colab": {
          "base_uri": "https://localhost:8080/"
        },
        "id": "lNIZ4sqsBWID",
        "outputId": "6461f9e2-f24f-4ac2-8ff3-c9e8733497c4"
      },
      "execution_count": 398,
      "outputs": [
        {
          "output_type": "stream",
          "name": "stdout",
          "text": [
            "Hello world\n",
            "Hello world\n",
            "Hello world\n",
            "Hello world\n",
            "Hello world\n",
            "Hello world\n",
            "Hello world\n",
            "Hello world\n",
            "Hello world\n",
            "Hello world\n",
            "Hello world\n",
            "Hello world\n",
            "Hello world\n",
            "Hello world\n",
            "Hello world\n",
            "Hello world\n",
            "Hello world\n",
            "Hello world\n",
            "Hello world\n",
            "Hello world\n"
          ]
        }
      ]
    },
    {
      "cell_type": "code",
      "source": [
        "hello(a,b,c,d,e,f,krishna,mohan,)"
      ],
      "metadata": {
        "colab": {
          "base_uri": "https://localhost:8080/",
          "height": 172
        },
        "id": "xPrInLfGBYVU",
        "outputId": "9d32e596-247c-4030-a0bb-9c6b187c4401"
      },
      "execution_count": 399,
      "outputs": [
        {
          "output_type": "error",
          "ename": "NameError",
          "evalue": "ignored",
          "traceback": [
            "\u001b[0;31m---------------------------------------------------------------------------\u001b[0m",
            "\u001b[0;31mNameError\u001b[0m                                 Traceback (most recent call last)",
            "\u001b[0;32m<ipython-input-399-f985647d7a8a>\u001b[0m in \u001b[0;36m<module>\u001b[0;34m\u001b[0m\n\u001b[0;32m----> 1\u001b[0;31m \u001b[0mhello\u001b[0m\u001b[0;34m(\u001b[0m\u001b[0ma\u001b[0m\u001b[0;34m,\u001b[0m\u001b[0mb\u001b[0m\u001b[0;34m,\u001b[0m\u001b[0mc\u001b[0m\u001b[0;34m,\u001b[0m\u001b[0md\u001b[0m\u001b[0;34m,\u001b[0m\u001b[0me\u001b[0m\u001b[0;34m,\u001b[0m\u001b[0mf\u001b[0m\u001b[0;34m,\u001b[0m\u001b[0mkrishna\u001b[0m\u001b[0;34m,\u001b[0m\u001b[0mmohan\u001b[0m\u001b[0;34m,\u001b[0m\u001b[0;34m)\u001b[0m\u001b[0;34m\u001b[0m\u001b[0;34m\u001b[0m\u001b[0m\n\u001b[0m",
            "\u001b[0;31mNameError\u001b[0m: name 'krishna' is not defined"
          ]
        }
      ]
    },
    {
      "cell_type": "code",
      "source": [
        "def hello(a,b,c,d,e,f,krishna,mohan):\n",
        "  for i in range(n):\n",
        "    print(\"Hello world\")"
      ],
      "metadata": {
        "id": "QlFoDUjaByWx"
      },
      "execution_count": 400,
      "outputs": []
    },
    {
      "cell_type": "code",
      "source": [
        "def add(a,b):\n",
        "  print(a+b)"
      ],
      "metadata": {
        "id": "mqUvyMb5B2uj"
      },
      "execution_count": 401,
      "outputs": []
    },
    {
      "cell_type": "code",
      "source": [
        "add(2,3)"
      ],
      "metadata": {
        "colab": {
          "base_uri": "https://localhost:8080/"
        },
        "id": "q4e8Y0V5CPgT",
        "outputId": "1a48a66c-7df6-48c1-ac8d-b55b1ff5dcd7"
      },
      "execution_count": 402,
      "outputs": [
        {
          "output_type": "stream",
          "name": "stdout",
          "text": [
            "5\n"
          ]
        }
      ]
    },
    {
      "cell_type": "code",
      "source": [
        "add(2,3.3)"
      ],
      "metadata": {
        "colab": {
          "base_uri": "https://localhost:8080/"
        },
        "id": "BORkZr2OCQ6k",
        "outputId": "7c04d9f3-94d2-4775-81eb-9cc4cf849486"
      },
      "execution_count": 403,
      "outputs": [
        {
          "output_type": "stream",
          "name": "stdout",
          "text": [
            "5.3\n"
          ]
        }
      ]
    },
    {
      "cell_type": "code",
      "source": [
        "def add1(a,b,c):\n",
        "  print(a+b+c)"
      ],
      "metadata": {
        "id": "KU6UT8XlCmSi"
      },
      "execution_count": 404,
      "outputs": []
    },
    {
      "cell_type": "code",
      "source": [
        "add1(2,3,4)"
      ],
      "metadata": {
        "colab": {
          "base_uri": "https://localhost:8080/"
        },
        "id": "vZK_54Y-CwfC",
        "outputId": "b7029092-8707-448a-e6ac-bbac5f517889"
      },
      "execution_count": 405,
      "outputs": [
        {
          "output_type": "stream",
          "name": "stdout",
          "text": [
            "9\n"
          ]
        }
      ]
    },
    {
      "cell_type": "code",
      "source": [
        "add1(2.3,4.5,6.4)"
      ],
      "metadata": {
        "colab": {
          "base_uri": "https://localhost:8080/"
        },
        "id": "rQT7x9c6CzGC",
        "outputId": "ba67a065-fbe6-4b0b-b884-936466bae38d"
      },
      "execution_count": 406,
      "outputs": [
        {
          "output_type": "stream",
          "name": "stdout",
          "text": [
            "13.2\n"
          ]
        }
      ]
    },
    {
      "cell_type": "code",
      "source": [
        "add1(\"krishna\",\"kumar\",\"prajapati\")"
      ],
      "metadata": {
        "colab": {
          "base_uri": "https://localhost:8080/"
        },
        "id": "ssrJf_TuC1ii",
        "outputId": "eb16fad8-55f6-48f8-fd52-344193ea7602"
      },
      "execution_count": 407,
      "outputs": [
        {
          "output_type": "stream",
          "name": "stdout",
          "text": [
            "krishnakumarprajapati\n"
          ]
        }
      ]
    },
    {
      "cell_type": "code",
      "source": [
        "add1(2,3)"
      ],
      "metadata": {
        "colab": {
          "base_uri": "https://localhost:8080/",
          "height": 172
        },
        "id": "qyDm4hzGC51U",
        "outputId": "4d633568-6c52-4df4-f052-26027667c9c0"
      },
      "execution_count": 408,
      "outputs": [
        {
          "output_type": "error",
          "ename": "TypeError",
          "evalue": "ignored",
          "traceback": [
            "\u001b[0;31m---------------------------------------------------------------------------\u001b[0m",
            "\u001b[0;31mTypeError\u001b[0m                                 Traceback (most recent call last)",
            "\u001b[0;32m<ipython-input-408-95f073daa188>\u001b[0m in \u001b[0;36m<module>\u001b[0;34m\u001b[0m\n\u001b[0;32m----> 1\u001b[0;31m \u001b[0madd1\u001b[0m\u001b[0;34m(\u001b[0m\u001b[0;36m2\u001b[0m\u001b[0;34m,\u001b[0m\u001b[0;36m3\u001b[0m\u001b[0;34m)\u001b[0m\u001b[0;34m\u001b[0m\u001b[0;34m\u001b[0m\u001b[0m\n\u001b[0m",
            "\u001b[0;31mTypeError\u001b[0m: add1() missing 1 required positional argument: 'c'"
          ]
        }
      ]
    },
    {
      "cell_type": "code",
      "source": [
        "def add1(a=0,b=0,c=0):\n",
        "  print(a+b+c)"
      ],
      "metadata": {
        "id": "tFqSiD3fDBhD"
      },
      "execution_count": 409,
      "outputs": []
    },
    {
      "cell_type": "code",
      "source": [
        "add1()"
      ],
      "metadata": {
        "colab": {
          "base_uri": "https://localhost:8080/"
        },
        "id": "zHZiYPw9DL-U",
        "outputId": "4f48a1d9-098b-463a-ca8e-c8a3b9fd416d"
      },
      "execution_count": 410,
      "outputs": [
        {
          "output_type": "stream",
          "name": "stdout",
          "text": [
            "0\n"
          ]
        }
      ]
    },
    {
      "cell_type": "code",
      "source": [
        "add1(2)"
      ],
      "metadata": {
        "colab": {
          "base_uri": "https://localhost:8080/"
        },
        "id": "a865Us6PDMtC",
        "outputId": "e25e7920-3bc5-4dad-b63e-53fbd51522cb"
      },
      "execution_count": 411,
      "outputs": [
        {
          "output_type": "stream",
          "name": "stdout",
          "text": [
            "2\n"
          ]
        }
      ]
    },
    {
      "cell_type": "code",
      "source": [
        "add1(2,4)"
      ],
      "metadata": {
        "colab": {
          "base_uri": "https://localhost:8080/"
        },
        "id": "ohvIooSoDP50",
        "outputId": "2acc4f81-c844-494d-9c01-c0b3d8504924"
      },
      "execution_count": 412,
      "outputs": [
        {
          "output_type": "stream",
          "name": "stdout",
          "text": [
            "6\n"
          ]
        }
      ]
    },
    {
      "cell_type": "code",
      "source": [
        "add1(2,3,4)"
      ],
      "metadata": {
        "colab": {
          "base_uri": "https://localhost:8080/"
        },
        "id": "OObnXvSUDSQ0",
        "outputId": "995ded13-65c8-46a5-f68f-cd444f5d8fab"
      },
      "execution_count": 413,
      "outputs": [
        {
          "output_type": "stream",
          "name": "stdout",
          "text": [
            "9\n"
          ]
        }
      ]
    },
    {
      "cell_type": "code",
      "source": [
        "print(add1(2,3,4))"
      ],
      "metadata": {
        "colab": {
          "base_uri": "https://localhost:8080/"
        },
        "id": "-X-RrqYtDURz",
        "outputId": "80c4c9ff-4484-4807-c215-451837e1f7eb"
      },
      "execution_count": 414,
      "outputs": [
        {
          "output_type": "stream",
          "name": "stdout",
          "text": [
            "9\n",
            "None\n"
          ]
        }
      ]
    },
    {
      "cell_type": "code",
      "source": [
        "def add1(a,b,c):\n",
        "  return a+b+c"
      ],
      "metadata": {
        "id": "n3CYJRiwDgZT"
      },
      "execution_count": 415,
      "outputs": []
    },
    {
      "cell_type": "code",
      "source": [
        "print(add1(2,3,4))"
      ],
      "metadata": {
        "colab": {
          "base_uri": "https://localhost:8080/"
        },
        "id": "FaAFvcYKD7Bj",
        "outputId": "47dc7e93-5375-4952-ad5e-48d62421108e"
      },
      "execution_count": 416,
      "outputs": [
        {
          "output_type": "stream",
          "name": "stdout",
          "text": [
            "9\n"
          ]
        }
      ]
    },
    {
      "cell_type": "code",
      "source": [
        "add1(2,3,4)"
      ],
      "metadata": {
        "colab": {
          "base_uri": "https://localhost:8080/"
        },
        "id": "maXFhlyND8ME",
        "outputId": "8425001a-23c4-429c-9aba-ed55dd510f99"
      },
      "execution_count": 417,
      "outputs": [
        {
          "output_type": "execute_result",
          "data": {
            "text/plain": [
              "9"
            ]
          },
          "metadata": {},
          "execution_count": 417
        }
      ]
    },
    {
      "cell_type": "code",
      "source": [
        "a=add1(2,3,4)"
      ],
      "metadata": {
        "id": "BZciT37JEHAU"
      },
      "execution_count": 418,
      "outputs": []
    },
    {
      "cell_type": "code",
      "source": [
        "a+2"
      ],
      "metadata": {
        "colab": {
          "base_uri": "https://localhost:8080/"
        },
        "id": "pl8uWK1fEOFl",
        "outputId": "86d739e6-47c5-48ed-c357-774e3135d7b5"
      },
      "execution_count": 419,
      "outputs": [
        {
          "output_type": "execute_result",
          "data": {
            "text/plain": [
              "11"
            ]
          },
          "metadata": {},
          "execution_count": 419
        }
      ]
    },
    {
      "cell_type": "code",
      "source": [
        "def add2(a,b,c):\n",
        "  print(a+b+c)\n",
        "  print(a/b/c)\n",
        "  print(a*b*c)"
      ],
      "metadata": {
        "id": "J7ZSLczhEPXz"
      },
      "execution_count": 420,
      "outputs": []
    },
    {
      "cell_type": "code",
      "source": [
        "add2(2,3,4)"
      ],
      "metadata": {
        "colab": {
          "base_uri": "https://localhost:8080/"
        },
        "id": "WkwtRL2fEWYz",
        "outputId": "5e725c61-94f9-4354-9317-1a3a0c5711ef"
      },
      "execution_count": 421,
      "outputs": [
        {
          "output_type": "stream",
          "name": "stdout",
          "text": [
            "9\n",
            "0.16666666666666666\n",
            "24\n"
          ]
        }
      ]
    },
    {
      "cell_type": "code",
      "source": [
        "v=add2(2,3,4)"
      ],
      "metadata": {
        "colab": {
          "base_uri": "https://localhost:8080/"
        },
        "id": "UoyD3Fy_EYTT",
        "outputId": "bcccfcf6-beb0-4bdf-9267-e1013c020abd"
      },
      "execution_count": 422,
      "outputs": [
        {
          "output_type": "stream",
          "name": "stdout",
          "text": [
            "9\n",
            "0.16666666666666666\n",
            "24\n"
          ]
        }
      ]
    },
    {
      "cell_type": "code",
      "source": [
        "v+2"
      ],
      "metadata": {
        "colab": {
          "base_uri": "https://localhost:8080/",
          "height": 172
        },
        "id": "6Q_huuHcEa6k",
        "outputId": "2d6aed08-8525-4cab-c676-202763a76da5"
      },
      "execution_count": 423,
      "outputs": [
        {
          "output_type": "error",
          "ename": "TypeError",
          "evalue": "ignored",
          "traceback": [
            "\u001b[0;31m---------------------------------------------------------------------------\u001b[0m",
            "\u001b[0;31mTypeError\u001b[0m                                 Traceback (most recent call last)",
            "\u001b[0;32m<ipython-input-423-d14f8fa676df>\u001b[0m in \u001b[0;36m<module>\u001b[0;34m\u001b[0m\n\u001b[0;32m----> 1\u001b[0;31m \u001b[0mv\u001b[0m\u001b[0;34m+\u001b[0m\u001b[0;36m2\u001b[0m\u001b[0;34m\u001b[0m\u001b[0;34m\u001b[0m\u001b[0m\n\u001b[0m",
            "\u001b[0;31mTypeError\u001b[0m: unsupported operand type(s) for +: 'NoneType' and 'int'"
          ]
        }
      ]
    },
    {
      "cell_type": "code",
      "source": [
        "sum3=lambda a,b,c:print(\"\"\"{}+{}+\n",
        "{}={}\"\"\".format(a,b,c,a+b+c))"
      ],
      "metadata": {
        "id": "-WBhRobeEcrV"
      },
      "execution_count": 424,
      "outputs": []
    },
    {
      "cell_type": "code",
      "source": [
        "sum3(2,3,4)"
      ],
      "metadata": {
        "colab": {
          "base_uri": "https://localhost:8080/"
        },
        "id": "vFjtbQRCFa3V",
        "outputId": "d1b7b589-0dc0-49c9-bd65-572e0e706259"
      },
      "execution_count": 425,
      "outputs": [
        {
          "output_type": "stream",
          "name": "stdout",
          "text": [
            "2+3+\n",
            "4=9\n"
          ]
        }
      ]
    },
    {
      "cell_type": "code",
      "source": [
        "sum4=lambda a,b,c:print(a+b+c)"
      ],
      "metadata": {
        "id": "GeNHhJZ8FgaE"
      },
      "execution_count": 426,
      "outputs": []
    },
    {
      "cell_type": "code",
      "source": [
        "sum4(2,3,4)"
      ],
      "metadata": {
        "colab": {
          "base_uri": "https://localhost:8080/"
        },
        "id": "0NkuJeYMGx6U",
        "outputId": "b1004dbd-68ee-4132-e8bc-93e1f01b34ec"
      },
      "execution_count": 427,
      "outputs": [
        {
          "output_type": "stream",
          "name": "stdout",
          "text": [
            "9\n"
          ]
        }
      ]
    },
    {
      "cell_type": "code",
      "source": [
        "b=sum4(2,3,4)"
      ],
      "metadata": {
        "colab": {
          "base_uri": "https://localhost:8080/"
        },
        "id": "EMiFLHxCGzs3",
        "outputId": "3714b9b7-173a-4019-ad72-99f69c20bc1a"
      },
      "execution_count": 432,
      "outputs": [
        {
          "output_type": "stream",
          "name": "stdout",
          "text": [
            "9\n"
          ]
        }
      ]
    },
    {
      "cell_type": "code",
      "source": [
        "b+2"
      ],
      "metadata": {
        "colab": {
          "base_uri": "https://localhost:8080/",
          "height": 172
        },
        "id": "DXqmtJ_vG3Z0",
        "outputId": "38b37022-09e9-4ba4-ce2f-6f00fa5c998f"
      },
      "execution_count": 433,
      "outputs": [
        {
          "output_type": "error",
          "ename": "TypeError",
          "evalue": "ignored",
          "traceback": [
            "\u001b[0;31m---------------------------------------------------------------------------\u001b[0m",
            "\u001b[0;31mTypeError\u001b[0m                                 Traceback (most recent call last)",
            "\u001b[0;32m<ipython-input-433-8a0b888f7922>\u001b[0m in \u001b[0;36m<module>\u001b[0;34m\u001b[0m\n\u001b[0;32m----> 1\u001b[0;31m \u001b[0mb\u001b[0m\u001b[0;34m+\u001b[0m\u001b[0;36m2\u001b[0m\u001b[0;34m\u001b[0m\u001b[0;34m\u001b[0m\u001b[0m\n\u001b[0m",
            "\u001b[0;31mTypeError\u001b[0m: unsupported operand type(s) for +: 'NoneType' and 'int'"
          ]
        }
      ]
    },
    {
      "cell_type": "code",
      "source": [
        "sum4=lambda a,b,c:a+b+c"
      ],
      "metadata": {
        "id": "6G0JOuYqG4jV"
      },
      "execution_count": 434,
      "outputs": []
    },
    {
      "cell_type": "code",
      "source": [
        "sum4(2,3,4)"
      ],
      "metadata": {
        "colab": {
          "base_uri": "https://localhost:8080/"
        },
        "id": "tILGAjBtHCn0",
        "outputId": "656ee6dd-03d6-4468-95d7-343beeba5c28"
      },
      "execution_count": 435,
      "outputs": [
        {
          "output_type": "execute_result",
          "data": {
            "text/plain": [
              "9"
            ]
          },
          "metadata": {},
          "execution_count": 435
        }
      ]
    },
    {
      "cell_type": "code",
      "source": [
        "d=sum4(2,3,4)"
      ],
      "metadata": {
        "id": "w-nuWpdkHEbU"
      },
      "execution_count": 436,
      "outputs": []
    },
    {
      "cell_type": "code",
      "source": [
        "d+2"
      ],
      "metadata": {
        "colab": {
          "base_uri": "https://localhost:8080/"
        },
        "id": "Tox6vlK0HIgE",
        "outputId": "6403822b-84fd-45ef-b696-bb3f0381167d"
      },
      "execution_count": 437,
      "outputs": [
        {
          "output_type": "execute_result",
          "data": {
            "text/plain": [
              "11"
            ]
          },
          "metadata": {},
          "execution_count": 437
        }
      ]
    },
    {
      "cell_type": "code",
      "source": [
        "age=26\n",
        "name=\"krishna\"\n",
        "prof=\"Training\"\n",
        "print(\"This is {} I am {} and profession is {}\".format(name,age,prof))"
      ],
      "metadata": {
        "colab": {
          "base_uri": "https://localhost:8080/"
        },
        "id": "_96-N8WaHJCH",
        "outputId": "b66e4fee-e361-49c8-f4ea-59380159c2cf"
      },
      "execution_count": 438,
      "outputs": [
        {
          "output_type": "stream",
          "name": "stdout",
          "text": [
            "This is krishna I am 26 and profession is Training\n"
          ]
        }
      ]
    },
    {
      "cell_type": "code",
      "source": [
        "print(\"This is {} I am {} and profession is {}\".format(age,name,prof))"
      ],
      "metadata": {
        "colab": {
          "base_uri": "https://localhost:8080/"
        },
        "id": "hPw50Y35HnJU",
        "outputId": "1d8a2b36-8102-4988-fec0-dd47c1e94d63"
      },
      "execution_count": 439,
      "outputs": [
        {
          "output_type": "stream",
          "name": "stdout",
          "text": [
            "This is 26 I am krishna and profession is Training\n"
          ]
        }
      ]
    },
    {
      "cell_type": "code",
      "source": [
        "print(\"This is {1} I am {0} and profession is {2}\".format(age,name,prof))"
      ],
      "metadata": {
        "colab": {
          "base_uri": "https://localhost:8080/"
        },
        "id": "gotouTQJII4k",
        "outputId": "7ae5e99d-eb1f-48fb-8c8c-88b947702174"
      },
      "execution_count": 440,
      "outputs": [
        {
          "output_type": "stream",
          "name": "stdout",
          "text": [
            "This is krishna I am 26 and profession is Training\n"
          ]
        }
      ]
    },
    {
      "cell_type": "code",
      "source": [
        "print(f\"This is {name} I am {age} and profession is {prof}\")"
      ],
      "metadata": {
        "colab": {
          "base_uri": "https://localhost:8080/"
        },
        "id": "TO6Xxbn4IWJV",
        "outputId": "84b4a514-047f-4121-9602-441ad7b41277"
      },
      "execution_count": 441,
      "outputs": [
        {
          "output_type": "stream",
          "name": "stdout",
          "text": [
            "This is krishna I am 26 and profession is Training\n"
          ]
        }
      ]
    },
    {
      "cell_type": "code",
      "source": [
        "[1,2,3,4,5,6,7,8,9]"
      ],
      "metadata": {
        "id": "MwrPbWymIlIk",
        "colab": {
          "base_uri": "https://localhost:8080/"
        },
        "outputId": "cda3e5c0-41ba-4c42-b224-ed875208d933"
      },
      "execution_count": 442,
      "outputs": [
        {
          "output_type": "execute_result",
          "data": {
            "text/plain": [
              "[1, 2, 3, 4, 5, 6, 7, 8, 9]"
            ]
          },
          "metadata": {},
          "execution_count": 442
        }
      ]
    },
    {
      "cell_type": "code",
      "source": [
        "for i in range(1,10,1):\n",
        "  print(i)"
      ],
      "metadata": {
        "colab": {
          "base_uri": "https://localhost:8080/"
        },
        "id": "OkDC56Za5u0U",
        "outputId": "a1b9442b-968a-4549-d345-791148c8383b"
      },
      "execution_count": 443,
      "outputs": [
        {
          "output_type": "stream",
          "name": "stdout",
          "text": [
            "1\n",
            "2\n",
            "3\n",
            "4\n",
            "5\n",
            "6\n",
            "7\n",
            "8\n",
            "9\n"
          ]
        }
      ]
    },
    {
      "cell_type": "code",
      "source": [
        "[i for i in range(1,10,1)]"
      ],
      "metadata": {
        "colab": {
          "base_uri": "https://localhost:8080/"
        },
        "id": "oDaCwgFY54fi",
        "outputId": "bb6bf9f4-1abe-46b9-ff19-7cbcb32f915b"
      },
      "execution_count": 444,
      "outputs": [
        {
          "output_type": "execute_result",
          "data": {
            "text/plain": [
              "[1, 2, 3, 4, 5, 6, 7, 8, 9]"
            ]
          },
          "metadata": {},
          "execution_count": 444
        }
      ]
    },
    {
      "cell_type": "code",
      "source": [
        "cont=[]\n",
        "for i in range(1,10,2):\n",
        "  cont.append(i)\n",
        "print(cont)"
      ],
      "metadata": {
        "colab": {
          "base_uri": "https://localhost:8080/"
        },
        "id": "RbuwHk2w5_Bi",
        "outputId": "68a09c80-c0f7-4b21-d869-13ba3ce0700a"
      },
      "execution_count": 445,
      "outputs": [
        {
          "output_type": "stream",
          "name": "stdout",
          "text": [
            "[1, 3, 5, 7, 9]\n"
          ]
        }
      ]
    },
    {
      "cell_type": "code",
      "source": [
        "#list comprehension\n",
        "\n",
        "a=[i for i in range(1,10,2)]"
      ],
      "metadata": {
        "id": "IfJVsid66LTi"
      },
      "execution_count": 446,
      "outputs": []
    },
    {
      "cell_type": "code",
      "source": [
        "a"
      ],
      "metadata": {
        "colab": {
          "base_uri": "https://localhost:8080/"
        },
        "id": "r1W1C4FZ6czC",
        "outputId": "5dc04627-d25e-49d2-bc61-7de3c5b18a12"
      },
      "execution_count": 447,
      "outputs": [
        {
          "output_type": "execute_result",
          "data": {
            "text/plain": [
              "[1, 3, 5, 7, 9]"
            ]
          },
          "metadata": {},
          "execution_count": 447
        }
      ]
    },
    {
      "cell_type": "code",
      "source": [
        "def list_new():\n",
        "  me=int(input(\"Enter your list end edge :\"))\n",
        "  a=[i for i in range(1,me,2)]\n",
        "  return a"
      ],
      "metadata": {
        "id": "odGdxxD_6d8D"
      },
      "execution_count": 450,
      "outputs": []
    },
    {
      "cell_type": "code",
      "source": [
        "list_new()"
      ],
      "metadata": {
        "colab": {
          "base_uri": "https://localhost:8080/"
        },
        "id": "oF2E6erb7Axy",
        "outputId": "263b7106-79dd-469e-c306-55b66eecc94b"
      },
      "execution_count": 451,
      "outputs": [
        {
          "name": "stdout",
          "output_type": "stream",
          "text": [
            "Enter your list end edge :1\n"
          ]
        },
        {
          "output_type": "execute_result",
          "data": {
            "text/plain": [
              "[]"
            ]
          },
          "metadata": {},
          "execution_count": 451
        }
      ]
    },
    {
      "cell_type": "code",
      "source": [
        "def list_new(me=int(input(\"Enter your list end edge :\"))):\n",
        "  a=[i for i in range(1,me,2)]\n",
        "  return a"
      ],
      "metadata": {
        "colab": {
          "base_uri": "https://localhost:8080/"
        },
        "id": "_xZqIsvN7B9D",
        "outputId": "8da8ad6a-5c31-4bdc-ceca-d49bebf0844e"
      },
      "execution_count": 453,
      "outputs": [
        {
          "name": "stdout",
          "output_type": "stream",
          "text": [
            "Enter your list end edge :1\n"
          ]
        }
      ]
    },
    {
      "cell_type": "code",
      "source": [
        "list_new()"
      ],
      "metadata": {
        "colab": {
          "base_uri": "https://localhost:8080/"
        },
        "id": "cO7thVFF7bdS",
        "outputId": "5335e57f-e319-43e5-be92-39cbf4c532f1"
      },
      "execution_count": 454,
      "outputs": [
        {
          "output_type": "execute_result",
          "data": {
            "text/plain": [
              "[]"
            ]
          },
          "metadata": {},
          "execution_count": 454
        }
      ]
    },
    {
      "cell_type": "code",
      "source": [
        "list_new()"
      ],
      "metadata": {
        "colab": {
          "base_uri": "https://localhost:8080/"
        },
        "id": "2efsGb6-7lTT",
        "outputId": "935af5a0-9d63-428e-f3d4-64128cb1377f"
      },
      "execution_count": 455,
      "outputs": [
        {
          "output_type": "execute_result",
          "data": {
            "text/plain": [
              "[]"
            ]
          },
          "metadata": {},
          "execution_count": 455
        }
      ]
    },
    {
      "cell_type": "code",
      "source": [
        "list_new(100)"
      ],
      "metadata": {
        "colab": {
          "base_uri": "https://localhost:8080/"
        },
        "id": "Nq06yZNq7ncS",
        "outputId": "f7a1cb5c-6ffc-45c7-dc6e-ef7c1754f90c"
      },
      "execution_count": 456,
      "outputs": [
        {
          "output_type": "execute_result",
          "data": {
            "text/plain": [
              "[1,\n",
              " 3,\n",
              " 5,\n",
              " 7,\n",
              " 9,\n",
              " 11,\n",
              " 13,\n",
              " 15,\n",
              " 17,\n",
              " 19,\n",
              " 21,\n",
              " 23,\n",
              " 25,\n",
              " 27,\n",
              " 29,\n",
              " 31,\n",
              " 33,\n",
              " 35,\n",
              " 37,\n",
              " 39,\n",
              " 41,\n",
              " 43,\n",
              " 45,\n",
              " 47,\n",
              " 49,\n",
              " 51,\n",
              " 53,\n",
              " 55,\n",
              " 57,\n",
              " 59,\n",
              " 61,\n",
              " 63,\n",
              " 65,\n",
              " 67,\n",
              " 69,\n",
              " 71,\n",
              " 73,\n",
              " 75,\n",
              " 77,\n",
              " 79,\n",
              " 81,\n",
              " 83,\n",
              " 85,\n",
              " 87,\n",
              " 89,\n",
              " 91,\n",
              " 93,\n",
              " 95,\n",
              " 97,\n",
              " 99]"
            ]
          },
          "metadata": {},
          "execution_count": 456
        }
      ]
    },
    {
      "cell_type": "code",
      "source": [
        "[i for i in range(1,int(input(\"Enter your number\")),2)]\n",
        "#[i for i in range(1,10,2)]"
      ],
      "metadata": {
        "colab": {
          "base_uri": "https://localhost:8080/"
        },
        "id": "Qf5TnRVZ7wMj",
        "outputId": "b0825836-c75c-45a6-a69e-cefca189335b"
      },
      "execution_count": 457,
      "outputs": [
        {
          "name": "stdout",
          "output_type": "stream",
          "text": [
            "Enter your number1\n"
          ]
        },
        {
          "output_type": "execute_result",
          "data": {
            "text/plain": [
              "[]"
            ]
          },
          "metadata": {},
          "execution_count": 457
        }
      ]
    },
    {
      "cell_type": "code",
      "source": [
        "cont=[]\n",
        "for i in range(10):\n",
        "  if i%2==0:\n",
        "    print(i)\n",
        "    cont.append(i)\n",
        "print(cont)"
      ],
      "metadata": {
        "colab": {
          "base_uri": "https://localhost:8080/"
        },
        "id": "THh7YN4T8Myz",
        "outputId": "e3b05bcd-6959-465b-9559-6d46ba50ae66"
      },
      "execution_count": 458,
      "outputs": [
        {
          "output_type": "stream",
          "name": "stdout",
          "text": [
            "0\n",
            "2\n",
            "4\n",
            "6\n",
            "8\n",
            "[0, 2, 4, 6, 8]\n"
          ]
        }
      ]
    },
    {
      "cell_type": "code",
      "source": [
        "[i for i in range(10) if i%2==0]"
      ],
      "metadata": {
        "colab": {
          "base_uri": "https://localhost:8080/"
        },
        "id": "rwnuBs7B94k0",
        "outputId": "654be35c-f22d-412f-d952-8f7efe8c977c"
      },
      "execution_count": 459,
      "outputs": [
        {
          "output_type": "execute_result",
          "data": {
            "text/plain": [
              "[0, 2, 4, 6, 8]"
            ]
          },
          "metadata": {},
          "execution_count": 459
        }
      ]
    },
    {
      "cell_type": "code",
      "source": [
        "a=[i for i in range(10) for j in range(10)]"
      ],
      "metadata": {
        "id": "ykexiFvG-rvl"
      },
      "execution_count": 460,
      "outputs": []
    },
    {
      "cell_type": "code",
      "source": [
        "print(a)"
      ],
      "metadata": {
        "colab": {
          "base_uri": "https://localhost:8080/"
        },
        "id": "1rSKKwwx_uME",
        "outputId": "5d35ce30-c87c-4144-e633-b5a865a3a198"
      },
      "execution_count": 461,
      "outputs": [
        {
          "output_type": "stream",
          "name": "stdout",
          "text": [
            "[0, 0, 0, 0, 0, 0, 0, 0, 0, 0, 1, 1, 1, 1, 1, 1, 1, 1, 1, 1, 2, 2, 2, 2, 2, 2, 2, 2, 2, 2, 3, 3, 3, 3, 3, 3, 3, 3, 3, 3, 4, 4, 4, 4, 4, 4, 4, 4, 4, 4, 5, 5, 5, 5, 5, 5, 5, 5, 5, 5, 6, 6, 6, 6, 6, 6, 6, 6, 6, 6, 7, 7, 7, 7, 7, 7, 7, 7, 7, 7, 8, 8, 8, 8, 8, 8, 8, 8, 8, 8, 9, 9, 9, 9, 9, 9, 9, 9, 9, 9]\n"
          ]
        }
      ]
    },
    {
      "cell_type": "code",
      "source": [
        "for i in range(5):\n",
        "  for j in range(0,i+1,1):\n",
        "    print(j,end='')\n",
        "  print()"
      ],
      "metadata": {
        "colab": {
          "base_uri": "https://localhost:8080/"
        },
        "id": "ULjJr9fW_9IU",
        "outputId": "8adf9998-083d-47d3-d28b-6fb4d9350969"
      },
      "execution_count": 462,
      "outputs": [
        {
          "output_type": "stream",
          "name": "stdout",
          "text": [
            "0\n",
            "01\n",
            "012\n",
            "0123\n",
            "01234\n"
          ]
        }
      ]
    },
    {
      "cell_type": "code",
      "source": [
        "[k for i in range(5) for j in range(0,i+1,1) for k in range(5)]"
      ],
      "metadata": {
        "colab": {
          "base_uri": "https://localhost:8080/"
        },
        "id": "XLmnK4TzASd0",
        "outputId": "7acc92a2-a6c2-4f9f-8605-6cb815af1051"
      },
      "execution_count": 463,
      "outputs": [
        {
          "output_type": "execute_result",
          "data": {
            "text/plain": [
              "[0,\n",
              " 1,\n",
              " 2,\n",
              " 3,\n",
              " 4,\n",
              " 0,\n",
              " 1,\n",
              " 2,\n",
              " 3,\n",
              " 4,\n",
              " 0,\n",
              " 1,\n",
              " 2,\n",
              " 3,\n",
              " 4,\n",
              " 0,\n",
              " 1,\n",
              " 2,\n",
              " 3,\n",
              " 4,\n",
              " 0,\n",
              " 1,\n",
              " 2,\n",
              " 3,\n",
              " 4,\n",
              " 0,\n",
              " 1,\n",
              " 2,\n",
              " 3,\n",
              " 4,\n",
              " 0,\n",
              " 1,\n",
              " 2,\n",
              " 3,\n",
              " 4,\n",
              " 0,\n",
              " 1,\n",
              " 2,\n",
              " 3,\n",
              " 4,\n",
              " 0,\n",
              " 1,\n",
              " 2,\n",
              " 3,\n",
              " 4,\n",
              " 0,\n",
              " 1,\n",
              " 2,\n",
              " 3,\n",
              " 4,\n",
              " 0,\n",
              " 1,\n",
              " 2,\n",
              " 3,\n",
              " 4,\n",
              " 0,\n",
              " 1,\n",
              " 2,\n",
              " 3,\n",
              " 4,\n",
              " 0,\n",
              " 1,\n",
              " 2,\n",
              " 3,\n",
              " 4,\n",
              " 0,\n",
              " 1,\n",
              " 2,\n",
              " 3,\n",
              " 4,\n",
              " 0,\n",
              " 1,\n",
              " 2,\n",
              " 3,\n",
              " 4]"
            ]
          },
          "metadata": {},
          "execution_count": 463
        }
      ]
    },
    {
      "cell_type": "code",
      "source": [
        "cont=[]\n",
        "for i in range(5):\n",
        "  a=int(input(\"enter your number:\"))\n",
        "  cont.append(a)\n",
        "print(cont)"
      ],
      "metadata": {
        "colab": {
          "base_uri": "https://localhost:8080/",
          "height": 283
        },
        "id": "KoQFUba5AoZV",
        "outputId": "70fcbf4f-78bd-4457-d0e4-4ea3208f7aeb"
      },
      "execution_count": 465,
      "outputs": [
        {
          "name": "stdout",
          "output_type": "stream",
          "text": [
            "enter your number:12\n",
            "enter your number:\n"
          ]
        },
        {
          "output_type": "error",
          "ename": "ValueError",
          "evalue": "ignored",
          "traceback": [
            "\u001b[0;31m---------------------------------------------------------------------------\u001b[0m",
            "\u001b[0;31mValueError\u001b[0m                                Traceback (most recent call last)",
            "\u001b[0;32m<ipython-input-465-4435e112b12b>\u001b[0m in \u001b[0;36m<module>\u001b[0;34m\u001b[0m\n\u001b[1;32m      1\u001b[0m \u001b[0mcont\u001b[0m\u001b[0;34m=\u001b[0m\u001b[0;34m[\u001b[0m\u001b[0;34m]\u001b[0m\u001b[0;34m\u001b[0m\u001b[0;34m\u001b[0m\u001b[0m\n\u001b[1;32m      2\u001b[0m \u001b[0;32mfor\u001b[0m \u001b[0mi\u001b[0m \u001b[0;32min\u001b[0m \u001b[0mrange\u001b[0m\u001b[0;34m(\u001b[0m\u001b[0;36m5\u001b[0m\u001b[0;34m)\u001b[0m\u001b[0;34m:\u001b[0m\u001b[0;34m\u001b[0m\u001b[0;34m\u001b[0m\u001b[0m\n\u001b[0;32m----> 3\u001b[0;31m   \u001b[0ma\u001b[0m\u001b[0;34m=\u001b[0m\u001b[0mint\u001b[0m\u001b[0;34m(\u001b[0m\u001b[0minput\u001b[0m\u001b[0;34m(\u001b[0m\u001b[0;34m\"enter your number:\"\u001b[0m\u001b[0;34m)\u001b[0m\u001b[0;34m)\u001b[0m\u001b[0;34m\u001b[0m\u001b[0;34m\u001b[0m\u001b[0m\n\u001b[0m\u001b[1;32m      4\u001b[0m   \u001b[0mcont\u001b[0m\u001b[0;34m.\u001b[0m\u001b[0mappend\u001b[0m\u001b[0;34m(\u001b[0m\u001b[0ma\u001b[0m\u001b[0;34m)\u001b[0m\u001b[0;34m\u001b[0m\u001b[0;34m\u001b[0m\u001b[0m\n\u001b[1;32m      5\u001b[0m \u001b[0mprint\u001b[0m\u001b[0;34m(\u001b[0m\u001b[0mcont\u001b[0m\u001b[0;34m)\u001b[0m\u001b[0;34m\u001b[0m\u001b[0;34m\u001b[0m\u001b[0m\n",
            "\u001b[0;31mValueError\u001b[0m: invalid literal for int() with base 10: ''"
          ]
        }
      ]
    },
    {
      "cell_type": "code",
      "source": [
        "[int(input(\"enter your number:\")) for i in range(5)]"
      ],
      "metadata": {
        "id": "UC5bRui5B-gk"
      },
      "execution_count": null,
      "outputs": []
    },
    {
      "cell_type": "markdown",
      "source": [
        "# turnary operator"
      ],
      "metadata": {
        "id": "q4dMdh2iCM71"
      }
    },
    {
      "cell_type": "code",
      "source": [
        "if 1==1:\n",
        "  print(\"Hello world\")\n",
        "else:\n",
        "  print(\"Bye\")"
      ],
      "metadata": {
        "colab": {
          "base_uri": "https://localhost:8080/"
        },
        "id": "ZqUzXJYuC2lX",
        "outputId": "7aef5e00-bed1-48cc-92f6-846ba066ebc8"
      },
      "execution_count": 466,
      "outputs": [
        {
          "output_type": "stream",
          "name": "stdout",
          "text": [
            "Hello world\n"
          ]
        }
      ]
    },
    {
      "cell_type": "code",
      "source": [
        "print(\"Hello world\") if 1==1 else print(\"bye\")"
      ],
      "metadata": {
        "colab": {
          "base_uri": "https://localhost:8080/"
        },
        "id": "euIuZFVjDa4p",
        "outputId": "ac673b80-e3a5-4869-e5c1-7519adafce3e"
      },
      "execution_count": 467,
      "outputs": [
        {
          "output_type": "stream",
          "name": "stdout",
          "text": [
            "Hello world\n"
          ]
        }
      ]
    },
    {
      "cell_type": "code",
      "source": [
        "def sum1():\n",
        "  w=10\n",
        "  s=20\n",
        "  print(w+s)"
      ],
      "metadata": {
        "id": "qcCMM99SDjvl"
      },
      "execution_count": 468,
      "outputs": []
    },
    {
      "cell_type": "code",
      "source": [
        "sum1()"
      ],
      "metadata": {
        "colab": {
          "base_uri": "https://localhost:8080/"
        },
        "id": "qHeV1OUqErxF",
        "outputId": "04fd27d9-0695-40d3-ce78-1807af844c6e"
      },
      "execution_count": 469,
      "outputs": [
        {
          "output_type": "stream",
          "name": "stdout",
          "text": [
            "30\n"
          ]
        }
      ]
    },
    {
      "cell_type": "code",
      "source": [
        "print(w+s)"
      ],
      "metadata": {
        "colab": {
          "base_uri": "https://localhost:8080/",
          "height": 172
        },
        "id": "sTgkGURwEsbl",
        "outputId": "7789ec4f-a420-4cdd-c268-92f8c089cbd0"
      },
      "execution_count": 470,
      "outputs": [
        {
          "output_type": "error",
          "ename": "NameError",
          "evalue": "ignored",
          "traceback": [
            "\u001b[0;31m---------------------------------------------------------------------------\u001b[0m",
            "\u001b[0;31mNameError\u001b[0m                                 Traceback (most recent call last)",
            "\u001b[0;32m<ipython-input-470-895c9d4baf9f>\u001b[0m in \u001b[0;36m<module>\u001b[0;34m\u001b[0m\n\u001b[0;32m----> 1\u001b[0;31m \u001b[0mprint\u001b[0m\u001b[0;34m(\u001b[0m\u001b[0mw\u001b[0m\u001b[0;34m+\u001b[0m\u001b[0ms\u001b[0m\u001b[0;34m)\u001b[0m\u001b[0;34m\u001b[0m\u001b[0;34m\u001b[0m\u001b[0m\n\u001b[0m",
            "\u001b[0;31mNameError\u001b[0m: name 's' is not defined"
          ]
        }
      ]
    },
    {
      "cell_type": "code",
      "source": [
        "print(s+w)"
      ],
      "metadata": {
        "colab": {
          "base_uri": "https://localhost:8080/",
          "height": 172
        },
        "id": "schdnkk6E1v3",
        "outputId": "b01efb13-d4f1-43f4-f4f5-20c2001e0dae"
      },
      "execution_count": 471,
      "outputs": [
        {
          "output_type": "error",
          "ename": "NameError",
          "evalue": "ignored",
          "traceback": [
            "\u001b[0;31m---------------------------------------------------------------------------\u001b[0m",
            "\u001b[0;31mNameError\u001b[0m                                 Traceback (most recent call last)",
            "\u001b[0;32m<ipython-input-471-9cdbf3977532>\u001b[0m in \u001b[0;36m<module>\u001b[0;34m\u001b[0m\n\u001b[0;32m----> 1\u001b[0;31m \u001b[0mprint\u001b[0m\u001b[0;34m(\u001b[0m\u001b[0ms\u001b[0m\u001b[0;34m+\u001b[0m\u001b[0mw\u001b[0m\u001b[0;34m)\u001b[0m\u001b[0;34m\u001b[0m\u001b[0;34m\u001b[0m\u001b[0m\n\u001b[0m",
            "\u001b[0;31mNameError\u001b[0m: name 's' is not defined"
          ]
        }
      ]
    },
    {
      "cell_type": "code",
      "source": [
        "a=10\n",
        "b=20\n",
        "print(a+b)"
      ],
      "metadata": {
        "colab": {
          "base_uri": "https://localhost:8080/"
        },
        "id": "K7NCJSrRE6H1",
        "outputId": "ef3abf4b-de33-4883-b408-eecbf32454ca"
      },
      "execution_count": 472,
      "outputs": [
        {
          "output_type": "stream",
          "name": "stdout",
          "text": [
            "30\n"
          ]
        }
      ]
    },
    {
      "cell_type": "code",
      "source": [
        "def sum2():\n",
        "  print(a+b)"
      ],
      "metadata": {
        "id": "nG9DerCVFLj1"
      },
      "execution_count": 473,
      "outputs": []
    },
    {
      "cell_type": "code",
      "source": [
        "sum2()"
      ],
      "metadata": {
        "colab": {
          "base_uri": "https://localhost:8080/"
        },
        "id": "S6IYPBw3FO6q",
        "outputId": "d2735229-1292-4e36-8369-af9142bba729"
      },
      "execution_count": 474,
      "outputs": [
        {
          "output_type": "stream",
          "name": "stdout",
          "text": [
            "30\n"
          ]
        }
      ]
    },
    {
      "cell_type": "code",
      "source": [
        "def sum1():\n",
        "  global w,s\n",
        "  w=10\n",
        "  s=20\n",
        "  print(w+s)"
      ],
      "metadata": {
        "id": "g0Nq_I5JFPh2"
      },
      "execution_count": 475,
      "outputs": []
    },
    {
      "cell_type": "code",
      "source": [
        "sum1()"
      ],
      "metadata": {
        "colab": {
          "base_uri": "https://localhost:8080/"
        },
        "id": "iqq6b1IeFd5l",
        "outputId": "2e20eef9-c3c4-471d-9003-0f5198b7edc1"
      },
      "execution_count": 476,
      "outputs": [
        {
          "output_type": "stream",
          "name": "stdout",
          "text": [
            "30\n"
          ]
        }
      ]
    },
    {
      "cell_type": "code",
      "source": [
        "print(w+s)"
      ],
      "metadata": {
        "colab": {
          "base_uri": "https://localhost:8080/"
        },
        "id": "y5R0-kPZFfC1",
        "outputId": "420957e1-e07a-4461-f115-da85e8c3fcd2"
      },
      "execution_count": 477,
      "outputs": [
        {
          "output_type": "stream",
          "name": "stdout",
          "text": [
            "30\n"
          ]
        }
      ]
    },
    {
      "cell_type": "code",
      "source": [
        "def sum1():\n",
        "  global w,s\n",
        "  w=10\n",
        "  s=20\n",
        "  return w+s"
      ],
      "metadata": {
        "id": "FR2ML256Fg6F"
      },
      "execution_count": 478,
      "outputs": []
    },
    {
      "cell_type": "code",
      "source": [
        "a=sum1()"
      ],
      "metadata": {
        "id": "VmUnpgYnGkyl"
      },
      "execution_count": 479,
      "outputs": []
    },
    {
      "cell_type": "code",
      "source": [
        "a"
      ],
      "metadata": {
        "colab": {
          "base_uri": "https://localhost:8080/"
        },
        "id": "j3jNLmzkGltG",
        "outputId": "e86d6af3-bd33-41a4-cd21-c8a0a3463a2d"
      },
      "execution_count": 480,
      "outputs": [
        {
          "output_type": "execute_result",
          "data": {
            "text/plain": [
              "30"
            ]
          },
          "metadata": {},
          "execution_count": 480
        }
      ]
    },
    {
      "cell_type": "code",
      "source": [
        "a+1000"
      ],
      "metadata": {
        "colab": {
          "base_uri": "https://localhost:8080/"
        },
        "id": "ESbCoqrwGo2F",
        "outputId": "57fe0441-6ff3-4a63-9974-1648fe5b780d"
      },
      "execution_count": 481,
      "outputs": [
        {
          "output_type": "execute_result",
          "data": {
            "text/plain": [
              "1030"
            ]
          },
          "metadata": {},
          "execution_count": 481
        }
      ]
    },
    {
      "cell_type": "code",
      "source": [
        "def sum2():\n",
        "  x=10\n",
        "  y=30\n",
        "  print(x+y)\n"
      ],
      "metadata": {
        "id": "Uz6g3zIUGrA1"
      },
      "execution_count": 482,
      "outputs": []
    },
    {
      "cell_type": "code",
      "source": [
        "sum2()"
      ],
      "metadata": {
        "colab": {
          "base_uri": "https://localhost:8080/"
        },
        "id": "FM-EyADdGv2l",
        "outputId": "37bdad4c-bdd9-4617-c22c-3b2f8c9f1fdb"
      },
      "execution_count": 483,
      "outputs": [
        {
          "output_type": "stream",
          "name": "stdout",
          "text": [
            "40\n"
          ]
        }
      ]
    },
    {
      "cell_type": "code",
      "source": [
        "b=sum2()"
      ],
      "metadata": {
        "colab": {
          "base_uri": "https://localhost:8080/"
        },
        "id": "JWBui2AeG6A2",
        "outputId": "39c7ddf0-73cd-43d1-f127-79097989b723"
      },
      "execution_count": 484,
      "outputs": [
        {
          "output_type": "stream",
          "name": "stdout",
          "text": [
            "40\n"
          ]
        }
      ]
    },
    {
      "cell_type": "code",
      "source": [
        "b+100"
      ],
      "metadata": {
        "colab": {
          "base_uri": "https://localhost:8080/",
          "height": 172
        },
        "id": "cV61swO4G8hX",
        "outputId": "14b318d2-a7be-4b1a-84fb-958f96dc56c6"
      },
      "execution_count": 485,
      "outputs": [
        {
          "output_type": "error",
          "ename": "TypeError",
          "evalue": "ignored",
          "traceback": [
            "\u001b[0;31m---------------------------------------------------------------------------\u001b[0m",
            "\u001b[0;31mTypeError\u001b[0m                                 Traceback (most recent call last)",
            "\u001b[0;32m<ipython-input-485-7b35a905c912>\u001b[0m in \u001b[0;36m<module>\u001b[0;34m\u001b[0m\n\u001b[0;32m----> 1\u001b[0;31m \u001b[0mb\u001b[0m\u001b[0;34m+\u001b[0m\u001b[0;36m100\u001b[0m\u001b[0;34m\u001b[0m\u001b[0;34m\u001b[0m\u001b[0m\n\u001b[0m",
            "\u001b[0;31mTypeError\u001b[0m: unsupported operand type(s) for +: 'NoneType' and 'int'"
          ]
        }
      ]
    },
    {
      "cell_type": "code",
      "source": [
        "a=10\n",
        "print(a)"
      ],
      "metadata": {
        "colab": {
          "base_uri": "https://localhost:8080/"
        },
        "id": "PZY6hnAhG-B2",
        "outputId": "399b3e6c-5cba-4579-8a8c-5c1d7060cfae"
      },
      "execution_count": 486,
      "outputs": [
        {
          "output_type": "stream",
          "name": "stdout",
          "text": [
            "10\n"
          ]
        }
      ]
    },
    {
      "cell_type": "code",
      "source": [
        "def abc():\n",
        "  a=100\n",
        "  print(a)"
      ],
      "metadata": {
        "id": "b3FZAIzDHMoX"
      },
      "execution_count": 487,
      "outputs": []
    },
    {
      "cell_type": "code",
      "source": [
        "abc()"
      ],
      "metadata": {
        "colab": {
          "base_uri": "https://localhost:8080/"
        },
        "id": "uhykWCBXHSt2",
        "outputId": "e9189f8a-770d-4282-e4c1-cae0573fe0b6"
      },
      "execution_count": 493,
      "outputs": [
        {
          "output_type": "stream",
          "name": "stdout",
          "text": [
            "100\n"
          ]
        }
      ]
    },
    {
      "cell_type": "code",
      "source": [
        "def remove1():\n",
        "  a=input(\"Enter your statement:\")\n",
        "  user=int(input(\"Enter a index which you want to remove:\"))\n",
        "  a=a[:user]+a[user+1:]\n",
        "  print(a)\n",
        "\n"
      ],
      "metadata": {
        "id": "HkyRUhwRHUxX"
      },
      "execution_count": 494,
      "outputs": []
    },
    {
      "cell_type": "code",
      "source": [
        "remove1()"
      ],
      "metadata": {
        "colab": {
          "base_uri": "https://localhost:8080/"
        },
        "id": "BZh4n41-IxGY",
        "outputId": "84fd6165-ecb7-4af6-9c74-1e422eb1a469"
      },
      "execution_count": 490,
      "outputs": [
        {
          "output_type": "stream",
          "name": "stdout",
          "text": [
            "Enter your statement:\n",
            "Enter a index which you want to remove:1\n",
            "\n"
          ]
        }
      ]
    },
    {
      "cell_type": "code",
      "source": [
        "a=input(\"Enter your statement:\")\n",
        "user=eval(input(\"Enter a index which you want to remove:\"))\n",
        "a=a[:abs(user)]+a[abs(user)+1:]\n",
        "print(a)\n"
      ],
      "metadata": {
        "colab": {
          "base_uri": "https://localhost:8080/"
        },
        "id": "xOJGaYP3JJfG",
        "outputId": "f779a069-90da-4709-88c5-bda8b6d1666c"
      },
      "execution_count": 491,
      "outputs": [
        {
          "output_type": "stream",
          "name": "stdout",
          "text": [
            "Enter your statement:\n",
            "Enter a index which you want to remove:1\n",
            "\n"
          ]
        }
      ]
    },
    {
      "cell_type": "code",
      "source": [
        "a=\"this is krishna\""
      ],
      "metadata": {
        "id": "ZLriZqYJJicG"
      },
      "execution_count": 495,
      "outputs": []
    },
    {
      "cell_type": "code",
      "source": [
        "a"
      ],
      "metadata": {
        "colab": {
          "base_uri": "https://localhost:8080/",
          "height": 36
        },
        "id": "yXzrEdHoKtPY",
        "outputId": "5b5aaeca-08f2-4960-d2ae-bd64470c6e87"
      },
      "execution_count": 496,
      "outputs": [
        {
          "output_type": "execute_result",
          "data": {
            "text/plain": [
              "'this is krishna'"
            ],
            "application/vnd.google.colaboratory.intrinsic+json": {
              "type": "string"
            }
          },
          "metadata": {},
          "execution_count": 496
        }
      ]
    },
    {
      "cell_type": "code",
      "source": [
        "a[0:1:1]"
      ],
      "metadata": {
        "colab": {
          "base_uri": "https://localhost:8080/",
          "height": 36
        },
        "id": "09hCDLE0KtnX",
        "outputId": "06c34b11-3404-4c7a-b082-677200cc8f5b"
      },
      "execution_count": 497,
      "outputs": [
        {
          "output_type": "execute_result",
          "data": {
            "text/plain": [
              "'t'"
            ],
            "application/vnd.google.colaboratory.intrinsic+json": {
              "type": "string"
            }
          },
          "metadata": {},
          "execution_count": 497
        }
      ]
    },
    {
      "cell_type": "code",
      "source": [
        "a[1+1::1]"
      ],
      "metadata": {
        "colab": {
          "base_uri": "https://localhost:8080/",
          "height": 36
        },
        "id": "XuIXlf7BK-WI",
        "outputId": "96194478-2f27-4fa9-928d-8526165922dd"
      },
      "execution_count": 498,
      "outputs": [
        {
          "output_type": "execute_result",
          "data": {
            "text/plain": [
              "'is is krishna'"
            ],
            "application/vnd.google.colaboratory.intrinsic+json": {
              "type": "string"
            }
          },
          "metadata": {},
          "execution_count": 498
        }
      ]
    },
    {
      "cell_type": "code",
      "source": [
        "a[0:1:1]+a[1::1]"
      ],
      "metadata": {
        "colab": {
          "base_uri": "https://localhost:8080/",
          "height": 36
        },
        "id": "BADVecTzLL2o",
        "outputId": "f8d58c9c-ba94-48f8-bd18-94ff080d6988"
      },
      "execution_count": 499,
      "outputs": [
        {
          "output_type": "execute_result",
          "data": {
            "text/plain": [
              "'this is krishna'"
            ],
            "application/vnd.google.colaboratory.intrinsic+json": {
              "type": "string"
            }
          },
          "metadata": {},
          "execution_count": 499
        }
      ]
    },
    {
      "cell_type": "code",
      "source": [
        "a=\"this is krishna\""
      ],
      "metadata": {
        "id": "q1-7no1RLRXH"
      },
      "execution_count": 500,
      "outputs": []
    },
    {
      "cell_type": "code",
      "source": [
        "b=[a]\n",
        "print(b)\n",
        "# for i in a:\n"
      ],
      "metadata": {
        "colab": {
          "base_uri": "https://localhost:8080/"
        },
        "id": "n-t6Dql3MfbM",
        "outputId": "418e44f8-4aa3-4626-b8fc-ce89b0124bc1"
      },
      "execution_count": 501,
      "outputs": [
        {
          "output_type": "stream",
          "name": "stdout",
          "text": [
            "['this is krishna']\n"
          ]
        }
      ]
    },
    {
      "cell_type": "code",
      "source": [
        "b=list(a)\n",
        "print(b)"
      ],
      "metadata": {
        "colab": {
          "base_uri": "https://localhost:8080/"
        },
        "id": "11kuB797MmpJ",
        "outputId": "8a76bd8a-8b8f-4f60-a32e-da63ac53136e"
      },
      "execution_count": 502,
      "outputs": [
        {
          "output_type": "stream",
          "name": "stdout",
          "text": [
            "['t', 'h', 'i', 's', ' ', 'i', 's', ' ', 'k', 'r', 'i', 's', 'h', 'n', 'a']\n"
          ]
        }
      ]
    },
    {
      "cell_type": "code",
      "source": [
        "a=int(input(\"Enter your index which you want to remove: \"))\n",
        "st=\"\"\n",
        "for i in b:\n",
        "  if i==b[a]:\n",
        "    break\n",
        "  st+=i\n",
        "for j in b[a+1:]:\n",
        "  st+=j\n",
        "print(st)\n"
      ],
      "metadata": {
        "colab": {
          "base_uri": "https://localhost:8080/"
        },
        "id": "pWO7cEUjNHkI",
        "outputId": "9c87c61b-90dd-45fd-dc31-b3b4d6c60028"
      },
      "execution_count": 506,
      "outputs": [
        {
          "output_type": "stream",
          "name": "stdout",
          "text": [
            "Enter your index which you want to remove: 1\n",
            "tis is krishna\n"
          ]
        }
      ]
    },
    {
      "cell_type": "markdown",
      "source": [
        "# Object Oriented programming :\n",
        "\n",
        "class\n",
        "\n",
        "  > class variable \n",
        "\n",
        "  > instance variable\n",
        "\n",
        "  > constructor\n",
        "\n",
        "object\n",
        "\n",
        "encapsulation\n",
        "\n",
        "inheritance\n",
        "\n",
        "polymorphism\n",
        "\n",
        "abstraction\n"
      ],
      "metadata": {
        "id": "nYiPg_MONVgJ"
      }
    },
    {
      "cell_type": "code",
      "source": [
        "class Mobile:\n",
        "  def __init__(self):\n",
        "    self.color=\"Black\"\n",
        "    self.ram=\"8GB\"\n",
        "    self.memory=\"128GB\"\n",
        "    "
      ],
      "metadata": {
        "id": "oyQ3zcVWRdj7"
      },
      "execution_count": 507,
      "outputs": []
    },
    {
      "cell_type": "code",
      "source": [
        "Apple14=Mobile()"
      ],
      "metadata": {
        "id": "4IWJ6Ffx29RH"
      },
      "execution_count": 508,
      "outputs": []
    },
    {
      "cell_type": "code",
      "source": [
        "Apple14.color"
      ],
      "metadata": {
        "colab": {
          "base_uri": "https://localhost:8080/",
          "height": 36
        },
        "id": "tyaOIt063FdD",
        "outputId": "38034618-90ad-450c-9396-7f0256934459"
      },
      "execution_count": 509,
      "outputs": [
        {
          "output_type": "execute_result",
          "data": {
            "text/plain": [
              "'Black'"
            ],
            "application/vnd.google.colaboratory.intrinsic+json": {
              "type": "string"
            }
          },
          "metadata": {},
          "execution_count": 509
        }
      ]
    },
    {
      "cell_type": "code",
      "source": [
        "Apple14.memory"
      ],
      "metadata": {
        "colab": {
          "base_uri": "https://localhost:8080/",
          "height": 36
        },
        "id": "l8CiRmv33JLS",
        "outputId": "4d92c911-ee5d-498b-c622-f8a09079bfcc"
      },
      "execution_count": 510,
      "outputs": [
        {
          "output_type": "execute_result",
          "data": {
            "text/plain": [
              "'128GB'"
            ],
            "application/vnd.google.colaboratory.intrinsic+json": {
              "type": "string"
            }
          },
          "metadata": {},
          "execution_count": 510
        }
      ]
    },
    {
      "cell_type": "code",
      "source": [
        "Apple14.ram"
      ],
      "metadata": {
        "colab": {
          "base_uri": "https://localhost:8080/",
          "height": 36
        },
        "id": "Gbm77hzB3NJD",
        "outputId": "18bd9950-dc6c-4d7d-ef7f-9223c310d060"
      },
      "execution_count": 511,
      "outputs": [
        {
          "output_type": "execute_result",
          "data": {
            "text/plain": [
              "'8GB'"
            ],
            "application/vnd.google.colaboratory.intrinsic+json": {
              "type": "string"
            }
          },
          "metadata": {},
          "execution_count": 511
        }
      ]
    },
    {
      "cell_type": "code",
      "source": [
        "Nokia=Mobile()"
      ],
      "metadata": {
        "id": "aCj05vo_3PcV"
      },
      "execution_count": 512,
      "outputs": []
    },
    {
      "cell_type": "code",
      "source": [
        "Nokia1100=Mobile()"
      ],
      "metadata": {
        "id": "B_OU1XNd3W1k"
      },
      "execution_count": 513,
      "outputs": []
    },
    {
      "cell_type": "code",
      "source": [
        "Nokia1100.ram"
      ],
      "metadata": {
        "colab": {
          "base_uri": "https://localhost:8080/",
          "height": 36
        },
        "id": "lzsSCDaD3tMD",
        "outputId": "754ffe6e-de19-47bc-b966-89192390f7db"
      },
      "execution_count": 514,
      "outputs": [
        {
          "output_type": "execute_result",
          "data": {
            "text/plain": [
              "'8GB'"
            ],
            "application/vnd.google.colaboratory.intrinsic+json": {
              "type": "string"
            }
          },
          "metadata": {},
          "execution_count": 514
        }
      ]
    },
    {
      "cell_type": "code",
      "source": [
        "Nokia1100.memory"
      ],
      "metadata": {
        "colab": {
          "base_uri": "https://localhost:8080/",
          "height": 36
        },
        "id": "1jCHo3Ff3wNC",
        "outputId": "8298e216-214f-4b6e-b24e-dd4d36fab024"
      },
      "execution_count": 515,
      "outputs": [
        {
          "output_type": "execute_result",
          "data": {
            "text/plain": [
              "'128GB'"
            ],
            "application/vnd.google.colaboratory.intrinsic+json": {
              "type": "string"
            }
          },
          "metadata": {},
          "execution_count": 515
        }
      ]
    },
    {
      "cell_type": "code",
      "source": [
        "Apple14.memory"
      ],
      "metadata": {
        "colab": {
          "base_uri": "https://localhost:8080/",
          "height": 36
        },
        "id": "DD_xcIda3_oT",
        "outputId": "a3941a8a-aabb-4f60-9fcf-6c02670fcfa9"
      },
      "execution_count": 516,
      "outputs": [
        {
          "output_type": "execute_result",
          "data": {
            "text/plain": [
              "'128GB'"
            ],
            "application/vnd.google.colaboratory.intrinsic+json": {
              "type": "string"
            }
          },
          "metadata": {},
          "execution_count": 516
        }
      ]
    },
    {
      "cell_type": "code",
      "source": [
        "class Mobile1:\n",
        "  def __init__(self):\n",
        "    self.color=\"Black\"\n",
        "    self.ram=\"8GB\"\n",
        "    self.memory=\"128GB\"\n",
        "  \n",
        "  def calling(self):\n",
        "    print(\"We can call\")\n",
        "  \n",
        "  def texting(self):\n",
        "    print(\"Texting is possible\")"
      ],
      "metadata": {
        "id": "X2Xsgw4f4EpC"
      },
      "execution_count": 517,
      "outputs": []
    },
    {
      "cell_type": "code",
      "source": [
        "Apple14.memory"
      ],
      "metadata": {
        "colab": {
          "base_uri": "https://localhost:8080/",
          "height": 36
        },
        "id": "38w6fc5q4Zu0",
        "outputId": "c4de9215-777b-4ddc-a6a2-398e6e504774"
      },
      "execution_count": 518,
      "outputs": [
        {
          "output_type": "execute_result",
          "data": {
            "text/plain": [
              "'128GB'"
            ],
            "application/vnd.google.colaboratory.intrinsic+json": {
              "type": "string"
            }
          },
          "metadata": {},
          "execution_count": 518
        }
      ]
    },
    {
      "cell_type": "code",
      "source": [
        "Realme=Mobile1()"
      ],
      "metadata": {
        "id": "epPWovbI4dIC"
      },
      "execution_count": 519,
      "outputs": []
    },
    {
      "cell_type": "code",
      "source": [
        "Realme.calling()"
      ],
      "metadata": {
        "colab": {
          "base_uri": "https://localhost:8080/"
        },
        "id": "qkKtK_iV4lxC",
        "outputId": "d4dd233e-0803-4814-9276-9c4ff551f071"
      },
      "execution_count": 520,
      "outputs": [
        {
          "output_type": "stream",
          "name": "stdout",
          "text": [
            "We can call\n"
          ]
        }
      ]
    },
    {
      "cell_type": "code",
      "source": [
        "print(type(Realme))"
      ],
      "metadata": {
        "colab": {
          "base_uri": "https://localhost:8080/"
        },
        "id": "kFeiQPfA497S",
        "outputId": "da4a53c6-20c0-475b-b4ea-2fc7b5121dbf"
      },
      "execution_count": 521,
      "outputs": [
        {
          "output_type": "stream",
          "name": "stdout",
          "text": [
            "<class '__main__.Mobile1'>\n"
          ]
        }
      ]
    },
    {
      "cell_type": "code",
      "source": [
        "class Mobile1:         # Blueprint\n",
        "  def __init__(self):   #constructor\n",
        "    print(\"Class's self :\",id(self))\n",
        "    self.color=\"Black\"    # instance variable\n",
        "    self.ram=\"8GB\"\n",
        "    self.memory=\"128GB\"\n",
        "  \n",
        "  def calling(self):\n",
        "    print(\"We can call\")\n",
        "  \n",
        "  def texting(self):\n",
        "    print(\"Texting is possible\")"
      ],
      "metadata": {
        "id": "u1oAZ0_75Jgz"
      },
      "execution_count": 522,
      "outputs": []
    },
    {
      "cell_type": "code",
      "source": [
        "apple=Mobile1()\n",
        "print(id(apple))"
      ],
      "metadata": {
        "colab": {
          "base_uri": "https://localhost:8080/"
        },
        "id": "0tlksJ7458CV",
        "outputId": "5571555c-ecc3-457a-8aa4-e15f110b0e11"
      },
      "execution_count": 523,
      "outputs": [
        {
          "output_type": "stream",
          "name": "stdout",
          "text": [
            "Class's self : 140489868869840\n",
            "140489868869840\n"
          ]
        }
      ]
    },
    {
      "cell_type": "code",
      "source": [
        "realme=Mobile1()"
      ],
      "metadata": {
        "colab": {
          "base_uri": "https://localhost:8080/"
        },
        "id": "BZS-09pu5_FT",
        "outputId": "e1b0bb80-b5e7-4ced-c7e2-00f140aec0df"
      },
      "execution_count": 524,
      "outputs": [
        {
          "output_type": "stream",
          "name": "stdout",
          "text": [
            "Class's self : 140489868387152\n"
          ]
        }
      ]
    },
    {
      "cell_type": "code",
      "source": [
        "a=list()"
      ],
      "metadata": {
        "id": "dq7s2Wpm6kej"
      },
      "execution_count": 525,
      "outputs": []
    },
    {
      "cell_type": "code",
      "source": [
        "print(type(a))"
      ],
      "metadata": {
        "colab": {
          "base_uri": "https://localhost:8080/"
        },
        "id": "CE3nbogr7TSy",
        "outputId": "ce65b0c9-7ebf-40cc-9496-7be8269e0652"
      },
      "execution_count": 526,
      "outputs": [
        {
          "output_type": "stream",
          "name": "stdout",
          "text": [
            "<class 'list'>\n"
          ]
        }
      ]
    },
    {
      "cell_type": "code",
      "source": [
        "class Mobile1:         # Blueprint\n",
        "  def __init__(self):   #constructor--> \n",
        "    print(\"Class's self :\",id(self))\n",
        "    self.color=\"Black\"    # instance variable\n",
        "    self.ram=\"8GB\"\n",
        "    self.memory=\"128GB\"\n",
        "  \n",
        "  def calling(self,a):\n",
        "    print(\"We can call\",a)\n",
        "  \n",
        "  def texting(self):\n",
        "    print(\"Texting is possible\")"
      ],
      "metadata": {
        "id": "FQG0xzNB7UCT"
      },
      "execution_count": 527,
      "outputs": []
    },
    {
      "cell_type": "code",
      "source": [
        "apple=Mobile1()"
      ],
      "metadata": {
        "colab": {
          "base_uri": "https://localhost:8080/"
        },
        "id": "YetTXACI7yAE",
        "outputId": "b9023109-6aa1-4d8d-c0f6-1f96075f858c"
      },
      "execution_count": 528,
      "outputs": [
        {
          "output_type": "stream",
          "name": "stdout",
          "text": [
            "Class's self : 140489868836688\n"
          ]
        }
      ]
    },
    {
      "cell_type": "code",
      "source": [
        "apple.calling(1)"
      ],
      "metadata": {
        "colab": {
          "base_uri": "https://localhost:8080/"
        },
        "id": "JVqRw1H19cjU",
        "outputId": "1a527b61-4979-4ea9-8339-d8c2e15278e7"
      },
      "execution_count": 529,
      "outputs": [
        {
          "output_type": "stream",
          "name": "stdout",
          "text": [
            "We can call 1\n"
          ]
        }
      ]
    },
    {
      "cell_type": "code",
      "source": [
        "apple.calling(1,2)"
      ],
      "metadata": {
        "colab": {
          "base_uri": "https://localhost:8080/",
          "height": 172
        },
        "id": "CMuO0UHQ9ewk",
        "outputId": "2787b6dd-61c9-4cf4-9a54-11318c714576"
      },
      "execution_count": 532,
      "outputs": [
        {
          "output_type": "error",
          "ename": "TypeError",
          "evalue": "ignored",
          "traceback": [
            "\u001b[0;31m---------------------------------------------------------------------------\u001b[0m",
            "\u001b[0;31mTypeError\u001b[0m                                 Traceback (most recent call last)",
            "\u001b[0;32m<ipython-input-532-5407607fbc3d>\u001b[0m in \u001b[0;36m<module>\u001b[0;34m\u001b[0m\n\u001b[0;32m----> 1\u001b[0;31m \u001b[0mapple\u001b[0m\u001b[0;34m.\u001b[0m\u001b[0mcalling\u001b[0m\u001b[0;34m(\u001b[0m\u001b[0;36m1\u001b[0m\u001b[0;34m,\u001b[0m\u001b[0;36m2\u001b[0m\u001b[0;34m)\u001b[0m\u001b[0;34m\u001b[0m\u001b[0;34m\u001b[0m\u001b[0m\n\u001b[0m",
            "\u001b[0;31mTypeError\u001b[0m: calling() takes 2 positional arguments but 3 were given"
          ]
        }
      ]
    },
    {
      "cell_type": "code",
      "source": [
        "a=list()"
      ],
      "metadata": {
        "id": "gd0Lbbh1-mv2"
      },
      "execution_count": 533,
      "outputs": []
    },
    {
      "cell_type": "code",
      "source": [
        "a.append(1)"
      ],
      "metadata": {
        "id": "OztbjPMX-sbE"
      },
      "execution_count": 534,
      "outputs": []
    },
    {
      "cell_type": "code",
      "source": [
        "a"
      ],
      "metadata": {
        "colab": {
          "base_uri": "https://localhost:8080/"
        },
        "id": "Eu0Dt2Qj-tqE",
        "outputId": "4127db85-323a-4951-be69-1bd15522e0ae"
      },
      "execution_count": 535,
      "outputs": [
        {
          "output_type": "execute_result",
          "data": {
            "text/plain": [
              "[1]"
            ]
          },
          "metadata": {},
          "execution_count": 535
        }
      ]
    },
    {
      "cell_type": "code",
      "source": [
        "a.append(1,2)"
      ],
      "metadata": {
        "colab": {
          "base_uri": "https://localhost:8080/",
          "height": 172
        },
        "id": "TXzjJFB3-t32",
        "outputId": "8adab2e6-c8cc-476f-9b59-bea28acfc8e9"
      },
      "execution_count": 536,
      "outputs": [
        {
          "output_type": "error",
          "ename": "TypeError",
          "evalue": "ignored",
          "traceback": [
            "\u001b[0;31m---------------------------------------------------------------------------\u001b[0m",
            "\u001b[0;31mTypeError\u001b[0m                                 Traceback (most recent call last)",
            "\u001b[0;32m<ipython-input-536-781be7b2ef26>\u001b[0m in \u001b[0;36m<module>\u001b[0;34m\u001b[0m\n\u001b[0;32m----> 1\u001b[0;31m \u001b[0ma\u001b[0m\u001b[0;34m.\u001b[0m\u001b[0mappend\u001b[0m\u001b[0;34m(\u001b[0m\u001b[0;36m1\u001b[0m\u001b[0;34m,\u001b[0m\u001b[0;36m2\u001b[0m\u001b[0;34m)\u001b[0m\u001b[0;34m\u001b[0m\u001b[0;34m\u001b[0m\u001b[0m\n\u001b[0m",
            "\u001b[0;31mTypeError\u001b[0m: append() takes exactly one argument (2 given)"
          ]
        }
      ]
    },
    {
      "cell_type": "code",
      "source": [
        "print(type(apple))"
      ],
      "metadata": {
        "colab": {
          "base_uri": "https://localhost:8080/"
        },
        "id": "9d5zRvH6-vp0",
        "outputId": "e5dea036-e480-4e54-afdb-dd6f1f05ed07"
      },
      "execution_count": 537,
      "outputs": [
        {
          "output_type": "stream",
          "name": "stdout",
          "text": [
            "<class '__main__.Mobile1'>\n"
          ]
        }
      ]
    },
    {
      "cell_type": "code",
      "source": [
        "a=Mobile1()"
      ],
      "metadata": {
        "colab": {
          "base_uri": "https://localhost:8080/"
        },
        "id": "fBbgWFCd-6s0",
        "outputId": "7aca0b36-99d9-4c7b-cac9-366660fd3484"
      },
      "execution_count": 538,
      "outputs": [
        {
          "output_type": "stream",
          "name": "stdout",
          "text": [
            "Class's self : 140489868770512\n"
          ]
        }
      ]
    },
    {
      "cell_type": "code",
      "source": [
        "class Mobile1:         # Blueprint\n",
        "  def __init__(self):   #constructor--> run bydefault\n",
        "    print(\"Class's self :\",id(self))\n",
        "    self.color=\"Black\"    # instance variable\n",
        "    self.ram=\"8GB\"\n",
        "    self.memory=\"128GB\"\n",
        "  \n",
        "  def calling(self,a):\n",
        "    print(\"We can call\",a)\n",
        "  \n",
        "  def texting(self):\n",
        "    print(\"Texting is possible\")\n",
        "\n",
        "\n"
      ],
      "metadata": {
        "id": "CbsIzdqo_DjU"
      },
      "execution_count": 539,
      "outputs": []
    },
    {
      "cell_type": "code",
      "source": [
        "class Atm:\n",
        "  def __init__(self):\n",
        "    self.pin=\"\"\n",
        "    self.balance=0\n",
        "  "
      ],
      "metadata": {
        "id": "lBpSJGN9_6H1"
      },
      "execution_count": 540,
      "outputs": []
    },
    {
      "cell_type": "code",
      "source": [
        "krishna=Atm()"
      ],
      "metadata": {
        "id": "UQ4FAY0wBfmV"
      },
      "execution_count": 541,
      "outputs": []
    },
    {
      "cell_type": "code",
      "source": [
        "krishna.balance"
      ],
      "metadata": {
        "colab": {
          "base_uri": "https://localhost:8080/"
        },
        "id": "UUhbmyFIBjaF",
        "outputId": "44e1543c-bb96-4753-9bfc-dcf83c12af7d"
      },
      "execution_count": 542,
      "outputs": [
        {
          "output_type": "execute_result",
          "data": {
            "text/plain": [
              "0"
            ]
          },
          "metadata": {},
          "execution_count": 542
        }
      ]
    },
    {
      "cell_type": "code",
      "source": [
        "krishna.balance=10000"
      ],
      "metadata": {
        "id": "Lx7Jkt8mBkqV"
      },
      "execution_count": 543,
      "outputs": []
    },
    {
      "cell_type": "code",
      "source": [
        "krishna.balance"
      ],
      "metadata": {
        "colab": {
          "base_uri": "https://localhost:8080/"
        },
        "id": "fuqJDiBhBoDV",
        "outputId": "09aa2b61-356f-4da7-ba3d-ee692f6b5ad0"
      },
      "execution_count": 544,
      "outputs": [
        {
          "output_type": "execute_result",
          "data": {
            "text/plain": [
              "10000"
            ]
          },
          "metadata": {},
          "execution_count": 544
        }
      ]
    },
    {
      "cell_type": "code",
      "source": [
        "alok=Atm()"
      ],
      "metadata": {
        "id": "7nO0HxxsBpEV"
      },
      "execution_count": 545,
      "outputs": []
    },
    {
      "cell_type": "code",
      "source": [
        "alok.balance"
      ],
      "metadata": {
        "colab": {
          "base_uri": "https://localhost:8080/"
        },
        "id": "_9WvG2DiBq4V",
        "outputId": "a495020e-b475-4b23-c420-6623419a262d"
      },
      "execution_count": 546,
      "outputs": [
        {
          "output_type": "execute_result",
          "data": {
            "text/plain": [
              "0"
            ]
          },
          "metadata": {},
          "execution_count": 546
        }
      ]
    },
    {
      "cell_type": "code",
      "source": [
        "alok.balance=9999"
      ],
      "metadata": {
        "id": "YNGIjGsDBsvm"
      },
      "execution_count": 547,
      "outputs": []
    },
    {
      "cell_type": "code",
      "source": [
        "anup=Atm()"
      ],
      "metadata": {
        "id": "B08fkPFlBvi3"
      },
      "execution_count": 548,
      "outputs": []
    },
    {
      "cell_type": "code",
      "source": [
        "anup.balance"
      ],
      "metadata": {
        "colab": {
          "base_uri": "https://localhost:8080/"
        },
        "id": "mZ-jIr39Byz6",
        "outputId": "c27065b1-2a93-4308-d9be-3b84e1c00168"
      },
      "execution_count": 549,
      "outputs": [
        {
          "output_type": "execute_result",
          "data": {
            "text/plain": [
              "0"
            ]
          },
          "metadata": {},
          "execution_count": 549
        }
      ]
    },
    {
      "cell_type": "code",
      "source": [
        "anup.balance=110000"
      ],
      "metadata": {
        "id": "6gFcqO3yB081"
      },
      "execution_count": 550,
      "outputs": []
    },
    {
      "cell_type": "code",
      "source": [
        "krishna.balance"
      ],
      "metadata": {
        "colab": {
          "base_uri": "https://localhost:8080/"
        },
        "id": "wZNoDUvHB3s3",
        "outputId": "ce58004f-895a-4c93-db95-8ad79f8fca42"
      },
      "execution_count": 551,
      "outputs": [
        {
          "output_type": "execute_result",
          "data": {
            "text/plain": [
              "10000"
            ]
          },
          "metadata": {},
          "execution_count": 551
        }
      ]
    },
    {
      "cell_type": "code",
      "source": [
        "alok.balance"
      ],
      "metadata": {
        "colab": {
          "base_uri": "https://localhost:8080/"
        },
        "id": "v1DyuiR6B8FV",
        "outputId": "01ebc950-ca6e-4e63-fa14-f30c3d188926"
      },
      "execution_count": 552,
      "outputs": [
        {
          "output_type": "execute_result",
          "data": {
            "text/plain": [
              "9999"
            ]
          },
          "metadata": {},
          "execution_count": 552
        }
      ]
    },
    {
      "cell_type": "code",
      "source": [
        "anup.balance"
      ],
      "metadata": {
        "colab": {
          "base_uri": "https://localhost:8080/"
        },
        "id": "R2j1IiNmB_al",
        "outputId": "456f2126-782c-4fd9-c363-693b21b5f40a"
      },
      "execution_count": 553,
      "outputs": [
        {
          "output_type": "execute_result",
          "data": {
            "text/plain": [
              "110000"
            ]
          },
          "metadata": {},
          "execution_count": 553
        }
      ]
    },
    {
      "cell_type": "code",
      "source": [
        "def krishna():\n",
        "  pin=\" \"\n",
        "  balance=0\n",
        "  print(pin)"
      ],
      "metadata": {
        "id": "_xSEHl7ZCBUl"
      },
      "execution_count": 554,
      "outputs": []
    },
    {
      "cell_type": "code",
      "source": [
        "krishna()"
      ],
      "metadata": {
        "colab": {
          "base_uri": "https://localhost:8080/"
        },
        "id": "l9tQ-KikCfiF",
        "outputId": "2f43ff6c-940e-4c4d-f091-62bc950ba350"
      },
      "execution_count": 555,
      "outputs": [
        {
          "output_type": "stream",
          "name": "stdout",
          "text": [
            " \n"
          ]
        }
      ]
    },
    {
      "cell_type": "code",
      "source": [
        "a=list()"
      ],
      "metadata": {
        "id": "66nD2ebwCjAF"
      },
      "execution_count": 556,
      "outputs": []
    },
    {
      "cell_type": "code",
      "source": [
        "class Mobile1:         # Blueprint\n",
        "  def __init__(self):   #constructor--> run bydefault\n",
        "    print(\"Class's self :\",id(self))\n",
        "    self.__color=\"Black\"    # instance variable\n",
        "    self.__ram=\"8GB\"\n",
        "    self.__memory=\"128GB\"\n",
        "  \n",
        "  def calling(self,a):\n",
        "    print(\"We can call\",a)\n",
        "  \n",
        "  def texting(self):\n",
        "    print(\"Texting is possible\")\n",
        "  \n",
        "  def color1(self):\n",
        "    print(self.__color)\n"
      ],
      "metadata": {
        "id": "IvYlCqaFDVzV"
      },
      "execution_count": 557,
      "outputs": []
    },
    {
      "cell_type": "code",
      "source": [
        "nokia=Mobile1()"
      ],
      "metadata": {
        "colab": {
          "base_uri": "https://localhost:8080/"
        },
        "id": "na0bJOPvDmSF",
        "outputId": "fc035230-eb7c-44dc-bf14-53f699c2504e"
      },
      "execution_count": 558,
      "outputs": [
        {
          "output_type": "stream",
          "name": "stdout",
          "text": [
            "Class's self : 140489868873168\n"
          ]
        }
      ]
    },
    {
      "cell_type": "code",
      "source": [
        "nokia._Mobile1__color=\"pink\""
      ],
      "metadata": {
        "id": "U4g_Le7oDohG"
      },
      "execution_count": 559,
      "outputs": []
    },
    {
      "cell_type": "code",
      "source": [
        "nokia.color1()"
      ],
      "metadata": {
        "colab": {
          "base_uri": "https://localhost:8080/"
        },
        "id": "wV7bUpjlEHaX",
        "outputId": "80480c4c-8750-4ecb-8464-5e1b1be6958c"
      },
      "execution_count": 560,
      "outputs": [
        {
          "output_type": "stream",
          "name": "stdout",
          "text": [
            "pink\n"
          ]
        }
      ]
    },
    {
      "cell_type": "code",
      "source": [
        "nokia._Mobile1__color"
      ],
      "metadata": {
        "colab": {
          "base_uri": "https://localhost:8080/",
          "height": 36
        },
        "id": "Pq0dqvsCERsW",
        "outputId": "3ead0f36-6550-4974-eb85-6464d422ede2"
      },
      "execution_count": 561,
      "outputs": [
        {
          "output_type": "execute_result",
          "data": {
            "text/plain": [
              "'pink'"
            ],
            "application/vnd.google.colaboratory.intrinsic+json": {
              "type": "string"
            }
          },
          "metadata": {},
          "execution_count": 561
        }
      ]
    },
    {
      "cell_type": "code",
      "source": [
        "nokia.__color=\"Orange\""
      ],
      "metadata": {
        "id": "2XwFu2fpEZ6G"
      },
      "execution_count": 562,
      "outputs": []
    },
    {
      "cell_type": "code",
      "source": [
        "nokia.__color"
      ],
      "metadata": {
        "colab": {
          "base_uri": "https://localhost:8080/",
          "height": 36
        },
        "id": "DVD_WehxEhFW",
        "outputId": "6d484703-6716-43d7-a507-07b1617807d3"
      },
      "execution_count": 563,
      "outputs": [
        {
          "output_type": "execute_result",
          "data": {
            "text/plain": [
              "'Orange'"
            ],
            "application/vnd.google.colaboratory.intrinsic+json": {
              "type": "string"
            }
          },
          "metadata": {},
          "execution_count": 563
        }
      ]
    },
    {
      "cell_type": "code",
      "source": [
        "nokia.color1()"
      ],
      "metadata": {
        "colab": {
          "base_uri": "https://localhost:8080/"
        },
        "id": "jKIUgpjREjcW",
        "outputId": "9f9c9db2-8f85-49d2-e984-decf41bec8ca"
      },
      "execution_count": 564,
      "outputs": [
        {
          "output_type": "stream",
          "name": "stdout",
          "text": [
            "pink\n"
          ]
        }
      ]
    },
    {
      "cell_type": "code",
      "source": [
        "class Mobile1:         # Blueprint\n",
        "  def __init__(self,a,b,c):   #constructor--> run bydefault\n",
        "    self.__color=a    # instance variable\n",
        "    self.__ram=b\n",
        "    self.__memory=c\n",
        "  \n",
        "  def calling(self,a=0):\n",
        "    print(\"We can call\",a)\n",
        "  \n",
        "  def texting(self):\n",
        "    print(\"Texting is possible\")\n",
        "  \n",
        "  def color1(self):\n",
        "    print(self.__color)\n",
        "\n"
      ],
      "metadata": {
        "id": "UqElFtiyEpEX"
      },
      "execution_count": 565,
      "outputs": []
    },
    {
      "cell_type": "code",
      "source": [
        "apple=Mobile1(\"Black\",'8gb','128gb')"
      ],
      "metadata": {
        "id": "GtIIJabl9G4W"
      },
      "execution_count": 566,
      "outputs": []
    },
    {
      "cell_type": "code",
      "source": [
        "apple.calling(\"1hr\")"
      ],
      "metadata": {
        "colab": {
          "base_uri": "https://localhost:8080/"
        },
        "id": "tkNcWO5u9I8G",
        "outputId": "ebe5c132-51df-45d1-b300-a9d5da1e8595"
      },
      "execution_count": 567,
      "outputs": [
        {
          "output_type": "stream",
          "name": "stdout",
          "text": [
            "We can call 1hr\n"
          ]
        }
      ]
    },
    {
      "cell_type": "code",
      "source": [
        "apple.calling()"
      ],
      "metadata": {
        "colab": {
          "base_uri": "https://localhost:8080/"
        },
        "id": "AIYnFRX59dim",
        "outputId": "8d4ae1d6-9ff2-455d-a817-2cd612401893"
      },
      "execution_count": 568,
      "outputs": [
        {
          "output_type": "stream",
          "name": "stdout",
          "text": [
            "We can call 0\n"
          ]
        }
      ]
    },
    {
      "cell_type": "code",
      "source": [
        "class seller:\n",
        "  def signup(self):\n",
        "    print(\"Signup\")\n",
        "  def login(self):\n",
        "    print(\"login\")\n",
        "  def sell(self):\n",
        "    print(\"Sell\")\n",
        "    \n",
        "class buyer:\n",
        "  def signup(self):\n",
        "    print(\"Signup\")\n",
        "  def login(self):\n",
        "    print(\"login\")\n",
        "  def buy(self):\n",
        "    print(\"buy\")"
      ],
      "metadata": {
        "id": "mWCGIQGq9yp1"
      },
      "execution_count": 569,
      "outputs": []
    },
    {
      "cell_type": "code",
      "source": [
        "krishna=buyer()"
      ],
      "metadata": {
        "id": "DfsuboL3AQQ3"
      },
      "execution_count": 570,
      "outputs": []
    },
    {
      "cell_type": "code",
      "source": [
        "krishna.buy()"
      ],
      "metadata": {
        "colab": {
          "base_uri": "https://localhost:8080/"
        },
        "id": "-RvuA1xdAU_G",
        "outputId": "d03417b1-da50-48d0-e6e5-bacb13a96f85"
      },
      "execution_count": 571,
      "outputs": [
        {
          "output_type": "stream",
          "name": "stdout",
          "text": [
            "buy\n"
          ]
        }
      ]
    },
    {
      "cell_type": "code",
      "source": [
        "Rohan=seller()"
      ],
      "metadata": {
        "id": "2sdXZZEJAYh2"
      },
      "execution_count": 572,
      "outputs": []
    },
    {
      "cell_type": "code",
      "source": [
        "Rohan.sell()"
      ],
      "metadata": {
        "colab": {
          "base_uri": "https://localhost:8080/"
        },
        "id": "WOEcvGD6AaXF",
        "outputId": "c5b1a7f5-e746-4ee2-adb8-84218cdeb48a"
      },
      "execution_count": 573,
      "outputs": [
        {
          "output_type": "stream",
          "name": "stdout",
          "text": [
            "Sell\n"
          ]
        }
      ]
    },
    {
      "cell_type": "code",
      "source": [
        "class signuplogin:\n",
        "  def signup(self):\n",
        "    print(\"Signup\")\n",
        "  def login(self):\n",
        "    print(\"login\")\n",
        "\n",
        "class seller(signuplogin):\n",
        "  def sell(self):\n",
        "    print(\"Sell\")\n",
        "    \n",
        "class buyer(signuplogin):\n",
        "  def buy(self):\n",
        "    print(\"buy\")"
      ],
      "metadata": {
        "id": "ZTZ3LfBWAc6G"
      },
      "execution_count": 574,
      "outputs": []
    },
    {
      "cell_type": "code",
      "source": [
        "krishna=buyer()"
      ],
      "metadata": {
        "id": "RLXtqV-iA55m"
      },
      "execution_count": 575,
      "outputs": []
    },
    {
      "cell_type": "code",
      "source": [
        "krishna.login()"
      ],
      "metadata": {
        "colab": {
          "base_uri": "https://localhost:8080/"
        },
        "id": "0AninMifA8sW",
        "outputId": "295f80a5-bcae-4515-8209-501f024c715c"
      },
      "execution_count": 576,
      "outputs": [
        {
          "output_type": "stream",
          "name": "stdout",
          "text": [
            "login\n"
          ]
        }
      ]
    },
    {
      "cell_type": "code",
      "source": [
        "Rohan=seller()"
      ],
      "metadata": {
        "id": "nxrjJwGLBAW2"
      },
      "execution_count": 577,
      "outputs": []
    },
    {
      "cell_type": "code",
      "source": [
        "class shambhu:\n",
        "  def bag(self):\n",
        "    print(\"I have a bag\")"
      ],
      "metadata": {
        "id": "q1IloolyBCF2"
      },
      "execution_count": 578,
      "outputs": []
    },
    {
      "cell_type": "code",
      "source": [
        "class Anisha(shambhu):\n",
        "  def car(self):\n",
        "    print(\"I have a car\")\n"
      ],
      "metadata": {
        "id": "PmxgooxlES9H"
      },
      "execution_count": 579,
      "outputs": []
    },
    {
      "cell_type": "code",
      "source": [
        "Shambhu=shambhu()"
      ],
      "metadata": {
        "id": "CERmM9PtEmj4"
      },
      "execution_count": 580,
      "outputs": []
    },
    {
      "cell_type": "code",
      "source": [
        "anisha1=Anisha()"
      ],
      "metadata": {
        "id": "vDtHuSwIE05H"
      },
      "execution_count": 581,
      "outputs": []
    },
    {
      "cell_type": "code",
      "source": [
        "class shambhu(Anisha):\n",
        "  def __init__(krishna):\n",
        "    krishna.a=input(\"Enter your car name:\")\n",
        "  def bag(krishna):\n",
        "    print(\"I have a bag\",krishna.a)\n",
        "  def car(krishna):\n",
        "    print(\"I also have a car\",krishna.a)\n",
        "class Anisha:\n",
        "  def car(krishna):\n",
        "    print(\"I have a car\")"
      ],
      "metadata": {
        "id": "Lqn4yXBwFO-I"
      },
      "execution_count": 588,
      "outputs": []
    },
    {
      "cell_type": "code",
      "source": [
        "a=Anisha()"
      ],
      "metadata": {
        "id": "gX8px1p-Fjus"
      },
      "execution_count": 589,
      "outputs": []
    },
    {
      "cell_type": "code",
      "source": [
        "s=shambhu()"
      ],
      "metadata": {
        "colab": {
          "base_uri": "https://localhost:8080/"
        },
        "id": "vs0C0CHzFscK",
        "outputId": "f10f840e-c5f9-477a-cefb-4a546fc57d5f"
      },
      "execution_count": 590,
      "outputs": [
        {
          "name": "stdout",
          "output_type": "stream",
          "text": [
            "Enter your car name:1\n"
          ]
        }
      ]
    },
    {
      "cell_type": "code",
      "source": [
        "s.car()"
      ],
      "metadata": {
        "colab": {
          "base_uri": "https://localhost:8080/"
        },
        "id": "5LyRgBR5Fw0e",
        "outputId": "362e8614-4cd8-406f-ddc4-e5c370d95c0d"
      },
      "execution_count": 591,
      "outputs": [
        {
          "output_type": "stream",
          "name": "stdout",
          "text": [
            "I also have a car 1\n"
          ]
        }
      ]
    },
    {
      "cell_type": "code",
      "source": [
        "class randheer:\n",
        "  def __init__(krishna):\n",
        "    print(\"My sun will become a goverenment servent\")\n",
        "\n",
        "  def property(krishna):\n",
        "    print(\"I am shambhu's father\")\n",
        "\n",
        "class shambhu:\n",
        "  def __init__(krishna):\n",
        "    print(\"My son will become AI\")\n",
        "  def bag(krishna):\n",
        "    print(\"I have a bag\")\n",
        "  def car(krishna):\n",
        "    print(\"I also have a car\")\n",
        "\n",
        "class Anisha:\n",
        "  def __init__(krishna):\n",
        "    print(\"My son will become Shahrukh khan\")\n",
        "  def car(krishna):\n",
        "    print(\"I have a car\")\n",
        "\n",
        "class child(randheer,shambhu,Anisha):\n",
        "  def __init__(krishna):\n",
        "    print(\"I will cricketer\")"
      ],
      "metadata": {
        "id": "kaPAhqF2HRx5"
      },
      "execution_count": 592,
      "outputs": []
    },
    {
      "cell_type": "code",
      "source": [
        "dev=child()"
      ],
      "metadata": {
        "colab": {
          "base_uri": "https://localhost:8080/"
        },
        "id": "f94WPxAHIn7a",
        "outputId": "8c052b7a-8eb0-4b08-c717-342e2be0a3b4"
      },
      "execution_count": 593,
      "outputs": [
        {
          "output_type": "stream",
          "name": "stdout",
          "text": [
            "I will cricketer\n"
          ]
        }
      ]
    },
    {
      "cell_type": "code",
      "source": [
        "class randheer:\n",
        "  def __init__(krishna):\n",
        "    print(\"My sun will become a goverenment servent\")\n",
        "\n",
        "  def property(krishna):\n",
        "    print(\"I am shambhu's father\")\n",
        "\n",
        "class shambhu(randheer):\n",
        "  def __init__(krishna):\n",
        "    super().__init__()\n",
        "    print(\"My son will become AI\")\n",
        "  def bag(krishna):\n",
        "    print(\"I have a bag\")\n",
        "  def car(krishna):\n",
        "    print(\"I also have a car\")\n",
        "\n",
        "class Anisha(shambhu):\n",
        "  def __init__(krishna):\n",
        "    super().__init__()\n",
        "    print(\"My son will become Shahrukh khan\")\n",
        "  def car(krishna):\n",
        "    print(\"I have a car\")\n",
        "\n",
        "class child(Anisha):\n",
        "  def __init__(krishna):\n",
        "    super().__init__()\n",
        "    print(\"I will cricketer\")"
      ],
      "metadata": {
        "id": "16sH7l4nIpaJ"
      },
      "execution_count": 594,
      "outputs": []
    },
    {
      "cell_type": "code",
      "source": [
        "dev=child()"
      ],
      "metadata": {
        "colab": {
          "base_uri": "https://localhost:8080/"
        },
        "id": "Q67ABnYkPjQY",
        "outputId": "438f42c7-79ff-4302-bad7-e46f94898d18"
      },
      "execution_count": 595,
      "outputs": [
        {
          "output_type": "stream",
          "name": "stdout",
          "text": [
            "My sun will become a goverenment servent\n",
            "My son will become AI\n",
            "My son will become Shahrukh khan\n",
            "I will cricketer\n"
          ]
        }
      ]
    },
    {
      "cell_type": "markdown",
      "source": [
        "# Polymorphism (Poly means many and morph means form)\n",
        "\n",
        "> python support method overriding \n",
        "\n",
        "> python does not support method overloading\n",
        "\n",
        "> python does not support constructor overloading\n"
      ],
      "metadata": {
        "id": "yLFq1HapPno5"
      }
    },
    {
      "cell_type": "code",
      "source": [
        "a=10"
      ],
      "metadata": {
        "id": "MccXwwaa1x35"
      },
      "execution_count": 596,
      "outputs": []
    },
    {
      "cell_type": "code",
      "source": [
        "print(a)"
      ],
      "metadata": {
        "colab": {
          "base_uri": "https://localhost:8080/"
        },
        "id": "PzK7W3A00hV5",
        "outputId": "76a6b000-310c-413e-d872-6f86f9c81568"
      },
      "execution_count": 597,
      "outputs": [
        {
          "output_type": "stream",
          "name": "stdout",
          "text": [
            "10\n"
          ]
        }
      ]
    },
    {
      "cell_type": "code",
      "source": [
        "a=20"
      ],
      "metadata": {
        "id": "4ItyXwkQ1zhY"
      },
      "execution_count": 598,
      "outputs": []
    },
    {
      "cell_type": "code",
      "source": [
        "print(a)"
      ],
      "metadata": {
        "colab": {
          "base_uri": "https://localhost:8080/"
        },
        "id": "6elwYzpP10MY",
        "outputId": "8d082e3f-3c83-45e0-c3b4-79fba2bbbaba"
      },
      "execution_count": 599,
      "outputs": [
        {
          "output_type": "stream",
          "name": "stdout",
          "text": [
            "20\n"
          ]
        }
      ]
    },
    {
      "cell_type": "code",
      "source": [
        "def sum(a,b,c=0):\n",
        "  print(a+b+c)"
      ],
      "metadata": {
        "id": "OawC_4Uj10vI"
      },
      "execution_count": 600,
      "outputs": []
    },
    {
      "cell_type": "code",
      "source": [
        "sum(2,4)"
      ],
      "metadata": {
        "colab": {
          "base_uri": "https://localhost:8080/"
        },
        "id": "Jzlf5qAn4_xp",
        "outputId": "6dc217cb-43ea-41e5-a32f-a28881717b5c"
      },
      "execution_count": 601,
      "outputs": [
        {
          "output_type": "stream",
          "name": "stdout",
          "text": [
            "6\n"
          ]
        }
      ]
    },
    {
      "cell_type": "code",
      "source": [
        "sum(2,3,4)"
      ],
      "metadata": {
        "colab": {
          "base_uri": "https://localhost:8080/"
        },
        "id": "-OgBdnNw5BLY",
        "outputId": "912a6575-6539-456c-e033-c5fd0af26494"
      },
      "execution_count": 602,
      "outputs": [
        {
          "output_type": "stream",
          "name": "stdout",
          "text": [
            "9\n"
          ]
        }
      ]
    },
    {
      "cell_type": "markdown",
      "source": [
        "# multithreading"
      ],
      "metadata": {
        "id": "fp20D1lp5C8J"
      }
    },
    {
      "cell_type": "code",
      "source": [
        "def greet():\n",
        "  print(\"Hello\")\n",
        "\n",
        "def name():\n",
        "  user=input(\"Enter your name:\")\n",
        "  print(f\"Hello {user}\")\n",
        "\n",
        "def bye():\n",
        "  print(\"Bye sir\")"
      ],
      "metadata": {
        "id": "0HxlZ_qw52nZ"
      },
      "execution_count": 603,
      "outputs": []
    },
    {
      "cell_type": "code",
      "source": [
        "greet()\n",
        "name()\n",
        "bye()"
      ],
      "metadata": {
        "colab": {
          "base_uri": "https://localhost:8080/"
        },
        "id": "a3YjHQKQ75yY",
        "outputId": "68762098-e8e6-4299-befb-0a92f33a4638"
      },
      "execution_count": 604,
      "outputs": [
        {
          "output_type": "stream",
          "name": "stdout",
          "text": [
            "Hello\n",
            "Enter your name:\n",
            "Hello \n",
            "Bye sir\n"
          ]
        }
      ]
    },
    {
      "cell_type": "code",
      "source": [
        "from threading import Thread"
      ],
      "metadata": {
        "id": "SW5Y2u8g8AwH"
      },
      "execution_count": 605,
      "outputs": []
    },
    {
      "cell_type": "code",
      "source": [
        "def greet():\n",
        "  print(\"Hello\")\n",
        "\n",
        "def name():\n",
        "  user=input(\"Enter your name:\")\n",
        "  print(f\"Hello {user}\")\n",
        "\n",
        "def bye():\n",
        "  print(\"Bye sir\")\n",
        "\n",
        "\n",
        "t1=Thread(target=greet,name=\"krishna1\")\n",
        "t2=Thread(target=name,name=\"krishna2\")\n",
        "t3=Thread(target=bye,name=\"krishna3\")\n",
        "\n",
        "t1.start()\n",
        "t2.start()\n",
        "t3.start()"
      ],
      "metadata": {
        "colab": {
          "base_uri": "https://localhost:8080/"
        },
        "id": "oKKZq1Wo82-H",
        "outputId": "da2403f6-3be4-4954-9a61-3e25d03a0e2c"
      },
      "execution_count": 606,
      "outputs": [
        {
          "output_type": "stream",
          "name": "stdout",
          "text": [
            "HelloBye sir\n",
            "\n"
          ]
        }
      ]
    },
    {
      "cell_type": "code",
      "source": [
        "def greet():\n",
        "  print(\"Hello\")\n",
        "\n",
        "def name():\n",
        "  user=input(\"Enter your name:\")\n",
        "  print(f\"Hello {us}\")\n",
        "\n",
        "def bye():\n",
        "  print(\"Bye sir\")\n",
        "\n",
        "\n",
        "t1=Thread(target=greet,name=\"krishna1\")\n",
        "t2=Thread(target=name,name=\"krishna2\")\n",
        "t3=Thread(target=bye,name=\"krishna3\")\n",
        "\n",
        "t1.start()\n",
        "t2.start()\n",
        "t3.start()"
      ],
      "metadata": {
        "id": "fZ3pr3FI-ddU"
      },
      "execution_count": null,
      "outputs": []
    },
    {
      "cell_type": "code",
      "source": [
        "print(\"krishna\")"
      ],
      "metadata": {
        "colab": {
          "base_uri": "https://localhost:8080/"
        },
        "id": "VgWJ5a79_Tam",
        "outputId": "e16af19e-0447-4307-d1d7-8361fe32ed7b"
      },
      "execution_count": 4,
      "outputs": [
        {
          "output_type": "stream",
          "name": "stdout",
          "text": [
            "krishna\n"
          ]
        }
      ]
    },
    {
      "cell_type": "code",
      "source": [
        "import threading"
      ],
      "metadata": {
        "id": "UUoMe4lYDFo3"
      },
      "execution_count": 5,
      "outputs": []
    },
    {
      "cell_type": "code",
      "source": [
        "threading.main_thread()"
      ],
      "metadata": {
        "colab": {
          "base_uri": "https://localhost:8080/"
        },
        "id": "9ySCN1zXDLIY",
        "outputId": "06ca6632-2135-4996-97b8-6585711c8908"
      },
      "execution_count": 6,
      "outputs": [
        {
          "output_type": "execute_result",
          "data": {
            "text/plain": [
              "<_MainThread(MainThread, started 140337427965824)>"
            ]
          },
          "metadata": {},
          "execution_count": 6
        }
      ]
    },
    {
      "cell_type": "code",
      "source": [
        "a=\"KrIshna\"\n",
        "if a.lower()==\"krishna\":\n",
        "  print(\"both are same\")\n",
        "else:\n",
        "  print(\"Both are not same\")"
      ],
      "metadata": {
        "colab": {
          "base_uri": "https://localhost:8080/"
        },
        "id": "_4VHVB80DRKn",
        "outputId": "cd54d7a8-73f6-4f67-aa3a-7414dd4cb82e"
      },
      "execution_count": 8,
      "outputs": [
        {
          "output_type": "stream",
          "name": "stdout",
          "text": [
            "both are same\n"
          ]
        }
      ]
    },
    {
      "cell_type": "code",
      "source": [
        "a"
      ],
      "metadata": {
        "colab": {
          "base_uri": "https://localhost:8080/",
          "height": 36
        },
        "id": "WF-W17lzNVkV",
        "outputId": "3dcd1dc2-e715-43b6-f313-760b7b7824a8"
      },
      "execution_count": 9,
      "outputs": [
        {
          "output_type": "execute_result",
          "data": {
            "text/plain": [
              "'KrIshna'"
            ],
            "application/vnd.google.colaboratory.intrinsic+json": {
              "type": "string"
            }
          },
          "metadata": {},
          "execution_count": 9
        }
      ]
    },
    {
      "cell_type": "code",
      "source": [
        "a.lower()"
      ],
      "metadata": {
        "colab": {
          "base_uri": "https://localhost:8080/",
          "height": 36
        },
        "id": "njrM_kH1NX6H",
        "outputId": "2c0ad05f-4b97-4ad9-fbc1-589282aed96f"
      },
      "execution_count": 10,
      "outputs": [
        {
          "output_type": "execute_result",
          "data": {
            "text/plain": [
              "'krishna'"
            ],
            "application/vnd.google.colaboratory.intrinsic+json": {
              "type": "string"
            }
          },
          "metadata": {},
          "execution_count": 10
        }
      ]
    },
    {
      "cell_type": "code",
      "source": [
        "help(list)"
      ],
      "metadata": {
        "colab": {
          "base_uri": "https://localhost:8080/"
        },
        "id": "Nckj12ReNaFH",
        "outputId": "9fcc94a1-1352-4485-bad9-b4fab69de778"
      },
      "execution_count": 11,
      "outputs": [
        {
          "output_type": "stream",
          "name": "stdout",
          "text": [
            "Help on class list in module builtins:\n",
            "\n",
            "class list(object)\n",
            " |  list(iterable=(), /)\n",
            " |  \n",
            " |  Built-in mutable sequence.\n",
            " |  \n",
            " |  If no argument is given, the constructor creates a new empty list.\n",
            " |  The argument must be an iterable if specified.\n",
            " |  \n",
            " |  Methods defined here:\n",
            " |  \n",
            " |  __add__(self, value, /)\n",
            " |      Return self+value.\n",
            " |  \n",
            " |  __contains__(self, key, /)\n",
            " |      Return key in self.\n",
            " |  \n",
            " |  __delitem__(self, key, /)\n",
            " |      Delete self[key].\n",
            " |  \n",
            " |  __eq__(self, value, /)\n",
            " |      Return self==value.\n",
            " |  \n",
            " |  __ge__(self, value, /)\n",
            " |      Return self>=value.\n",
            " |  \n",
            " |  __getattribute__(self, name, /)\n",
            " |      Return getattr(self, name).\n",
            " |  \n",
            " |  __getitem__(...)\n",
            " |      x.__getitem__(y) <==> x[y]\n",
            " |  \n",
            " |  __gt__(self, value, /)\n",
            " |      Return self>value.\n",
            " |  \n",
            " |  __iadd__(self, value, /)\n",
            " |      Implement self+=value.\n",
            " |  \n",
            " |  __imul__(self, value, /)\n",
            " |      Implement self*=value.\n",
            " |  \n",
            " |  __init__(self, /, *args, **kwargs)\n",
            " |      Initialize self.  See help(type(self)) for accurate signature.\n",
            " |  \n",
            " |  __iter__(self, /)\n",
            " |      Implement iter(self).\n",
            " |  \n",
            " |  __le__(self, value, /)\n",
            " |      Return self<=value.\n",
            " |  \n",
            " |  __len__(self, /)\n",
            " |      Return len(self).\n",
            " |  \n",
            " |  __lt__(self, value, /)\n",
            " |      Return self<value.\n",
            " |  \n",
            " |  __mul__(self, value, /)\n",
            " |      Return self*value.\n",
            " |  \n",
            " |  __ne__(self, value, /)\n",
            " |      Return self!=value.\n",
            " |  \n",
            " |  __repr__(self, /)\n",
            " |      Return repr(self).\n",
            " |  \n",
            " |  __reversed__(self, /)\n",
            " |      Return a reverse iterator over the list.\n",
            " |  \n",
            " |  __rmul__(self, value, /)\n",
            " |      Return value*self.\n",
            " |  \n",
            " |  __setitem__(self, key, value, /)\n",
            " |      Set self[key] to value.\n",
            " |  \n",
            " |  __sizeof__(self, /)\n",
            " |      Return the size of the list in memory, in bytes.\n",
            " |  \n",
            " |  append(self, object, /)\n",
            " |      Append object to the end of the list.\n",
            " |  \n",
            " |  clear(self, /)\n",
            " |      Remove all items from list.\n",
            " |  \n",
            " |  copy(self, /)\n",
            " |      Return a shallow copy of the list.\n",
            " |  \n",
            " |  count(self, value, /)\n",
            " |      Return number of occurrences of value.\n",
            " |  \n",
            " |  extend(self, iterable, /)\n",
            " |      Extend list by appending elements from the iterable.\n",
            " |  \n",
            " |  index(self, value, start=0, stop=9223372036854775807, /)\n",
            " |      Return first index of value.\n",
            " |      \n",
            " |      Raises ValueError if the value is not present.\n",
            " |  \n",
            " |  insert(self, index, object, /)\n",
            " |      Insert object before index.\n",
            " |  \n",
            " |  pop(self, index=-1, /)\n",
            " |      Remove and return item at index (default last).\n",
            " |      \n",
            " |      Raises IndexError if list is empty or index is out of range.\n",
            " |  \n",
            " |  remove(self, value, /)\n",
            " |      Remove first occurrence of value.\n",
            " |      \n",
            " |      Raises ValueError if the value is not present.\n",
            " |  \n",
            " |  reverse(self, /)\n",
            " |      Reverse *IN PLACE*.\n",
            " |  \n",
            " |  sort(self, /, *, key=None, reverse=False)\n",
            " |      Stable sort *IN PLACE*.\n",
            " |  \n",
            " |  ----------------------------------------------------------------------\n",
            " |  Static methods defined here:\n",
            " |  \n",
            " |  __new__(*args, **kwargs) from builtins.type\n",
            " |      Create and return a new object.  See help(type) for accurate signature.\n",
            " |  \n",
            " |  ----------------------------------------------------------------------\n",
            " |  Data and other attributes defined here:\n",
            " |  \n",
            " |  __hash__ = None\n",
            "\n"
          ]
        }
      ]
    },
    {
      "cell_type": "code",
      "source": [],
      "metadata": {
        "id": "B3H6x2lNOfzn"
      },
      "execution_count": 11,
      "outputs": []
    }
  ]
}